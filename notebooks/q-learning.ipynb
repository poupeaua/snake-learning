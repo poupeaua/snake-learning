{
 "cells": [
  {
   "cell_type": "markdown",
   "metadata": {},
   "source": [
    "# Q-Learning"
   ]
  },
  {
   "cell_type": "markdown",
   "metadata": {},
   "source": [
    "Q-learning snake using the simple technique Q-learning with a Q-Table and Experience Replay with a focus on replaying the experience when the snake dies (sort of Dying Specialized Experience Replay)."
   ]
  },
  {
   "cell_type": "markdown",
   "metadata": {},
   "source": [
    "## Initialization"
   ]
  },
  {
   "cell_type": "code",
   "execution_count": 1,
   "metadata": {},
   "outputs": [],
   "source": [
    "import os\n",
    "import sys\n",
    "import cv2\n",
    "import IPython\n",
    "from PIL import Image\n",
    "from datetime import datetime\n",
    "import multiprocessing\n",
    "import matplotlib.pyplot as plt\n",
    "from tqdm import tqdm\n",
    "import numpy as np # linear algebra\n",
    "from scipy.spatial import distance_matrix\n",
    "import pandas as pd # data processing, CSV file I/O (e.g. pd.read_csv)\n",
    "import tensorflow as tf"
   ]
  },
  {
   "cell_type": "code",
   "execution_count": 2,
   "metadata": {},
   "outputs": [],
   "source": [
    "COLOR = {\"red\": [234, 15, 25],\n",
    "         \"black\": [8, 30, 7],\n",
    "         \"white\": [224, 250, 248],\n",
    "         \"yellow\": [237, 229, 36],\n",
    "         \"orange\": [245, 204, 0],\n",
    "         \"grey\": [129, 121, 137],\n",
    "         \"purple\": [153, 0, 204],\n",
    "         \"green\": [51, 214, 51],\n",
    "         \"pink\": [266, 142, 204],\n",
    "         \"brown\": [153, 102, 0], \n",
    "         \"blue\": [102, 102, 255],\n",
    "         \"marine\": [8, 158, 170]}"
   ]
  },
  {
   "cell_type": "code",
   "execution_count": 3,
   "metadata": {},
   "outputs": [],
   "source": [
    "LEARNING_STYLE = \"q_learning\""
   ]
  },
  {
   "cell_type": "markdown",
   "metadata": {},
   "source": [
    "## Environment"
   ]
  },
  {
   "cell_type": "code",
   "execution_count": 4,
   "metadata": {},
   "outputs": [],
   "source": [
    "class Environment:\n",
    "    # we consider grid values standardized in [0, 1]\n",
    "    # we consider grid colors in RGB in lists such as [0, 128, 255]\n",
    "    \n",
    "    def __init__(self,\n",
    "                 n_row=9, \n",
    "                 n_col=9,\n",
    "                 agent_value = 0.66,\n",
    "                 agent_head_value = 1,\n",
    "                 food_value=0.33,\n",
    "                 background_value=0,\n",
    "                 agent_color = \"yellow\",\n",
    "                 agent_head_color = \"marine\",\n",
    "                 food_color = \"red\",\n",
    "                 background_color = \"black\",\n",
    "                 image_shape = (64, 64, 3),\n",
    "                 reward_hit_wall=-500,\n",
    "                 reward_eat_yourself=-500,\n",
    "                 reward_move=-10,\n",
    "                 reward_eat_food=100,\n",
    "                 nn_input_mode=\"feature\"):\n",
    "        self.img_shape = image_shape\n",
    "        self.feature_size = 12\n",
    "        self.nn_input_mode = nn_input_mode\n",
    "        self.nn_input_config = {\"image\": {\"shape\": self.img_shape, \"pfunc\": self.get_image_grid},\n",
    "                             \"feature\": {\"shape\": self.feature_size, \"pfunc\": self.get_feature_state}}\n",
    "        self.n_row = n_row\n",
    "        self.n_col = n_col\n",
    "        self.grid_shape = (n_row, n_col)\n",
    "        self.agent_color = COLOR[agent_color] \n",
    "        self.agent_head_color = COLOR[agent_head_color] \n",
    "        self.food_color = COLOR[food_color]\n",
    "        self.background_color = COLOR[background_color]\n",
    "        self.agent_value = agent_value\n",
    "        self.agent_head_value = agent_head_value\n",
    "        self.food_value = food_value\n",
    "        self.background_value = background_value\n",
    "        self.grid = np.empty(shape=self.grid_shape)\n",
    "        self.food_pos = np.empty(shape=2)\n",
    "        self.reward = {'hit_wall': reward_hit_wall,\n",
    "                       'eat_yourself': reward_eat_yourself,\n",
    "                       'move': reward_move,\n",
    "                       'eat_food': reward_eat_food}\n",
    "        self.dict_val_to_color = {self.background_value: self.background_color,\n",
    "                             self.food_value: self.food_color,\n",
    "                             self.agent_value: self.agent_color,\n",
    "                             self.agent_head_value: self.agent_head_color}\n",
    "        self.start()\n",
    "        \n",
    "    def start(self):\n",
    "        \"\"\" Clean the grid entirely including the food\"\"\"\n",
    "        self.grid = np.zeros(shape=self.grid_shape) + self.background_value\n",
    "        \n",
    "    def update(self, agent):\n",
    "        # clean the agent from the grid\n",
    "        self.grid[np.where(self.grid == self.agent_value)] = self.background_value\n",
    "        \n",
    "        # re-position the agent on the grid\n",
    "        for pos in agent.position[:-1]:\n",
    "            self.grid[pos[0], pos[1]] = self.agent_value\n",
    "        self.grid[agent.head[0], agent.head[1]] = self.agent_head_value\n",
    "            \n",
    "        # re-position the food if eaten\n",
    "        if self.food_value not in self.grid:\n",
    "            food_pos = np.array([np.random.randint(0, self.n_row-1), np.random.randint(0, self.n_col-1)])\n",
    "            while np.array([np.array_equal(body_pos, food_pos) for body_pos in agent.position]).any():\n",
    "                food_pos = np.array([np.random.randint(0, self.n_row-1), np.random.randint(0, self.n_col-1)])\n",
    "            self.food_pos = food_pos\n",
    "            self.grid[food_pos[0], food_pos[1]] = self.food_value\n",
    "        \n",
    "    def _is_wall(self, pos):\n",
    "        return pos[0] >= np.max(self.n_row) or pos[1] >= np.max(self.n_col) or np.min(pos) <= -1\n",
    "    \n",
    "    def _is_tail(self, pos, agent):\n",
    "        return np.array([np.array_equal(body_pos, pos) for body_pos in agent.position[:-1]]).any()\n",
    "            \n",
    "    def get_feature_state(self, agent):\n",
    "        \"\"\" Return a feature vector of SIZE 12 representing the current state\"\"\"\n",
    "        # snake direction\n",
    "        direction = agent.head - agent.position[-2]\n",
    "        feature_dir = agent.action_to_feature[str(direction)]\n",
    "\n",
    "        # immediate danger\n",
    "        feature_dangers = np.zeros(shape=4)\n",
    "        for i, action in enumerate(list(agent.action_dict.keys())):\n",
    "            cur_pos = agent.head+agent.action_dict[action]\n",
    "            feature_dangers[i] = 1 * (self._is_wall(pos=cur_pos) or \\\n",
    "                                      (self._is_tail(pos=cur_pos, agent=agent) and \\\n",
    "                                       not np.array_equal(cur_pos, agent.position[-2])))\n",
    "        \n",
    "        # food position relative to the head\n",
    "        rel_pos = self.food_pos-agent.head\n",
    "        up_down_dir = np.array([int(rel_pos[0]/np.abs(rel_pos[0])) if rel_pos[0] != 0 else 0, 0])\n",
    "        left_right_dir = np.array([0, int(rel_pos[1]/np.abs(rel_pos[1])) if rel_pos[1] != 0 else 0])\n",
    "        feature_rel_food_head = agent.action_to_feature[str(up_down_dir)] + agent.action_to_feature[str(left_right_dir)]\n",
    "        \n",
    "        # concatenate all the features\n",
    "        nn_input = tf.concat([feature_dir, feature_dangers, feature_rel_food_head], axis=0)\n",
    "        nn_input = tf.expand_dims(nn_input, axis=0) # extend batch\n",
    "        nn_input = tf.cast(nn_input, dtype=tf.dtypes.float64)\n",
    "        return nn_input\n",
    "        \n",
    "            \n",
    "    def get_image_grid(self, agent):\n",
    "        \"\"\" Return the image of the grid in standardized format values in [0, 1]\"\"\"\n",
    "        nn_input = np.zeros(shape=(self.n_row, self.n_col, 3))\n",
    "        for i in range(self.n_row):\n",
    "            for j in range(self.n_col):\n",
    "                nn_input[i, j, :] = self.dict_val_to_color[self.grid[i, j]]\n",
    "        nn_input = tf.expand_dims(nn_input, axis=0)/255 # extend batch\n",
    "        nn_input = tf.image.resize(nn_input, size=self.img_shape[:-1], method=tf.image.ResizeMethod.NEAREST_NEIGHBOR)\n",
    "        return nn_input\n",
    "    \n",
    "    def pretty_display(self):\n",
    "        arr = (self.get_image_grid(agent=None)[0]*255).numpy().astype('uint8')\n",
    "        plt.axis('off')\n",
    "        plt.imshow(arr)\n",
    "        plt.show()\n",
    "        return arr\n",
    "        \n",
    "    def __str__(self):\n",
    "        str_grid = \"\"\n",
    "        for row in range(self.n_row):\n",
    "            str_grid += \"|\"\n",
    "            for col in range(self.n_col):\n",
    "                val = self.grid[row, col]\n",
    "                if val == self.background_value: str_grid += \"-|\"\n",
    "                elif val == self.agent_value: str_grid += \"x|\"\n",
    "                elif val == self.agent_head_value: str_grid += \"$|\"\n",
    "                else: str_grid += \"o|\"\n",
    "            str_grid += \"\\n\"\n",
    "        return str_grid[:-1]"
   ]
  },
  {
   "cell_type": "markdown",
   "metadata": {},
   "source": [
    "# Policy"
   ]
  },
  {
   "cell_type": "code",
   "execution_count": 5,
   "metadata": {},
   "outputs": [],
   "source": [
    "class Policy:\n",
    "    \n",
    "    def __init__(self, name, env, n_actions, discount_factor):\n",
    "        self.name = str(name)\n",
    "        self.lr_config = {\"initial_lr\": 1e-3,\n",
    "                          \"n_learning_step_before_reduce\": 60000,\n",
    "                          \"final_lr\": 1e-7,\n",
    "                          \"prod_decay_lr\": 0.999,\n",
    "                          \"momentum\": 0.9}\n",
    "        self.exploration_config = {\"n_learning_step_before_reduce\": 50000,\n",
    "                                   \"initial_value\": 1.0,\n",
    "                                   \"final_value\": 0.1,\n",
    "                                   \"cst_decay\": 0.0005}\n",
    "        self.explor_proba = self.exploration_config[\"initial_value\"]\n",
    "        self.lr = self.lr_config[\"initial_lr\"]\n",
    "        \n",
    "        self.tf_writer = tf.summary.create_file_writer(f\"../tf-logs/{LEARNING_STYLE}/{self.name}\")\n",
    "       \n",
    "        self.n_actions = n_actions\n",
    "        self.discount_factor = discount_factor\n",
    "        self.qtable = None\n",
    "        self.env = env\n",
    "        \n",
    "        # init attributes\n",
    "        self.init_qtable()\n",
    "        \n",
    "    def init_qtable(self):\n",
    "        self.qtable = pd.DataFrame(np.zeros((2**self.env.feature_size, self.n_actions)))\n",
    "        \n",
    "    def feature_to_idx(self, feature_action):\n",
    "        \"\"\" Get the row idx from the feature state \"\"\"\n",
    "        assert(len(feature_action) == self.env.feature_size)\n",
    "        return int(sum(v * 2**i for i, v in enumerate(feature_action)))\n",
    "    \n",
    "    def get_qtable(self):\n",
    "        \"\"\" Return the qtable as a pandas DataFrame\"\"\"\n",
    "        return self.qtable\n",
    "    \n",
    "    def update_qtable(self, s_t, a_t, r_t, s_t_plus_1):\n",
    "        \"\"\" Update the qtable in learning phase \"\"\"\n",
    "        assert(a_t in np.linspace(0, self.n_actions-1, self.n_actions))\n",
    "        assert(len(s_t) == self.env.feature_size)\n",
    "        assert(len(s_t_plus_1) == self.env.feature_size)\n",
    "        idx_t = self.feature_to_idx(s_t)\n",
    "        idx_t_plus_1 = self.feature_to_idx(s_t_plus_1)\n",
    "        q_value_t_plus_1 = np.max(self.qtable.iloc[idx_t_plus_1, :])\n",
    "        # update the qtable\n",
    "        self.qtable.iloc[idx_t, a_t] += self.lr * (r_t + self.discount_factor * q_value_t_plus_1 - self.qtable.iloc[idx_t, a_t])\n",
    "    \n",
    "    def __call__(self, s_t, inference):\n",
    "        \"\"\" get next action a based on policy \"\"\"\n",
    "        rd = np.random.random()\n",
    "        dist_proba = None # NotImplemented\n",
    "        if rd <= self.explor_proba and not inference:\n",
    "            # exploration phase\n",
    "            a = np.random.choice(np.linspace(0, self.n_actions-1, self.n_actions))\n",
    "        else:\n",
    "            # choose a legetimate choice\n",
    "            idx_t = self.feature_to_idx(s_t)\n",
    "            a = np.argmax(self.qtable.iloc[idx_t, :])\n",
    "        return a, dist_proba\n",
    "    \n",
    "    def _update_explor_proba(self, learning_step):\n",
    "        if learning_step > self.exploration_config[\"n_learning_step_before_reduce\"] and \\\n",
    "                self.explor_proba > self.exploration_config[\"final_value\"]:\n",
    "            self.explor_proba -= self.exploration_config[\"cst_decay\"]\n",
    "    \n",
    "    def _update_lr(self, learning_step):\n",
    "        if learning_step > self.lr_config[\"n_learning_step_before_reduce\"] and \\\n",
    "                self.lr > self.lr_config[\"final_lr\"]:\n",
    "            self.lr *= self.lr_config[\"prod_decay_lr\"]\n",
    "            \n",
    "    def summary(self, score, length, state, choices, step):\n",
    "        with self.tf_writer.as_default():\n",
    "            tf.summary.scalar(\"metric/score\", score, step=step)\n",
    "            tf.summary.scalar(\"metric/length\", length, step=step)\n",
    "            tf.summary.scalar(\"metric/state\", state, step=step)\n",
    "            tf.summary.scalar(\"behaviour/straight\", choices[0], step=step)\n",
    "            tf.summary.scalar(\"behaviour/left\", choices[1], step=step)\n",
    "            tf.summary.scalar(\"behaviour/right\", choices[2], step=step)\n",
    "            tf.summary.scalar(\"config/exploration\", self.explor_proba, step=step)\n",
    "            tf.summary.scalar(\"config/lr\", self.lr, step=step)\n",
    "    \n",
    "    def save(self):\n",
    "        \"\"\" save the q-table as a numpy array file \"\"\"\n",
    "        raise NotImplementedError\n",
    "        \n",
    "    def load(self):\n",
    "        \"\"\" load the numpy array q table\"\"\"\n",
    "        raise NotImplementedError\n",
    "        \n",
    "    def __str__(self):\n",
    "        return str(self.qtable.shape)\n",
    "        "
   ]
  },
  {
   "cell_type": "code",
   "execution_count": 6,
   "metadata": {},
   "outputs": [
    {
     "name": "stdout",
     "output_type": "stream",
     "text": [
      "T1 - Feature to idx : 4095\n",
      "T2 - Q-Table shape  (4096, 3)\n",
      "T3 - Update Q-Table\n",
      "     0      1    2\n",
      "0  0.0  0.115  0.0\n",
      "1  0.0  0.000  0.0\n",
      "2  0.0  0.000  0.0\n",
      "3  0.0  0.000  0.0\n",
      "4  0.0  0.000  0.0\n",
      "T4 - Next Action : (0.0, None)\n"
     ]
    }
   ],
   "source": [
    "test_policy = Policy(name=\"test\", \n",
    "                     n_actions=3, \n",
    "                     discount_factor=0.8,\n",
    "                     env=Environment())\n",
    "\n",
    "# test feature to idx\n",
    "print(\"T1 - Feature to idx :\", test_policy.feature_to_idx(feature_action=[1, 1, 1, 1, 1, 1, 1, 1, 1, 1, 1, 1]))\n",
    "\n",
    "# test Q-Table\n",
    "print(\"T2 - Q-Table shape \", test_policy.get_qtable().shape)\n",
    "\n",
    "# update Q-Table\n",
    "print(\"T3 - Update Q-Table\")\n",
    "test_policy.update_qtable(s_t=[0]*12, a_t=1, r_t=115, s_t_plus_1=[1]*12)\n",
    "print(test_policy.qtable.head())\n",
    "test_policy.init_qtable()\n",
    "\n",
    "# get next action \n",
    "print(\"T4 - Next Action :\", test_policy(s_t=[0]*12, inference=False))"
   ]
  },
  {
   "cell_type": "markdown",
   "metadata": {},
   "source": [
    "## Agent"
   ]
  },
  {
   "cell_type": "code",
   "execution_count": 7,
   "metadata": {},
   "outputs": [],
   "source": [
    "class Agent:\n",
    "    \n",
    "    def __init__(self, name, env=Environment()):\n",
    "        self.game_moves = [\"straight\", \"left\", \"right\"]\n",
    "        self.action_dict = {\"up\": np.array([-1,0]),\n",
    "                            \"left\": np.array([0,-1]),\n",
    "                            \"down\": np.array([1,0]),\n",
    "                            \"right\": np.array([0,1])}\n",
    "        self.action_to_feature = {str(np.array([-1, 0])): np.array([1, 0, 0, 0]),\n",
    "                                  str(np.array([0, -1])): np.array([0, 1, 0, 0]),\n",
    "                                  str(np.array([1, 0])): np.array([0, 0, 1, 0]),\n",
    "                                  str(np.array([0, 1])): np.array([0, 0, 0, 1]),\n",
    "                                  str(np.array([0, 0])): np.array([0, 0, 0, 0])}\n",
    "        self.env = env\n",
    "        self.erb = None # Experience Replay Buffer\n",
    "        self.erb_dying = None\n",
    "        self.size = 2\n",
    "        self.max_state = 250\n",
    "        self.discount_factor = 0.8\n",
    "        self.position = []\n",
    "        self.tail = np.empty(shape=2)\n",
    "        self.head = np.empty(shape=2)\n",
    "        self.start()\n",
    "        self.policy = Policy(name=name, \n",
    "                             n_actions=len(self.game_moves), \n",
    "                             discount_factor=self.discount_factor,\n",
    "                             env=self.env)\n",
    "        self.moves = list(self.action_dict.keys())\n",
    "        self.alive = True\n",
    "        \n",
    "        # init attributes\n",
    "        self.init_erb()\n",
    "        self.init_erb_dying()\n",
    "        \n",
    "    def init_erb(self):\n",
    "        self.erb = pd.DataFrame()\n",
    "        \n",
    "    def init_erb_dying(self):\n",
    "        self.erb_dying = pd.DataFrame()\n",
    "    \n",
    "    def __len__(self):\n",
    "        return len(self.position)\n",
    "        \n",
    "    def start(self):\n",
    "        self.env.start() # restore the env\n",
    "        \n",
    "        # generate its position on the grid\n",
    "        head = np.array([np.random.randint(1, self.env.n_row-1), np.random.randint(1, self.env.n_col-1)])\n",
    "        randomize_tail = list(self.action_dict.values())\n",
    "        tail = head + randomize_tail[np.random.choice([x for x in range(len(randomize_tail))])]\n",
    "        self.position = [tail, head]\n",
    "        self.tail = tail\n",
    "        self.head = head\n",
    "        self.alive = True # make the agent alive again\n",
    "    \n",
    "    def run(self, debug=False, pretty_display=False, inference=False, video=False):\n",
    "        self.start()\n",
    "        reward_stock, action_stock, img_stock = [], [], []\n",
    "        t = 0\n",
    "        while self.alive and t < self.max_state: # run simulation trajectory\n",
    "            self.env.update(agent=self)\n",
    "            _s_t = self.env.nn_input_config[\"feature\"][\"pfunc\"](self).numpy()[0]\n",
    "            \n",
    "            if t > 0:\n",
    "                # update the ERB if not first run as we need the info s_t_plus_1\n",
    "                cur_info_erb = np.expand_dims(np.concatenate([s_t, [a_t], [r_t], _s_t]), axis=0)\n",
    "                self.erb = self.erb.append(pd.DataFrame(cur_info_erb))\n",
    "            \n",
    "            a_t, dist_proba = self.policy(s_t=_s_t, inference=inference)\n",
    "            a_t = int(a_t)\n",
    "            action_stock.append(a_t)\n",
    "            \n",
    "            if debug:\n",
    "                print(\"STATE: \"+str(t)+\"\\nFeature state :\"+str(_s_t))\n",
    "            r_t = self.update(game_action=self.game_moves[a_t])\n",
    "            reward_stock.append(r_t)\n",
    "            \n",
    "            # s_t becomes s_t and _s_t is the next s_t_plus_1\n",
    "            s_t = _s_t\n",
    "            \n",
    "            # display on console\n",
    "            if debug:\n",
    "                print(\"Action: \"+self.game_moves[a_t]+\"\\nDist proba: \"+str(dist_proba)+\"\\nReward: \"+str(r_t))\n",
    "            if pretty_display:\n",
    "                img_stock.append(self.env.pretty_display())\n",
    "            elif debug:\n",
    "                print(str(self.env))\n",
    "            t += 1\n",
    "        \n",
    "        # dying specialization\n",
    "        cur_info_erb_dying = np.expand_dims(np.concatenate([s_t, [a_t], [r_t], [1]*12]), axis=0)\n",
    "        self.erb_dying = self.erb_dying.append(pd.DataFrame(cur_info_erb_dying))\n",
    "            \n",
    "        # metrics \n",
    "        action_stock = np.array(action_stock)\n",
    "        reward_stock = np.array(reward_stock)\n",
    "        score = sum(reward_stock) # sum all rewards\n",
    "        length = len(self)\n",
    "        #confidence = np.max(dist_proba)\n",
    "        choices = np.asarray([len(np.where(action_stock == i)[0]) for i in range(len(self.game_moves))])\n",
    "        norm_choices = choices/t\n",
    "        \n",
    "        # gradients calculation for trajectory\n",
    "        cum_rewards_disc = self._rewards_discount(reward_stock)\n",
    "        \n",
    "        if debug:\n",
    "            print(\"DEAD at state t=\"+str(t)+\" with score=\"+str(score)+ \" with length Snake=\"+str(length))\n",
    "            \n",
    "        if video:\n",
    "            video_dir = f'../videos/{LEARNING_STYLE}/{self.policy.name}/'\n",
    "            os.makedirs(video_dir, exist_ok=True)\n",
    "            video_dir += str(datetime.now().strftime(\"%m-%d-%Y\")) + \"-score=\" + str(score) + \"-length=\" + str(length) + \".avi\"\n",
    "            out = cv2.VideoWriter(video_dir, cv2.VideoWriter_fourcc(*'DIVX'), 8, self.env.img_shape[:-1])\n",
    "            for i in range(len(img_stock)):\n",
    "                out.write(img_stock[i])\n",
    "            out.release()\n",
    "        return score, length, t, norm_choices\n",
    "                \n",
    "    def _rewards_discount(self, rewards):\n",
    "        reversed_rewards = rewards[::-1]\n",
    "        discounted_rewards = [0]\n",
    "        for i, r in enumerate(reversed_rewards):\n",
    "            discounted_rewards.append(r + self.discount_factor*discounted_rewards[i])\n",
    "        del discounted_rewards[0]\n",
    "        discounted_rewards.reverse()\n",
    "        return discounted_rewards\n",
    "            \n",
    "    def update(self, game_action):\n",
    "        previous_dist_from_food = distance_matrix([self.head], [self.env.food_pos])[0, 0]\n",
    "        \n",
    "        # VERSION straight, left, right choices\n",
    "        direction = self.head - self.position[-2]\n",
    "        if game_action == \"straight\":\n",
    "            if np.array_equal(direction, self.action_dict[\"up\"]): action = \"up\"\n",
    "            elif np.array_equal(direction, self.action_dict[\"left\"]): action = \"left\"\n",
    "            elif np.array_equal(direction, self.action_dict[\"down\"]): action = \"down\"\n",
    "            elif np.array_equal(direction, self.action_dict[\"right\"]): action = \"right\"\n",
    "        elif game_action == \"left\":\n",
    "            if np.array_equal(direction, self.action_dict[\"up\"]): action = \"left\"\n",
    "            elif np.array_equal(direction, self.action_dict[\"left\"]): action = \"down\"\n",
    "            elif np.array_equal(direction, self.action_dict[\"down\"]): action = \"right\"\n",
    "            elif np.array_equal(direction, self.action_dict[\"right\"]): action = \"up\"\n",
    "        elif game_action == \"right\":\n",
    "            if np.array_equal(direction, self.action_dict[\"up\"]): action = \"right\"\n",
    "            elif np.array_equal(direction, self.action_dict[\"left\"]): action = \"up\"\n",
    "            elif np.array_equal(direction, self.action_dict[\"down\"]): action = \"left\"\n",
    "            elif np.array_equal(direction, self.action_dict[\"right\"]): action = \"down\"\n",
    "        \n",
    "        new_tmp_head = self.head+self.action_dict[action]\n",
    "        self.position.append(new_tmp_head)\n",
    "        self.head = self.position[-1]\n",
    "\n",
    "        if self.env._is_wall(pos=self.head):\n",
    "            self.position = self.position[1:] # change the position of the tail \n",
    "            self.alive = False # dead you HIT A WALL\n",
    "            reward_t = self.env.reward['hit_wall']\n",
    "\n",
    "        elif self.env._is_tail(pos=self.head, agent=self):\n",
    "            self.position = self.position[1:]\n",
    "            self.alive = False # dead HIT YOURSELF\n",
    "            reward_t = self.env.reward['eat_yourself']\n",
    "\n",
    "        elif self.env.grid[self.head[0], self.head[1]] != self.env.food_value: # no food was eaten\n",
    "            self.position = self.position[1:]\n",
    "            self.tail = self.position[0]\n",
    "            current_dist_from_food = distance_matrix([self.head], [self.env.food_pos])[0, 0]\n",
    "            # reward for a simple MOVE => if dist from food < than before then positive reward\n",
    "            #reward_t = (current_dist_from_food-previous_dist_from_food)*self.env.reward['move']\n",
    "            reward_t = self.env.reward['move']\n",
    "            \n",
    "        else: # move and food eaten\n",
    "            reward_t = self.env.reward['eat_food'] # EAT FOOD\n",
    "            \n",
    "        return reward_t\n",
    "                \n",
    "        \n",
    "    def train(self, epochs, batch_size=1, n_learning_iter=100, n_learning_iter_dying=100, \n",
    "              debug=False, summary_step=25, save_step=1000):\n",
    "        \n",
    "        for i in tqdm(range(epochs), position=0, leave=True):\n",
    "            # experience phase\n",
    "            for b in range(batch_size):\n",
    "                score, length, state, choices = self.run(debug=debug)\n",
    "                \n",
    "            # classical learning phase\n",
    "            n_rows = len(self.erb)\n",
    "            for k in range(n_learning_iter):\n",
    "                rd_idx = np.random.randint(n_rows)\n",
    "                exp = self.erb.iloc[rd_idx, :]\n",
    "                s_t, a_t, r_t, s_t_plus_1 = exp[:self.env.feature_size], exp[self.env.feature_size], exp[self.env.feature_size + 1], exp[(self.env.feature_size + 2):] \n",
    "                self.policy.update_qtable(s_t=s_t, a_t=int(a_t), r_t=r_t, s_t_plus_1=s_t_plus_1)\n",
    "            self.init_erb() # clean the ERB just after for fresh data\n",
    "            \n",
    "            # dying specialize learning phase\n",
    "            n_rows_dying = len(self.erb_dying)\n",
    "            for k in range(n_learning_iter_dying):\n",
    "                rd_idx = np.random.randint(n_rows_dying)\n",
    "                exp = self.erb_dying.iloc[rd_idx, :]\n",
    "                s_t, a_t, r_t, s_t_plus_1 = exp[:self.env.feature_size], exp[self.env.feature_size], exp[self.env.feature_size + 1], exp[(self.env.feature_size + 2):] \n",
    "                self.policy.update_qtable(s_t=s_t, a_t=int(a_t), r_t=r_t, s_t_plus_1=s_t_plus_1)\n",
    "            \n",
    "            # saving & info phase\n",
    "            if i % summary_step == 0: self.policy.summary(score, length, state, choices, step=i)\n",
    "            #if i % save_step == 0: self.policy.save()\n",
    "        \n",
    "    def __call__(self):\n",
    "        print(\"TODO\")\n",
    "        \n",
    "    def __str__(self):\n",
    "        return self.size"
   ]
  },
  {
   "cell_type": "markdown",
   "metadata": {},
   "source": [
    "## Run Games"
   ]
  },
  {
   "cell_type": "code",
   "execution_count": 8,
   "metadata": {},
   "outputs": [],
   "source": [
    "# create the environment where the Snake lives\n",
    "env = Environment(n_row=9, n_col=9)"
   ]
  },
  {
   "cell_type": "code",
   "execution_count": 9,
   "metadata": {},
   "outputs": [],
   "source": [
    "# name your snake agent\n",
    "agent_id = \"qtable-dying-\" + datetime.now().strftime(\"%m-%d-%Y\")"
   ]
  },
  {
   "cell_type": "code",
   "execution_count": 10,
   "metadata": {},
   "outputs": [],
   "source": [
    "# create your Snake Agent\n",
    "agent = Agent(name=agent_id, env=env)"
   ]
  },
  {
   "cell_type": "code",
   "execution_count": 20,
   "metadata": {},
   "outputs": [
    {
     "name": "stdout",
     "output_type": "stream",
     "text": [
      "STATE: 0\n",
      "Feature state :[0. 0. 1. 0. 0. 0. 0. 0. 1. 1. 0. 0.]\n",
      "Action: right\n",
      "Dist proba: None\n",
      "Reward: -10\n"
     ]
    },
    {
     "data": {
      "image/png": "[encoded data removed]",
      "text/plain": [
       "<Figure size 432x288 with 1 Axes>"
      ]
     },
     "metadata": {
      "needs_background": "light"
     },
     "output_type": "display_data"
    },
    {
     "name": "stdout",
     "output_type": "stream",
     "text": [
      "STATE: 1\n",
      "Feature state :[0. 1. 0. 0. 0. 0. 0. 0. 1. 1. 0. 0.]\n",
      "Action: straight\n",
      "Dist proba: None\n",
      "Reward: -10\n"
     ]
    },
    {
     "data": {
      "image/png": "[encoded data removed]",
      "text/plain": [
       "<Figure size 432x288 with 1 Axes>"
      ]
     },
     "metadata": {
      "needs_background": "light"
     },
     "output_type": "display_data"
    },
    {
     "name": "stdout",
     "output_type": "stream",
     "text": [
      "STATE: 2\n",
      "Feature state :[0. 1. 0. 0. 0. 0. 0. 0. 1. 1. 0. 0.]\n",
      "Action: straight\n",
      "Dist proba: None\n",
      "Reward: -10\n"
     ]
    },
    {
     "data": {
      "image/png": "[encoded data removed]",
      "text/plain": [
       "<Figure size 432x288 with 1 Axes>"
      ]
     },
     "metadata": {
      "needs_background": "light"
     },
     "output_type": "display_data"
    },
    {
     "name": "stdout",
     "output_type": "stream",
     "text": [
      "STATE: 3\n",
      "Feature state :[0. 1. 0. 0. 0. 0. 0. 0. 1. 1. 0. 0.]\n",
      "Action: straight\n",
      "Dist proba: None\n",
      "Reward: -10\n"
     ]
    },
    {
     "data": {
      "image/png": "[encoded data removed]",
      "text/plain": [
       "<Figure size 432x288 with 1 Axes>"
      ]
     },
     "metadata": {
      "needs_background": "light"
     },
     "output_type": "display_data"
    },
    {
     "name": "stdout",
     "output_type": "stream",
     "text": [
      "STATE: 4\n",
      "Feature state :[0. 1. 0. 0. 0. 0. 0. 0. 1. 1. 0. 0.]\n",
      "Action: straight\n",
      "Dist proba: None\n",
      "Reward: -10\n"
     ]
    },
    {
     "data": {
      "image/png": "[encoded data removed]",
      "text/plain": [
       "<Figure size 432x288 with 1 Axes>"
      ]
     },
     "metadata": {
      "needs_background": "light"
     },
     "output_type": "display_data"
    },
    {
     "name": "stdout",
     "output_type": "stream",
     "text": [
      "STATE: 5\n",
      "Feature state :[0. 1. 0. 0. 0. 0. 0. 0. 1. 0. 0. 0.]\n",
      "Action: right\n",
      "Dist proba: None\n",
      "Reward: 100\n"
     ]
    },
    {
     "data": {
      "image/png": "[encoded data removed]",
      "text/plain": [
       "<Figure size 432x288 with 1 Axes>"
      ]
     },
     "metadata": {
      "needs_background": "light"
     },
     "output_type": "display_data"
    },
    {
     "name": "stdout",
     "output_type": "stream",
     "text": [
      "STATE: 6\n",
      "Feature state :[1. 0. 0. 0. 0. 0. 0. 0. 1. 0. 0. 1.]\n",
      "Action: right\n",
      "Dist proba: None\n",
      "Reward: -10\n"
     ]
    },
    {
     "data": {
      "image/png": "[encoded data removed]",
      "text/plain": [
       "<Figure size 432x288 with 1 Axes>"
      ]
     },
     "metadata": {
      "needs_background": "light"
     },
     "output_type": "display_data"
    },
    {
     "name": "stdout",
     "output_type": "stream",
     "text": [
      "STATE: 7\n",
      "Feature state :[0. 0. 0. 1. 0. 0. 0. 0. 1. 0. 0. 1.]\n",
      "Action: straight\n",
      "Dist proba: None\n",
      "Reward: -10\n"
     ]
    },
    {
     "data": {
      "image/png": "[encoded data removed]",
      "text/plain": [
       "<Figure size 432x288 with 1 Axes>"
      ]
     },
     "metadata": {
      "needs_background": "light"
     },
     "output_type": "display_data"
    },
    {
     "name": "stdout",
     "output_type": "stream",
     "text": [
      "STATE: 8\n",
      "Feature state :[0. 0. 0. 1. 0. 0. 0. 0. 1. 0. 0. 1.]\n",
      "Action: straight\n",
      "Dist proba: None\n",
      "Reward: -10\n"
     ]
    },
    {
     "data": {
      "image/png": "[encoded data removed]",
      "text/plain": [
       "<Figure size 432x288 with 1 Axes>"
      ]
     },
     "metadata": {
      "needs_background": "light"
     },
     "output_type": "display_data"
    },
    {
     "name": "stdout",
     "output_type": "stream",
     "text": [
      "STATE: 9\n",
      "Feature state :[0. 0. 0. 1. 0. 0. 0. 0. 1. 0. 0. 1.]\n",
      "Action: straight\n",
      "Dist proba: None\n",
      "Reward: -10\n"
     ]
    },
    {
     "data": {
      "image/png": "[encoded data removed]",
      "text/plain": [
       "<Figure size 432x288 with 1 Axes>"
      ]
     },
     "metadata": {
      "needs_background": "light"
     },
     "output_type": "display_data"
    },
    {
     "name": "stdout",
     "output_type": "stream",
     "text": [
      "STATE: 10\n",
      "Feature state :[0. 0. 0. 1. 0. 0. 0. 0. 1. 0. 0. 1.]\n",
      "Action: straight\n",
      "Dist proba: None\n",
      "Reward: -10\n"
     ]
    },
    {
     "data": {
      "image/png": "[encoded data removed]",
      "text/plain": [
       "<Figure size 432x288 with 1 Axes>"
      ]
     },
     "metadata": {
      "needs_background": "light"
     },
     "output_type": "display_data"
    },
    {
     "name": "stdout",
     "output_type": "stream",
     "text": [
      "STATE: 11\n",
      "Feature state :[0. 0. 0. 1. 0. 0. 0. 0. 1. 0. 0. 0.]\n",
      "Action: left\n",
      "Dist proba: None\n",
      "Reward: -10\n"
     ]
    },
    {
     "data": {
      "image/png": "[encoded data removed]",
      "text/plain": [
       "<Figure size 432x288 with 1 Axes>"
      ]
     },
     "metadata": {
      "needs_background": "light"
     },
     "output_type": "display_data"
    },
    {
     "name": "stdout",
     "output_type": "stream",
     "text": [
      "STATE: 12\n",
      "Feature state :[1. 0. 0. 0. 0. 0. 0. 0. 1. 0. 0. 0.]\n",
      "Action: straight\n",
      "Dist proba: None\n",
      "Reward: -10\n"
     ]
    },
    {
     "data": {
      "image/png": "[encoded data removed]",
      "text/plain": [
       "<Figure size 432x288 with 1 Axes>"
      ]
     },
     "metadata": {
      "needs_background": "light"
     },
     "output_type": "display_data"
    },
    {
     "name": "stdout",
     "output_type": "stream",
     "text": [
      "STATE: 13\n",
      "Feature state :[1. 0. 0. 0. 0. 0. 0. 0. 1. 0. 0. 0.]\n",
      "Action: straight\n",
      "Dist proba: None\n",
      "Reward: -10\n"
     ]
    },
    {
     "data": {
      "image/png": "[encoded data removed]",
      "text/plain": [
       "<Figure size 432x288 with 1 Axes>"
      ]
     },
     "metadata": {
      "needs_background": "light"
     },
     "output_type": "display_data"
    },
    {
     "name": "stdout",
     "output_type": "stream",
     "text": [
      "STATE: 14\n",
      "Feature state :[1. 0. 0. 0. 0. 0. 0. 0. 1. 0. 0. 0.]\n",
      "Action: straight\n",
      "Dist proba: None\n",
      "Reward: -10\n"
     ]
    },
    {
     "data": {
      "image/png": "[encoded data removed]",
      "text/plain": [
       "<Figure size 432x288 with 1 Axes>"
      ]
     },
     "metadata": {
      "needs_background": "light"
     },
     "output_type": "display_data"
    },
    {
     "name": "stdout",
     "output_type": "stream",
     "text": [
      "STATE: 15\n",
      "Feature state :[1. 0. 0. 0. 0. 0. 0. 0. 1. 0. 0. 0.]\n",
      "Action: straight\n",
      "Dist proba: None\n",
      "Reward: -10\n"
     ]
    },
    {
     "data": {
      "image/png": "[encoded data removed]",
      "text/plain": [
       "<Figure size 432x288 with 1 Axes>"
      ]
     },
     "metadata": {
      "needs_background": "light"
     },
     "output_type": "display_data"
    },
    {
     "name": "stdout",
     "output_type": "stream",
     "text": [
      "STATE: 16\n",
      "Feature state :[1. 0. 0. 0. 0. 0. 0. 0. 1. 0. 0. 0.]\n",
      "Action: straight\n",
      "Dist proba: None\n",
      "Reward: 100\n"
     ]
    },
    {
     "data": {
      "image/png": "[encoded data removed]",
      "text/plain": [
       "<Figure size 432x288 with 1 Axes>"
      ]
     },
     "metadata": {
      "needs_background": "light"
     },
     "output_type": "display_data"
    },
    {
     "name": "stdout",
     "output_type": "stream",
     "text": [
      "STATE: 17\n",
      "Feature state :[1. 0. 0. 0. 1. 0. 0. 0. 0. 0. 1. 0.]\n",
      "Action: left\n",
      "Dist proba: None\n",
      "Reward: -10\n"
     ]
    },
    {
     "data": {
      "image/png": "[encoded data removed]",
      "text/plain": [
       "<Figure size 432x288 with 1 Axes>"
      ]
     },
     "metadata": {
      "needs_background": "light"
     },
     "output_type": "display_data"
    },
    {
     "name": "stdout",
     "output_type": "stream",
     "text": [
      "STATE: 18\n",
      "Feature state :[0. 1. 0. 0. 1. 0. 0. 0. 0. 0. 1. 1.]\n",
      "Action: left\n",
      "Dist proba: None\n",
      "Reward: -10\n"
     ]
    },
    {
     "data": {
      "image/png": "[encoded data removed]",
      "text/plain": [
       "<Figure size 432x288 with 1 Axes>"
      ]
     },
     "metadata": {
      "needs_background": "light"
     },
     "output_type": "display_data"
    },
    {
     "name": "stdout",
     "output_type": "stream",
     "text": [
      "STATE: 19\n",
      "Feature state :[0. 0. 1. 0. 0. 0. 0. 1. 0. 0. 1. 1.]\n",
      "Action: straight\n",
      "Dist proba: None\n",
      "Reward: -10\n"
     ]
    },
    {
     "data": {
      "image/png": "[encoded data removed]",
      "text/plain": [
       "<Figure size 432x288 with 1 Axes>"
      ]
     },
     "metadata": {
      "needs_background": "light"
     },
     "output_type": "display_data"
    },
    {
     "name": "stdout",
     "output_type": "stream",
     "text": [
      "STATE: 20\n",
      "Feature state :[0. 0. 1. 0. 0. 0. 0. 0. 0. 0. 1. 1.]\n",
      "Action: left\n",
      "Dist proba: None\n",
      "Reward: -10\n"
     ]
    },
    {
     "data": {
      "image/png": "[encoded data removed]",
      "text/plain": [
       "<Figure size 432x288 with 1 Axes>"
      ]
     },
     "metadata": {
      "needs_background": "light"
     },
     "output_type": "display_data"
    },
    {
     "name": "stdout",
     "output_type": "stream",
     "text": [
      "STATE: 21\n",
      "Feature state :[0. 0. 0. 1. 0. 0. 0. 0. 0. 0. 1. 0.]\n",
      "Action: right\n",
      "Dist proba: None\n",
      "Reward: -10\n"
     ]
    },
    {
     "data": {
      "image/png": "[encoded data removed]",
      "text/plain": [
       "<Figure size 432x288 with 1 Axes>"
      ]
     },
     "metadata": {
      "needs_background": "light"
     },
     "output_type": "display_data"
    },
    {
     "name": "stdout",
     "output_type": "stream",
     "text": [
      "STATE: 22\n",
      "Feature state :[0. 0. 1. 0. 0. 0. 0. 0. 0. 0. 1. 0.]\n",
      "Action: straight\n",
      "Dist proba: None\n",
      "Reward: -10\n"
     ]
    },
    {
     "data": {
      "image/png": "[encoded data removed]",
      "text/plain": [
       "<Figure size 432x288 with 1 Axes>"
      ]
     },
     "metadata": {
      "needs_background": "light"
     },
     "output_type": "display_data"
    },
    {
     "name": "stdout",
     "output_type": "stream",
     "text": [
      "STATE: 23\n",
      "Feature state :[0. 0. 1. 0. 0. 0. 0. 0. 0. 0. 1. 0.]\n",
      "Action: straight\n",
      "Dist proba: None\n",
      "Reward: 100\n"
     ]
    },
    {
     "data": {
      "image/png": "[encoded data removed]",
      "text/plain": [
       "<Figure size 432x288 with 1 Axes>"
      ]
     },
     "metadata": {
      "needs_background": "light"
     },
     "output_type": "display_data"
    },
    {
     "name": "stdout",
     "output_type": "stream",
     "text": [
      "STATE: 24\n",
      "Feature state :[0. 0. 1. 0. 0. 0. 0. 0. 0. 1. 1. 0.]\n",
      "Action: straight\n",
      "Dist proba: None\n",
      "Reward: -10\n"
     ]
    },
    {
     "data": {
      "image/png": "[encoded data removed]",
      "text/plain": [
       "<Figure size 432x288 with 1 Axes>"
      ]
     },
     "metadata": {
      "needs_background": "light"
     },
     "output_type": "display_data"
    },
    {
     "name": "stdout",
     "output_type": "stream",
     "text": [
      "STATE: 25\n",
      "Feature state :[0. 0. 1. 0. 0. 0. 0. 0. 0. 1. 1. 0.]\n",
      "Action: straight\n",
      "Dist proba: None\n",
      "Reward: -10\n"
     ]
    },
    {
     "data": {
      "image/png": "[encoded data removed]",
      "text/plain": [
       "<Figure size 432x288 with 1 Axes>"
      ]
     },
     "metadata": {
      "needs_background": "light"
     },
     "output_type": "display_data"
    },
    {
     "name": "stdout",
     "output_type": "stream",
     "text": [
      "STATE: 26\n",
      "Feature state :[0. 0. 1. 0. 0. 0. 0. 0. 0. 1. 0. 0.]\n",
      "Action: right\n",
      "Dist proba: None\n",
      "Reward: -10\n"
     ]
    },
    {
     "data": {
      "image/png": "[encoded data removed]",
      "text/plain": [
       "<Figure size 432x288 with 1 Axes>"
      ]
     },
     "metadata": {
      "needs_background": "light"
     },
     "output_type": "display_data"
    },
    {
     "name": "stdout",
     "output_type": "stream",
     "text": [
      "STATE: 27\n",
      "Feature state :[0. 1. 0. 0. 0. 0. 0. 0. 0. 1. 0. 0.]\n",
      "Action: straight\n",
      "Dist proba: None\n",
      "Reward: -10\n"
     ]
    },
    {
     "data": {
      "image/png": "[encoded data removed]",
      "text/plain": [
       "<Figure size 432x288 with 1 Axes>"
      ]
     },
     "metadata": {
      "needs_background": "light"
     },
     "output_type": "display_data"
    },
    {
     "name": "stdout",
     "output_type": "stream",
     "text": [
      "STATE: 28\n",
      "Feature state :[0. 1. 0. 0. 0. 0. 0. 0. 0. 1. 0. 0.]\n",
      "Action: straight\n",
      "Dist proba: None\n",
      "Reward: -10\n"
     ]
    },
    {
     "data": {
      "image/png": "[encoded data removed]",
      "text/plain": [
       "<Figure size 432x288 with 1 Axes>"
      ]
     },
     "metadata": {
      "needs_background": "light"
     },
     "output_type": "display_data"
    },
    {
     "name": "stdout",
     "output_type": "stream",
     "text": [
      "STATE: 29\n",
      "Feature state :[0. 1. 0. 0. 0. 0. 0. 0. 0. 1. 0. 0.]\n",
      "Action: straight\n",
      "Dist proba: None\n",
      "Reward: -10\n"
     ]
    },
    {
     "data": {
      "image/png": "[encoded data removed]",
      "text/plain": [
       "<Figure size 432x288 with 1 Axes>"
      ]
     },
     "metadata": {
      "needs_background": "light"
     },
     "output_type": "display_data"
    },
    {
     "name": "stdout",
     "output_type": "stream",
     "text": [
      "STATE: 30\n",
      "Feature state :[0. 1. 0. 0. 0. 0. 0. 0. 0. 1. 0. 0.]\n",
      "Action: straight\n",
      "Dist proba: None\n",
      "Reward: -10\n"
     ]
    },
    {
     "data": {
      "image/png": "[encoded data removed]",
      "text/plain": [
       "<Figure size 432x288 with 1 Axes>"
      ]
     },
     "metadata": {
      "needs_background": "light"
     },
     "output_type": "display_data"
    },
    {
     "name": "stdout",
     "output_type": "stream",
     "text": [
      "STATE: 31\n",
      "Feature state :[0. 1. 0. 0. 0. 0. 0. 0. 0. 1. 0. 0.]\n",
      "Action: straight\n",
      "Dist proba: None\n",
      "Reward: -10\n"
     ]
    },
    {
     "data": {
      "image/png": "[encoded data removed]",
      "text/plain": [
       "<Figure size 432x288 with 1 Axes>"
      ]
     },
     "metadata": {
      "needs_background": "light"
     },
     "output_type": "display_data"
    },
    {
     "name": "stdout",
     "output_type": "stream",
     "text": [
      "STATE: 32\n",
      "Feature state :[0. 1. 0. 0. 0. 0. 0. 0. 0. 1. 0. 0.]\n",
      "Action: straight\n",
      "Dist proba: None\n",
      "Reward: 100\n"
     ]
    },
    {
     "data": {
      "image/png": "[encoded data removed]",
      "text/plain": [
       "<Figure size 432x288 with 1 Axes>"
      ]
     },
     "metadata": {
      "needs_background": "light"
     },
     "output_type": "display_data"
    },
    {
     "name": "stdout",
     "output_type": "stream",
     "text": [
      "STATE: 33\n",
      "Feature state :[0. 1. 0. 0. 0. 1. 0. 0. 1. 0. 0. 0.]\n",
      "Action: right\n",
      "Dist proba: None\n",
      "Reward: 100\n"
     ]
    },
    {
     "data": {
      "image/png": "[encoded data removed]",
      "text/plain": [
       "<Figure size 432x288 with 1 Axes>"
      ]
     },
     "metadata": {
      "needs_background": "light"
     },
     "output_type": "display_data"
    },
    {
     "name": "stdout",
     "output_type": "stream",
     "text": [
      "STATE: 34\n",
      "Feature state :[1. 0. 0. 0. 0. 1. 0. 0. 1. 0. 0. 0.]\n",
      "Action: straight\n",
      "Dist proba: None\n",
      "Reward: -10\n"
     ]
    },
    {
     "data": {
      "image/png": "[encoded data removed]",
      "text/plain": [
       "<Figure size 432x288 with 1 Axes>"
      ]
     },
     "metadata": {
      "needs_background": "light"
     },
     "output_type": "display_data"
    },
    {
     "name": "stdout",
     "output_type": "stream",
     "text": [
      "STATE: 35\n",
      "Feature state :[1. 0. 0. 0. 0. 1. 0. 0. 1. 0. 0. 0.]\n",
      "Action: straight\n",
      "Dist proba: None\n",
      "Reward: -10\n"
     ]
    },
    {
     "data": {
      "image/png": "[encoded data removed]",
      "text/plain": [
       "<Figure size 432x288 with 1 Axes>"
      ]
     },
     "metadata": {
      "needs_background": "light"
     },
     "output_type": "display_data"
    },
    {
     "name": "stdout",
     "output_type": "stream",
     "text": [
      "STATE: 36\n",
      "Feature state :[1. 0. 0. 0. 0. 1. 0. 0. 1. 0. 0. 0.]\n",
      "Action: straight\n",
      "Dist proba: None\n",
      "Reward: -10\n"
     ]
    },
    {
     "data": {
      "image/png": "[encoded data removed]",
      "text/plain": [
       "<Figure size 432x288 with 1 Axes>"
      ]
     },
     "metadata": {
      "needs_background": "light"
     },
     "output_type": "display_data"
    },
    {
     "name": "stdout",
     "output_type": "stream",
     "text": [
      "STATE: 37\n",
      "Feature state :[1. 0. 0. 0. 0. 1. 0. 0. 1. 0. 0. 0.]\n",
      "Action: straight\n",
      "Dist proba: None\n",
      "Reward: -10\n"
     ]
    },
    {
     "data": {
      "image/png": "[encoded data removed]",
      "text/plain": [
       "<Figure size 432x288 with 1 Axes>"
      ]
     },
     "metadata": {
      "needs_background": "light"
     },
     "output_type": "display_data"
    },
    {
     "name": "stdout",
     "output_type": "stream",
     "text": [
      "STATE: 38\n",
      "Feature state :[1. 0. 0. 0. 0. 1. 0. 0. 1. 0. 0. 0.]\n",
      "Action: straight\n",
      "Dist proba: None\n",
      "Reward: 100\n"
     ]
    },
    {
     "data": {
      "image/png": "[encoded data removed]",
      "text/plain": [
       "<Figure size 432x288 with 1 Axes>"
      ]
     },
     "metadata": {
      "needs_background": "light"
     },
     "output_type": "display_data"
    },
    {
     "name": "stdout",
     "output_type": "stream",
     "text": [
      "STATE: 39\n",
      "Feature state :[1. 0. 0. 0. 0. 1. 0. 0. 0. 0. 1. 1.]\n",
      "Action: right\n",
      "Dist proba: None\n",
      "Reward: -10\n"
     ]
    },
    {
     "data": {
      "image/png": "[encoded data removed]",
      "text/plain": [
       "<Figure size 432x288 with 1 Axes>"
      ]
     },
     "metadata": {
      "needs_background": "light"
     },
     "output_type": "display_data"
    },
    {
     "name": "stdout",
     "output_type": "stream",
     "text": [
      "STATE: 40\n",
      "Feature state :[0. 0. 0. 1. 0. 0. 0. 0. 0. 0. 1. 1.]\n",
      "Action: straight\n",
      "Dist proba: None\n",
      "Reward: -10\n"
     ]
    },
    {
     "data": {
      "image/png": "[encoded data removed]",
      "text/plain": [
       "<Figure size 432x288 with 1 Axes>"
      ]
     },
     "metadata": {
      "needs_background": "light"
     },
     "output_type": "display_data"
    },
    {
     "name": "stdout",
     "output_type": "stream",
     "text": [
      "STATE: 41\n",
      "Feature state :[0. 0. 0. 1. 0. 0. 0. 0. 0. 0. 1. 1.]\n",
      "Action: straight\n",
      "Dist proba: None\n",
      "Reward: -10\n"
     ]
    },
    {
     "data": {
      "image/png": "[encoded data removed]",
      "text/plain": [
       "<Figure size 432x288 with 1 Axes>"
      ]
     },
     "metadata": {
      "needs_background": "light"
     },
     "output_type": "display_data"
    },
    {
     "name": "stdout",
     "output_type": "stream",
     "text": [
      "STATE: 42\n",
      "Feature state :[0. 0. 0. 1. 0. 0. 0. 0. 0. 0. 1. 0.]\n",
      "Action: right\n",
      "Dist proba: None\n",
      "Reward: -10\n"
     ]
    },
    {
     "data": {
      "image/png": "[encoded data removed]",
      "text/plain": [
       "<Figure size 432x288 with 1 Axes>"
      ]
     },
     "metadata": {
      "needs_background": "light"
     },
     "output_type": "display_data"
    },
    {
     "name": "stdout",
     "output_type": "stream",
     "text": [
      "STATE: 43\n",
      "Feature state :[0. 0. 1. 0. 0. 0. 0. 0. 0. 0. 1. 0.]\n",
      "Action: straight\n",
      "Dist proba: None\n",
      "Reward: -10\n"
     ]
    },
    {
     "data": {
      "image/png": "[encoded data removed]",
      "text/plain": [
       "<Figure size 432x288 with 1 Axes>"
      ]
     },
     "metadata": {
      "needs_background": "light"
     },
     "output_type": "display_data"
    },
    {
     "name": "stdout",
     "output_type": "stream",
     "text": [
      "STATE: 44\n",
      "Feature state :[0. 0. 1. 0. 0. 0. 0. 0. 0. 0. 1. 0.]\n",
      "Action: straight\n",
      "Dist proba: None\n",
      "Reward: -10\n"
     ]
    },
    {
     "data": {
      "image/png": "[encoded data removed]",
      "text/plain": [
       "<Figure size 432x288 with 1 Axes>"
      ]
     },
     "metadata": {
      "needs_background": "light"
     },
     "output_type": "display_data"
    },
    {
     "name": "stdout",
     "output_type": "stream",
     "text": [
      "STATE: 45\n",
      "Feature state :[0. 0. 1. 0. 0. 0. 0. 0. 0. 0. 1. 0.]\n",
      "Action: straight\n",
      "Dist proba: None\n",
      "Reward: -10\n"
     ]
    },
    {
     "data": {
      "image/png": "[encoded data removed]",
      "text/plain": [
       "<Figure size 432x288 with 1 Axes>"
      ]
     },
     "metadata": {
      "needs_background": "light"
     },
     "output_type": "display_data"
    },
    {
     "name": "stdout",
     "output_type": "stream",
     "text": [
      "STATE: 46\n",
      "Feature state :[0. 0. 1. 0. 0. 0. 0. 0. 0. 0. 1. 0.]\n",
      "Action: straight\n",
      "Dist proba: None\n",
      "Reward: -10\n"
     ]
    },
    {
     "data": {
      "image/png": "[encoded data removed]",
      "text/plain": [
       "<Figure size 432x288 with 1 Axes>"
      ]
     },
     "metadata": {
      "needs_background": "light"
     },
     "output_type": "display_data"
    },
    {
     "name": "stdout",
     "output_type": "stream",
     "text": [
      "STATE: 47\n",
      "Feature state :[0. 0. 1. 0. 0. 0. 0. 0. 0. 0. 1. 0.]\n",
      "Action: straight\n",
      "Dist proba: None\n",
      "Reward: 100\n"
     ]
    },
    {
     "data": {
      "image/png": "[encoded data removed]",
      "text/plain": [
       "<Figure size 432x288 with 1 Axes>"
      ]
     },
     "metadata": {
      "needs_background": "light"
     },
     "output_type": "display_data"
    },
    {
     "name": "stdout",
     "output_type": "stream",
     "text": [
      "STATE: 48\n",
      "Feature state :[0. 0. 1. 0. 0. 0. 0. 0. 1. 0. 0. 1.]\n",
      "Action: left\n",
      "Dist proba: None\n",
      "Reward: -10\n"
     ]
    },
    {
     "data": {
      "image/png": "[encoded data removed]",
      "text/plain": [
       "<Figure size 432x288 with 1 Axes>"
      ]
     },
     "metadata": {
      "needs_background": "light"
     },
     "output_type": "display_data"
    },
    {
     "name": "stdout",
     "output_type": "stream",
     "text": [
      "STATE: 49\n",
      "Feature state :[0. 0. 0. 1. 0. 0. 0. 0. 1. 0. 0. 1.]\n",
      "Action: straight\n",
      "Dist proba: None\n",
      "Reward: -10\n"
     ]
    },
    {
     "data": {
      "image/png": "[encoded data removed]",
      "text/plain": [
       "<Figure size 432x288 with 1 Axes>"
      ]
     },
     "metadata": {
      "needs_background": "light"
     },
     "output_type": "display_data"
    },
    {
     "name": "stdout",
     "output_type": "stream",
     "text": [
      "STATE: 50\n",
      "Feature state :[0. 0. 0. 1. 0. 0. 0. 0. 1. 0. 0. 1.]\n",
      "Action: straight\n",
      "Dist proba: None\n",
      "Reward: -10\n"
     ]
    },
    {
     "data": {
      "image/png": "[encoded data removed]",
      "text/plain": [
       "<Figure size 432x288 with 1 Axes>"
      ]
     },
     "metadata": {
      "needs_background": "light"
     },
     "output_type": "display_data"
    },
    {
     "name": "stdout",
     "output_type": "stream",
     "text": [
      "STATE: 51\n",
      "Feature state :[0. 0. 0. 1. 0. 0. 0. 0. 1. 0. 0. 0.]\n",
      "Action: left\n",
      "Dist proba: None\n",
      "Reward: -10\n"
     ]
    },
    {
     "data": {
      "image/png": "[encoded data removed]",
      "text/plain": [
       "<Figure size 432x288 with 1 Axes>"
      ]
     },
     "metadata": {
      "needs_background": "light"
     },
     "output_type": "display_data"
    },
    {
     "name": "stdout",
     "output_type": "stream",
     "text": [
      "STATE: 52\n",
      "Feature state :[1. 0. 0. 0. 0. 0. 0. 0. 1. 0. 0. 0.]\n",
      "Action: straight\n",
      "Dist proba: None\n",
      "Reward: -10\n"
     ]
    },
    {
     "data": {
      "image/png": "[encoded data removed]",
      "text/plain": [
       "<Figure size 432x288 with 1 Axes>"
      ]
     },
     "metadata": {
      "needs_background": "light"
     },
     "output_type": "display_data"
    },
    {
     "name": "stdout",
     "output_type": "stream",
     "text": [
      "STATE: 53\n",
      "Feature state :[1. 0. 0. 0. 0. 0. 0. 0. 1. 0. 0. 0.]\n",
      "Action: straight\n",
      "Dist proba: None\n",
      "Reward: 100\n"
     ]
    },
    {
     "data": {
      "image/png": "[encoded data removed]",
      "text/plain": [
       "<Figure size 432x288 with 1 Axes>"
      ]
     },
     "metadata": {
      "needs_background": "light"
     },
     "output_type": "display_data"
    },
    {
     "name": "stdout",
     "output_type": "stream",
     "text": [
      "STATE: 54\n",
      "Feature state :[1. 0. 0. 0. 0. 0. 0. 0. 1. 1. 0. 0.]\n",
      "Action: straight\n",
      "Dist proba: None\n",
      "Reward: -10\n"
     ]
    },
    {
     "data": {
      "image/png": "[encoded data removed]",
      "text/plain": [
       "<Figure size 432x288 with 1 Axes>"
      ]
     },
     "metadata": {
      "needs_background": "light"
     },
     "output_type": "display_data"
    },
    {
     "name": "stdout",
     "output_type": "stream",
     "text": [
      "STATE: 55\n",
      "Feature state :[1. 0. 0. 0. 0. 0. 0. 0. 1. 1. 0. 0.]\n",
      "Action: straight\n",
      "Dist proba: None\n",
      "Reward: -10\n"
     ]
    },
    {
     "data": {
      "image/png": "[encoded data removed]",
      "text/plain": [
       "<Figure size 432x288 with 1 Axes>"
      ]
     },
     "metadata": {
      "needs_background": "light"
     },
     "output_type": "display_data"
    },
    {
     "name": "stdout",
     "output_type": "stream",
     "text": [
      "STATE: 56\n",
      "Feature state :[1. 0. 0. 0. 0. 0. 0. 0. 1. 1. 0. 0.]\n",
      "Action: straight\n",
      "Dist proba: None\n",
      "Reward: -10\n"
     ]
    },
    {
     "data": {
      "image/png": "[encoded data removed]",
      "text/plain": [
       "<Figure size 432x288 with 1 Axes>"
      ]
     },
     "metadata": {
      "needs_background": "light"
     },
     "output_type": "display_data"
    },
    {
     "name": "stdout",
     "output_type": "stream",
     "text": [
      "STATE: 57\n",
      "Feature state :[1. 0. 0. 0. 0. 0. 0. 0. 1. 1. 0. 0.]\n",
      "Action: straight\n",
      "Dist proba: None\n",
      "Reward: -10\n"
     ]
    },
    {
     "data": {
      "image/png": "[encoded data removed]",
      "text/plain": [
       "<Figure size 432x288 with 1 Axes>"
      ]
     },
     "metadata": {
      "needs_background": "light"
     },
     "output_type": "display_data"
    },
    {
     "name": "stdout",
     "output_type": "stream",
     "text": [
      "STATE: 58\n",
      "Feature state :[1. 0. 0. 0. 1. 0. 0. 0. 0. 1. 0. 0.]\n",
      "Action: left\n",
      "Dist proba: None\n",
      "Reward: -10\n"
     ]
    },
    {
     "data": {
      "image/png": "[encoded data removed]",
      "text/plain": [
       "<Figure size 432x288 with 1 Axes>"
      ]
     },
     "metadata": {
      "needs_background": "light"
     },
     "output_type": "display_data"
    },
    {
     "name": "stdout",
     "output_type": "stream",
     "text": [
      "STATE: 59\n",
      "Feature state :[0. 1. 0. 0. 1. 0. 0. 0. 0. 1. 0. 0.]\n",
      "Action: straight\n",
      "Dist proba: None\n",
      "Reward: -10\n"
     ]
    },
    {
     "data": {
      "image/png": "[encoded data removed]",
      "text/plain": [
       "<Figure size 432x288 with 1 Axes>"
      ]
     },
     "metadata": {
      "needs_background": "light"
     },
     "output_type": "display_data"
    },
    {
     "name": "stdout",
     "output_type": "stream",
     "text": [
      "STATE: 60\n",
      "Feature state :[0. 1. 0. 0. 1. 0. 0. 0. 0. 1. 0. 0.]\n",
      "Action: straight\n",
      "Dist proba: None\n",
      "Reward: -10\n"
     ]
    },
    {
     "data": {
      "image/png": "[encoded data removed]",
      "text/plain": [
       "<Figure size 432x288 with 1 Axes>"
      ]
     },
     "metadata": {
      "needs_background": "light"
     },
     "output_type": "display_data"
    },
    {
     "name": "stdout",
     "output_type": "stream",
     "text": [
      "STATE: 61\n",
      "Feature state :[0. 1. 0. 0. 1. 0. 0. 0. 0. 1. 0. 0.]\n",
      "Action: straight\n",
      "Dist proba: None\n",
      "Reward: 100\n"
     ]
    },
    {
     "data": {
      "image/png": "[encoded data removed]",
      "text/plain": [
       "<Figure size 432x288 with 1 Axes>"
      ]
     },
     "metadata": {
      "needs_background": "light"
     },
     "output_type": "display_data"
    },
    {
     "name": "stdout",
     "output_type": "stream",
     "text": [
      "STATE: 62\n",
      "Feature state :[0. 1. 0. 0. 1. 0. 0. 0. 0. 1. 0. 0.]\n",
      "Action: straight\n",
      "Dist proba: None\n",
      "Reward: 100\n"
     ]
    },
    {
     "data": {
      "image/png": "[encoded data removed]",
      "text/plain": [
       "<Figure size 432x288 with 1 Axes>"
      ]
     },
     "metadata": {
      "needs_background": "light"
     },
     "output_type": "display_data"
    },
    {
     "name": "stdout",
     "output_type": "stream",
     "text": [
      "STATE: 63\n",
      "Feature state :[0. 1. 0. 0. 1. 0. 0. 0. 0. 0. 1. 1.]\n",
      "Action: left\n",
      "Dist proba: None\n",
      "Reward: -10\n"
     ]
    },
    {
     "data": {
      "image/png": "[encoded data removed]",
      "text/plain": [
       "<Figure size 432x288 with 1 Axes>"
      ]
     },
     "metadata": {
      "needs_background": "light"
     },
     "output_type": "display_data"
    },
    {
     "name": "stdout",
     "output_type": "stream",
     "text": [
      "STATE: 64\n",
      "Feature state :[0. 0. 1. 0. 0. 0. 0. 0. 0. 0. 1. 1.]\n",
      "Action: left\n",
      "Dist proba: None\n",
      "Reward: -10\n"
     ]
    },
    {
     "data": {
      "image/png": "[encoded data removed]",
      "text/plain": [
       "<Figure size 432x288 with 1 Axes>"
      ]
     },
     "metadata": {
      "needs_background": "light"
     },
     "output_type": "display_data"
    },
    {
     "name": "stdout",
     "output_type": "stream",
     "text": [
      "STATE: 65\n",
      "Feature state :[0. 0. 0. 1. 1. 0. 0. 0. 0. 0. 1. 1.]\n",
      "Action: straight\n",
      "Dist proba: None\n",
      "Reward: -10\n"
     ]
    },
    {
     "data": {
      "image/png": "[encoded data removed]",
      "text/plain": [
       "<Figure size 432x288 with 1 Axes>"
      ]
     },
     "metadata": {
      "needs_background": "light"
     },
     "output_type": "display_data"
    },
    {
     "name": "stdout",
     "output_type": "stream",
     "text": [
      "STATE: 66\n",
      "Feature state :[0. 0. 0. 1. 1. 0. 0. 0. 0. 0. 1. 1.]\n",
      "Action: straight\n",
      "Dist proba: None\n",
      "Reward: -10\n"
     ]
    },
    {
     "data": {
      "image/png": "[encoded data removed]",
      "text/plain": [
       "<Figure size 432x288 with 1 Axes>"
      ]
     },
     "metadata": {
      "needs_background": "light"
     },
     "output_type": "display_data"
    },
    {
     "name": "stdout",
     "output_type": "stream",
     "text": [
      "STATE: 67\n",
      "Feature state :[0. 0. 0. 1. 1. 0. 0. 0. 0. 0. 1. 0.]\n",
      "Action: right\n",
      "Dist proba: None\n",
      "Reward: 100\n"
     ]
    },
    {
     "data": {
      "image/png": "[encoded data removed]",
      "text/plain": [
       "<Figure size 432x288 with 1 Axes>"
      ]
     },
     "metadata": {
      "needs_background": "light"
     },
     "output_type": "display_data"
    },
    {
     "name": "stdout",
     "output_type": "stream",
     "text": [
      "STATE: 68\n",
      "Feature state :[0. 0. 1. 0. 0. 0. 0. 0. 0. 0. 1. 1.]\n",
      "Action: left\n",
      "Dist proba: None\n",
      "Reward: -10\n"
     ]
    },
    {
     "data": {
      "image/png": "[encoded data removed]",
      "text/plain": [
       "<Figure size 432x288 with 1 Axes>"
      ]
     },
     "metadata": {
      "needs_background": "light"
     },
     "output_type": "display_data"
    },
    {
     "name": "stdout",
     "output_type": "stream",
     "text": [
      "STATE: 69\n",
      "Feature state :[0. 0. 0. 1. 0. 0. 0. 0. 0. 0. 1. 0.]\n",
      "Action: right\n",
      "Dist proba: None\n",
      "Reward: -10\n"
     ]
    },
    {
     "data": {
      "image/png": "[encoded data removed]",
      "text/plain": [
       "<Figure size 432x288 with 1 Axes>"
      ]
     },
     "metadata": {
      "needs_background": "light"
     },
     "output_type": "display_data"
    },
    {
     "name": "stdout",
     "output_type": "stream",
     "text": [
      "STATE: 70\n",
      "Feature state :[0. 0. 1. 0. 0. 0. 0. 0. 0. 0. 1. 0.]\n",
      "Action: straight\n",
      "Dist proba: None\n",
      "Reward: -10\n"
     ]
    },
    {
     "data": {
      "image/png": "[encoded data removed]",
      "text/plain": [
       "<Figure size 432x288 with 1 Axes>"
      ]
     },
     "metadata": {
      "needs_background": "light"
     },
     "output_type": "display_data"
    },
    {
     "name": "stdout",
     "output_type": "stream",
     "text": [
      "STATE: 71\n",
      "Feature state :[0. 0. 1. 0. 0. 0. 0. 0. 0. 0. 1. 0.]\n",
      "Action: straight\n",
      "Dist proba: None\n",
      "Reward: 100\n"
     ]
    },
    {
     "data": {
      "image/png": "[encoded data removed]",
      "text/plain": [
       "<Figure size 432x288 with 1 Axes>"
      ]
     },
     "metadata": {
      "needs_background": "light"
     },
     "output_type": "display_data"
    },
    {
     "name": "stdout",
     "output_type": "stream",
     "text": [
      "STATE: 72\n",
      "Feature state :[0. 0. 1. 0. 0. 0. 0. 0. 1. 1. 0. 0.]\n",
      "Action: right\n",
      "Dist proba: None\n",
      "Reward: -10\n"
     ]
    },
    {
     "data": {
      "image/png": "[encoded data removed]",
      "text/plain": [
       "<Figure size 432x288 with 1 Axes>"
      ]
     },
     "metadata": {
      "needs_background": "light"
     },
     "output_type": "display_data"
    },
    {
     "name": "stdout",
     "output_type": "stream",
     "text": [
      "STATE: 73\n",
      "Feature state :[0. 1. 0. 0. 0. 0. 0. 0. 1. 1. 0. 0.]\n",
      "Action: straight\n",
      "Dist proba: None\n",
      "Reward: -10\n"
     ]
    },
    {
     "data": {
      "image/png": "[encoded data removed]",
      "text/plain": [
       "<Figure size 432x288 with 1 Axes>"
      ]
     },
     "metadata": {
      "needs_background": "light"
     },
     "output_type": "display_data"
    },
    {
     "name": "stdout",
     "output_type": "stream",
     "text": [
      "STATE: 74\n",
      "Feature state :[0. 1. 0. 0. 0. 0. 0. 0. 1. 0. 0. 0.]\n",
      "Action: right\n",
      "Dist proba: None\n",
      "Reward: -10\n"
     ]
    },
    {
     "data": {
      "image/png": "[encoded data removed]",
      "text/plain": [
       "<Figure size 432x288 with 1 Axes>"
      ]
     },
     "metadata": {
      "needs_background": "light"
     },
     "output_type": "display_data"
    },
    {
     "name": "stdout",
     "output_type": "stream",
     "text": [
      "STATE: 75\n",
      "Feature state :[1. 0. 0. 0. 0. 0. 0. 0. 1. 0. 0. 0.]\n",
      "Action: straight\n",
      "Dist proba: None\n",
      "Reward: -10\n"
     ]
    },
    {
     "data": {
      "image/png": "[encoded data removed]",
      "text/plain": [
       "<Figure size 432x288 with 1 Axes>"
      ]
     },
     "metadata": {
      "needs_background": "light"
     },
     "output_type": "display_data"
    },
    {
     "name": "stdout",
     "output_type": "stream",
     "text": [
      "STATE: 76\n",
      "Feature state :[1. 0. 0. 0. 0. 0. 0. 0. 1. 0. 0. 0.]\n",
      "Action: straight\n",
      "Dist proba: None\n",
      "Reward: 100\n"
     ]
    },
    {
     "data": {
      "image/png": "[encoded data removed]",
      "text/plain": [
       "<Figure size 432x288 with 1 Axes>"
      ]
     },
     "metadata": {
      "needs_background": "light"
     },
     "output_type": "display_data"
    },
    {
     "name": "stdout",
     "output_type": "stream",
     "text": [
      "STATE: 77\n",
      "Feature state :[1. 0. 0. 0. 1. 0. 0. 1. 0. 0. 1. 0.]\n",
      "Action: left\n",
      "Dist proba: None\n",
      "Reward: -10\n"
     ]
    },
    {
     "data": {
      "image/png": "[encoded data removed]",
      "text/plain": [
       "<Figure size 432x288 with 1 Axes>"
      ]
     },
     "metadata": {
      "needs_background": "light"
     },
     "output_type": "display_data"
    },
    {
     "name": "stdout",
     "output_type": "stream",
     "text": [
      "STATE: 78\n",
      "Feature state :[0. 1. 0. 0. 1. 0. 0. 0. 0. 0. 1. 1.]\n",
      "Action: left\n",
      "Dist proba: None\n",
      "Reward: -10\n"
     ]
    },
    {
     "data": {
      "image/png": "[encoded data removed]",
      "text/plain": [
       "<Figure size 432x288 with 1 Axes>"
      ]
     },
     "metadata": {
      "needs_background": "light"
     },
     "output_type": "display_data"
    },
    {
     "name": "stdout",
     "output_type": "stream",
     "text": [
      "STATE: 79\n",
      "Feature state :[0. 0. 1. 0. 0. 0. 0. 1. 0. 0. 1. 1.]\n",
      "Action: straight\n",
      "Dist proba: None\n",
      "Reward: -10\n"
     ]
    },
    {
     "data": {
      "image/png": "[encoded data removed]",
      "text/plain": [
       "<Figure size 432x288 with 1 Axes>"
      ]
     },
     "metadata": {
      "needs_background": "light"
     },
     "output_type": "display_data"
    },
    {
     "name": "stdout",
     "output_type": "stream",
     "text": [
      "STATE: 80\n",
      "Feature state :[0. 0. 1. 0. 0. 0. 0. 1. 0. 0. 1. 1.]\n",
      "Action: straight\n",
      "Dist proba: None\n",
      "Reward: -10\n"
     ]
    },
    {
     "data": {
      "image/png": "[encoded data removed]",
      "text/plain": [
       "<Figure size 432x288 with 1 Axes>"
      ]
     },
     "metadata": {
      "needs_background": "light"
     },
     "output_type": "display_data"
    },
    {
     "name": "stdout",
     "output_type": "stream",
     "text": [
      "STATE: 81\n",
      "Feature state :[0. 0. 1. 0. 0. 0. 0. 1. 0. 0. 1. 1.]\n",
      "Action: straight\n",
      "Dist proba: None\n",
      "Reward: -10\n"
     ]
    },
    {
     "data": {
      "image/png": "[encoded data removed]",
      "text/plain": [
       "<Figure size 432x288 with 1 Axes>"
      ]
     },
     "metadata": {
      "needs_background": "light"
     },
     "output_type": "display_data"
    },
    {
     "name": "stdout",
     "output_type": "stream",
     "text": [
      "STATE: 82\n",
      "Feature state :[0. 0. 1. 0. 0. 0. 0. 0. 0. 0. 1. 1.]\n",
      "Action: left\n",
      "Dist proba: None\n",
      "Reward: -10\n"
     ]
    },
    {
     "data": {
      "image/png": "[encoded data removed]",
      "text/plain": [
       "<Figure size 432x288 with 1 Axes>"
      ]
     },
     "metadata": {
      "needs_background": "light"
     },
     "output_type": "display_data"
    },
    {
     "name": "stdout",
     "output_type": "stream",
     "text": [
      "STATE: 83\n",
      "Feature state :[0. 0. 0. 1. 1. 0. 0. 0. 0. 0. 1. 0.]\n",
      "Action: right\n",
      "Dist proba: None\n",
      "Reward: 100\n"
     ]
    },
    {
     "data": {
      "image/png": "[encoded data removed]",
      "text/plain": [
       "<Figure size 432x288 with 1 Axes>"
      ]
     },
     "metadata": {
      "needs_background": "light"
     },
     "output_type": "display_data"
    },
    {
     "name": "stdout",
     "output_type": "stream",
     "text": [
      "STATE: 84\n",
      "Feature state :[0. 0. 1. 0. 0. 0. 0. 0. 1. 0. 0. 1.]\n",
      "Action: left\n",
      "Dist proba: None\n",
      "Reward: -10\n"
     ]
    },
    {
     "data": {
      "image/png": "[encoded data removed]",
      "text/plain": [
       "<Figure size 432x288 with 1 Axes>"
      ]
     },
     "metadata": {
      "needs_background": "light"
     },
     "output_type": "display_data"
    },
    {
     "name": "stdout",
     "output_type": "stream",
     "text": [
      "STATE: 85\n",
      "Feature state :[0. 0. 0. 1. 0. 0. 0. 0. 1. 0. 0. 1.]\n",
      "Action: straight\n",
      "Dist proba: None\n",
      "Reward: -10\n"
     ]
    },
    {
     "data": {
      "image/png": "[encoded data removed]",
      "text/plain": [
       "<Figure size 432x288 with 1 Axes>"
      ]
     },
     "metadata": {
      "needs_background": "light"
     },
     "output_type": "display_data"
    },
    {
     "name": "stdout",
     "output_type": "stream",
     "text": [
      "STATE: 86\n",
      "Feature state :[0. 0. 0. 1. 0. 0. 0. 0. 1. 0. 0. 1.]\n",
      "Action: straight\n",
      "Dist proba: None\n",
      "Reward: -10\n"
     ]
    },
    {
     "data": {
      "image/png": "[encoded data removed]",
      "text/plain": [
       "<Figure size 432x288 with 1 Axes>"
      ]
     },
     "metadata": {
      "needs_background": "light"
     },
     "output_type": "display_data"
    },
    {
     "name": "stdout",
     "output_type": "stream",
     "text": [
      "STATE: 87\n",
      "Feature state :[0. 0. 0. 1. 0. 0. 0. 0. 1. 0. 0. 0.]\n",
      "Action: left\n",
      "Dist proba: None\n",
      "Reward: -10\n"
     ]
    },
    {
     "data": {
      "image/png": "[encoded data removed]",
      "text/plain": [
       "<Figure size 432x288 with 1 Axes>"
      ]
     },
     "metadata": {
      "needs_background": "light"
     },
     "output_type": "display_data"
    },
    {
     "name": "stdout",
     "output_type": "stream",
     "text": [
      "STATE: 88\n",
      "Feature state :[1. 0. 0. 0. 0. 0. 0. 0. 1. 0. 0. 0.]\n",
      "Action: straight\n",
      "Dist proba: None\n",
      "Reward: -10\n"
     ]
    },
    {
     "data": {
      "image/png": "[encoded data removed]",
      "text/plain": [
       "<Figure size 432x288 with 1 Axes>"
      ]
     },
     "metadata": {
      "needs_background": "light"
     },
     "output_type": "display_data"
    },
    {
     "name": "stdout",
     "output_type": "stream",
     "text": [
      "STATE: 89\n",
      "Feature state :[1. 0. 0. 0. 0. 0. 0. 0. 1. 0. 0. 0.]\n",
      "Action: straight\n",
      "Dist proba: None\n",
      "Reward: 100\n"
     ]
    },
    {
     "data": {
      "image/png": "[encoded data removed]",
      "text/plain": [
       "<Figure size 432x288 with 1 Axes>"
      ]
     },
     "metadata": {
      "needs_background": "light"
     },
     "output_type": "display_data"
    },
    {
     "name": "stdout",
     "output_type": "stream",
     "text": [
      "STATE: 90\n",
      "Feature state :[1. 0. 0. 0. 0. 0. 0. 0. 0. 1. 1. 0.]\n",
      "Action: left\n",
      "Dist proba: None\n",
      "Reward: -10\n"
     ]
    },
    {
     "data": {
      "image/png": "[encoded data removed]",
      "text/plain": [
       "<Figure size 432x288 with 1 Axes>"
      ]
     },
     "metadata": {
      "needs_background": "light"
     },
     "output_type": "display_data"
    },
    {
     "name": "stdout",
     "output_type": "stream",
     "text": [
      "STATE: 91\n",
      "Feature state :[0. 1. 0. 0. 0. 0. 0. 0. 0. 1. 1. 0.]\n",
      "Action: straight\n",
      "Dist proba: None\n",
      "Reward: -10\n"
     ]
    },
    {
     "data": {
      "image/png": "[encoded data removed]",
      "text/plain": [
       "<Figure size 432x288 with 1 Axes>"
      ]
     },
     "metadata": {
      "needs_background": "light"
     },
     "output_type": "display_data"
    },
    {
     "name": "stdout",
     "output_type": "stream",
     "text": [
      "STATE: 92\n",
      "Feature state :[0. 1. 0. 0. 0. 0. 0. 0. 0. 1. 1. 0.]\n",
      "Action: straight\n",
      "Dist proba: None\n",
      "Reward: -10\n"
     ]
    },
    {
     "data": {
      "image/png": "[encoded data removed]",
      "text/plain": [
       "<Figure size 432x288 with 1 Axes>"
      ]
     },
     "metadata": {
      "needs_background": "light"
     },
     "output_type": "display_data"
    },
    {
     "name": "stdout",
     "output_type": "stream",
     "text": [
      "STATE: 93\n",
      "Feature state :[0. 1. 0. 0. 0. 1. 0. 0. 0. 1. 1. 0.]\n",
      "Action: right\n",
      "Dist proba: None\n",
      "Reward: -10\n"
     ]
    },
    {
     "data": {
      "image/png": "[encoded data removed]",
      "text/plain": [
       "<Figure size 432x288 with 1 Axes>"
      ]
     },
     "metadata": {
      "needs_background": "light"
     },
     "output_type": "display_data"
    },
    {
     "name": "stdout",
     "output_type": "stream",
     "text": [
      "STATE: 94\n",
      "Feature state :[1. 0. 0. 0. 0. 1. 0. 0. 0. 1. 1. 0.]\n",
      "Action: straight\n",
      "Dist proba: None\n",
      "Reward: -10\n"
     ]
    },
    {
     "data": {
      "image/png": "[encoded data removed]",
      "text/plain": [
       "<Figure size 432x288 with 1 Axes>"
      ]
     },
     "metadata": {
      "needs_background": "light"
     },
     "output_type": "display_data"
    },
    {
     "name": "stdout",
     "output_type": "stream",
     "text": [
      "STATE: 95\n",
      "Feature state :[1. 0. 0. 0. 0. 0. 0. 0. 0. 1. 1. 0.]\n",
      "Action: left\n",
      "Dist proba: None\n",
      "Reward: -10\n"
     ]
    },
    {
     "data": {
      "image/png": "[encoded data removed]",
      "text/plain": [
       "<Figure size 432x288 with 1 Axes>"
      ]
     },
     "metadata": {
      "needs_background": "light"
     },
     "output_type": "display_data"
    },
    {
     "name": "stdout",
     "output_type": "stream",
     "text": [
      "STATE: 96\n",
      "Feature state :[0. 1. 0. 0. 0. 0. 0. 0. 0. 1. 1. 0.]\n",
      "Action: straight\n",
      "Dist proba: None\n",
      "Reward: -10\n"
     ]
    },
    {
     "data": {
      "image/png": "[encoded data removed]",
      "text/plain": [
       "<Figure size 432x288 with 1 Axes>"
      ]
     },
     "metadata": {
      "needs_background": "light"
     },
     "output_type": "display_data"
    },
    {
     "name": "stdout",
     "output_type": "stream",
     "text": [
      "STATE: 97\n",
      "Feature state :[0. 1. 0. 0. 0. 0. 0. 0. 0. 0. 1. 0.]\n",
      "Action: left\n",
      "Dist proba: None\n",
      "Reward: -10\n"
     ]
    },
    {
     "data": {
      "image/png": "[encoded data removed]",
      "text/plain": [
       "<Figure size 432x288 with 1 Axes>"
      ]
     },
     "metadata": {
      "needs_background": "light"
     },
     "output_type": "display_data"
    },
    {
     "name": "stdout",
     "output_type": "stream",
     "text": [
      "STATE: 98\n",
      "Feature state :[0. 0. 1. 0. 0. 0. 0. 0. 0. 0. 1. 0.]\n",
      "Action: straight\n",
      "Dist proba: None\n",
      "Reward: -10\n"
     ]
    },
    {
     "data": {
      "image/png": "[encoded data removed]",
      "text/plain": [
       "<Figure size 432x288 with 1 Axes>"
      ]
     },
     "metadata": {
      "needs_background": "light"
     },
     "output_type": "display_data"
    },
    {
     "name": "stdout",
     "output_type": "stream",
     "text": [
      "STATE: 99\n",
      "Feature state :[0. 0. 1. 0. 0. 0. 0. 0. 0. 0. 1. 0.]\n",
      "Action: straight\n",
      "Dist proba: None\n",
      "Reward: 100\n"
     ]
    },
    {
     "data": {
      "image/png": "[encoded data removed]",
      "text/plain": [
       "<Figure size 432x288 with 1 Axes>"
      ]
     },
     "metadata": {
      "needs_background": "light"
     },
     "output_type": "display_data"
    },
    {
     "name": "stdout",
     "output_type": "stream",
     "text": [
      "STATE: 100\n",
      "Feature state :[0. 0. 1. 0. 0. 0. 0. 0. 0. 0. 1. 0.]\n",
      "Action: straight\n",
      "Dist proba: None\n",
      "Reward: 100\n"
     ]
    },
    {
     "data": {
      "image/png": "[encoded data removed]",
      "text/plain": [
       "<Figure size 432x288 with 1 Axes>"
      ]
     },
     "metadata": {
      "needs_background": "light"
     },
     "output_type": "display_data"
    },
    {
     "name": "stdout",
     "output_type": "stream",
     "text": [
      "STATE: 101\n",
      "Feature state :[0. 0. 1. 0. 0. 0. 0. 0. 1. 0. 0. 1.]\n",
      "Action: left\n",
      "Dist proba: None\n",
      "Reward: -10\n"
     ]
    },
    {
     "data": {
      "image/png": "[encoded data removed]",
      "text/plain": [
       "<Figure size 432x288 with 1 Axes>"
      ]
     },
     "metadata": {
      "needs_background": "light"
     },
     "output_type": "display_data"
    },
    {
     "name": "stdout",
     "output_type": "stream",
     "text": [
      "STATE: 102\n",
      "Feature state :[0. 0. 0. 1. 0. 0. 0. 0. 1. 0. 0. 1.]\n",
      "Action: straight\n",
      "Dist proba: None\n",
      "Reward: -10\n"
     ]
    },
    {
     "data": {
      "image/png": "[encoded data removed]",
      "text/plain": [
       "<Figure size 432x288 with 1 Axes>"
      ]
     },
     "metadata": {
      "needs_background": "light"
     },
     "output_type": "display_data"
    },
    {
     "name": "stdout",
     "output_type": "stream",
     "text": [
      "STATE: 103\n",
      "Feature state :[0. 0. 0. 1. 0. 0. 0. 0. 1. 0. 0. 0.]\n",
      "Action: left\n",
      "Dist proba: None\n",
      "Reward: 100\n"
     ]
    },
    {
     "data": {
      "image/png": "[encoded data removed]",
      "text/plain": [
       "<Figure size 432x288 with 1 Axes>"
      ]
     },
     "metadata": {
      "needs_background": "light"
     },
     "output_type": "display_data"
    },
    {
     "name": "stdout",
     "output_type": "stream",
     "text": [
      "STATE: 104\n",
      "Feature state :[1. 0. 0. 0. 1. 0. 0. 0. 1. 1. 0. 0.]\n",
      "Action: right\n",
      "Dist proba: None\n",
      "Reward: -10\n"
     ]
    },
    {
     "data": {
      "image/png": "[encoded data removed]",
      "text/plain": [
       "<Figure size 432x288 with 1 Axes>"
      ]
     },
     "metadata": {
      "needs_background": "light"
     },
     "output_type": "display_data"
    },
    {
     "name": "stdout",
     "output_type": "stream",
     "text": [
      "STATE: 105\n",
      "Feature state :[0. 0. 0. 1. 1. 0. 0. 0. 1. 1. 0. 0.]\n",
      "Action: straight\n",
      "Dist proba: None\n",
      "Reward: -10\n"
     ]
    },
    {
     "data": {
      "image/png": "[encoded data removed]",
      "text/plain": [
       "<Figure size 432x288 with 1 Axes>"
      ]
     },
     "metadata": {
      "needs_background": "light"
     },
     "output_type": "display_data"
    },
    {
     "name": "stdout",
     "output_type": "stream",
     "text": [
      "STATE: 106\n",
      "Feature state :[0. 0. 0. 1. 1. 0. 0. 1. 1. 1. 0. 0.]\n",
      "Action: right\n",
      "Dist proba: None\n",
      "Reward: -10\n"
     ]
    },
    {
     "data": {
      "image/png": "[encoded data removed]",
      "text/plain": [
       "<Figure size 432x288 with 1 Axes>"
      ]
     },
     "metadata": {
      "needs_background": "light"
     },
     "output_type": "display_data"
    },
    {
     "name": "stdout",
     "output_type": "stream",
     "text": [
      "STATE: 107\n",
      "Feature state :[0. 0. 1. 0. 0. 0. 0. 1. 1. 1. 0. 0.]\n",
      "Action: right\n",
      "Dist proba: None\n",
      "Reward: -10\n"
     ]
    },
    {
     "data": {
      "image/png": "[encoded data removed]",
      "text/plain": [
       "<Figure size 432x288 with 1 Axes>"
      ]
     },
     "metadata": {
      "needs_background": "light"
     },
     "output_type": "display_data"
    },
    {
     "name": "stdout",
     "output_type": "stream",
     "text": [
      "STATE: 108\n",
      "Feature state :[0. 1. 0. 0. 1. 1. 0. 0. 1. 1. 0. 0.]\n",
      "Action: left\n",
      "Dist proba: None\n",
      "Reward: -10\n"
     ]
    },
    {
     "data": {
      "image/png": "[encoded data removed]",
      "text/plain": [
       "<Figure size 432x288 with 1 Axes>"
      ]
     },
     "metadata": {
      "needs_background": "light"
     },
     "output_type": "display_data"
    },
    {
     "name": "stdout",
     "output_type": "stream",
     "text": [
      "STATE: 109\n",
      "Feature state :[0. 0. 1. 0. 0. 0. 0. 0. 1. 1. 0. 0.]\n",
      "Action: right\n",
      "Dist proba: None\n",
      "Reward: -10\n"
     ]
    },
    {
     "data": {
      "image/png": "[encoded data removed]",
      "text/plain": [
       "<Figure size 432x288 with 1 Axes>"
      ]
     },
     "metadata": {
      "needs_background": "light"
     },
     "output_type": "display_data"
    },
    {
     "name": "stdout",
     "output_type": "stream",
     "text": [
      "STATE: 110\n",
      "Feature state :[0. 1. 0. 0. 1. 0. 0. 0. 1. 1. 0. 0.]\n",
      "Action: straight\n",
      "Dist proba: None\n",
      "Reward: -10\n"
     ]
    },
    {
     "data": {
      "image/png": "[encoded data removed]",
      "text/plain": [
       "<Figure size 432x288 with 1 Axes>"
      ]
     },
     "metadata": {
      "needs_background": "light"
     },
     "output_type": "display_data"
    },
    {
     "name": "stdout",
     "output_type": "stream",
     "text": [
      "STATE: 111\n",
      "Feature state :[0. 1. 0. 0. 1. 0. 0. 0. 1. 0. 0. 0.]\n",
      "Action: straight\n",
      "Dist proba: None\n",
      "Reward: -10\n"
     ]
    },
    {
     "data": {
      "image/png": "[encoded data removed]",
      "text/plain": [
       "<Figure size 432x288 with 1 Axes>"
      ]
     },
     "metadata": {
      "needs_background": "light"
     },
     "output_type": "display_data"
    },
    {
     "name": "stdout",
     "output_type": "stream",
     "text": [
      "STATE: 112\n",
      "Feature state :[0. 1. 0. 0. 1. 0. 0. 0. 1. 0. 0. 1.]\n",
      "Action: straight\n",
      "Dist proba: None\n",
      "Reward: -10\n"
     ]
    },
    {
     "data": {
      "image/png": "[encoded data removed]",
      "text/plain": [
       "<Figure size 432x288 with 1 Axes>"
      ]
     },
     "metadata": {
      "needs_background": "light"
     },
     "output_type": "display_data"
    },
    {
     "name": "stdout",
     "output_type": "stream",
     "text": [
      "STATE: 113\n",
      "Feature state :[0. 1. 0. 0. 0. 1. 0. 0. 1. 0. 0. 1.]\n",
      "Action: right\n",
      "Dist proba: None\n",
      "Reward: -10\n"
     ]
    },
    {
     "data": {
      "image/png": "[encoded data removed]",
      "text/plain": [
       "<Figure size 432x288 with 1 Axes>"
      ]
     },
     "metadata": {
      "needs_background": "light"
     },
     "output_type": "display_data"
    },
    {
     "name": "stdout",
     "output_type": "stream",
     "text": [
      "STATE: 114\n",
      "Feature state :[1. 0. 0. 0. 0. 1. 0. 1. 1. 0. 0. 1.]\n",
      "Action: straight\n",
      "Dist proba: None\n",
      "Reward: -10\n"
     ]
    },
    {
     "data": {
      "image/png": "[encoded data removed]",
      "text/plain": [
       "<Figure size 432x288 with 1 Axes>"
      ]
     },
     "metadata": {
      "needs_background": "light"
     },
     "output_type": "display_data"
    },
    {
     "name": "stdout",
     "output_type": "stream",
     "text": [
      "STATE: 115\n",
      "Feature state :[1. 0. 0. 0. 0. 1. 0. 1. 1. 0. 0. 1.]\n",
      "Action: straight\n",
      "Dist proba: None\n",
      "Reward: -10\n"
     ]
    },
    {
     "data": {
      "image/png": "[encoded data removed]",
      "text/plain": [
       "<Figure size 432x288 with 1 Axes>"
      ]
     },
     "metadata": {
      "needs_background": "light"
     },
     "output_type": "display_data"
    },
    {
     "name": "stdout",
     "output_type": "stream",
     "text": [
      "STATE: 116\n",
      "Feature state :[1. 0. 0. 0. 0. 1. 0. 1. 1. 0. 0. 1.]\n",
      "Action: straight\n",
      "Dist proba: None\n",
      "Reward: -10\n"
     ]
    },
    {
     "data": {
      "image/png": "[encoded data removed]",
      "text/plain": [
       "<Figure size 432x288 with 1 Axes>"
      ]
     },
     "metadata": {
      "needs_background": "light"
     },
     "output_type": "display_data"
    },
    {
     "name": "stdout",
     "output_type": "stream",
     "text": [
      "STATE: 117\n",
      "Feature state :[1. 0. 0. 0. 0. 1. 0. 1. 1. 0. 0. 1.]\n",
      "Action: straight\n",
      "Dist proba: None\n",
      "Reward: -10\n"
     ]
    },
    {
     "data": {
      "image/png": "[encoded data removed]",
      "text/plain": [
       "<Figure size 432x288 with 1 Axes>"
      ]
     },
     "metadata": {
      "needs_background": "light"
     },
     "output_type": "display_data"
    },
    {
     "name": "stdout",
     "output_type": "stream",
     "text": [
      "STATE: 118\n",
      "Feature state :[1. 0. 0. 0. 0. 1. 0. 0. 1. 0. 0. 1.]\n",
      "Action: right\n",
      "Dist proba: None\n",
      "Reward: -10\n"
     ]
    },
    {
     "data": {
      "image/png": "[encoded data removed]",
      "text/plain": [
       "<Figure size 432x288 with 1 Axes>"
      ]
     },
     "metadata": {
      "needs_background": "light"
     },
     "output_type": "display_data"
    },
    {
     "name": "stdout",
     "output_type": "stream",
     "text": [
      "STATE: 119\n",
      "Feature state :[0. 0. 0. 1. 0. 0. 0. 0. 1. 0. 0. 1.]\n",
      "Action: straight\n",
      "Dist proba: None\n",
      "Reward: -10\n"
     ]
    },
    {
     "data": {
      "image/png": "[encoded data removed]",
      "text/plain": [
       "<Figure size 432x288 with 1 Axes>"
      ]
     },
     "metadata": {
      "needs_background": "light"
     },
     "output_type": "display_data"
    },
    {
     "name": "stdout",
     "output_type": "stream",
     "text": [
      "STATE: 120\n",
      "Feature state :[0. 0. 0. 1. 0. 0. 0. 0. 1. 0. 0. 0.]\n",
      "Action: left\n",
      "Dist proba: None\n",
      "Reward: -10\n"
     ]
    },
    {
     "data": {
      "image/png": "[encoded data removed]",
      "text/plain": [
       "<Figure size 432x288 with 1 Axes>"
      ]
     },
     "metadata": {
      "needs_background": "light"
     },
     "output_type": "display_data"
    },
    {
     "name": "stdout",
     "output_type": "stream",
     "text": [
      "STATE: 121\n",
      "Feature state :[1. 0. 0. 0. 0. 0. 0. 0. 1. 0. 0. 0.]\n",
      "Action: straight\n",
      "Dist proba: None\n",
      "Reward: 100\n"
     ]
    },
    {
     "data": {
      "image/png": "[encoded data removed]",
      "text/plain": [
       "<Figure size 432x288 with 1 Axes>"
      ]
     },
     "metadata": {
      "needs_background": "light"
     },
     "output_type": "display_data"
    },
    {
     "name": "stdout",
     "output_type": "stream",
     "text": [
      "STATE: 122\n",
      "Feature state :[1. 0. 0. 0. 1. 0. 0. 0. 0. 1. 1. 0.]\n",
      "Action: right\n",
      "Dist proba: None\n",
      "Reward: -10\n"
     ]
    },
    {
     "data": {
      "image/png": "[encoded data removed]",
      "text/plain": [
       "<Figure size 432x288 with 1 Axes>"
      ]
     },
     "metadata": {
      "needs_background": "light"
     },
     "output_type": "display_data"
    },
    {
     "name": "stdout",
     "output_type": "stream",
     "text": [
      "STATE: 123\n",
      "Feature state :[0. 0. 0. 1. 1. 0. 0. 0. 0. 1. 1. 0.]\n",
      "Action: right\n",
      "Dist proba: None\n",
      "Reward: -10\n"
     ]
    },
    {
     "data": {
      "image/png": "[encoded data removed]",
      "text/plain": [
       "<Figure size 432x288 with 1 Axes>"
      ]
     },
     "metadata": {
      "needs_background": "light"
     },
     "output_type": "display_data"
    },
    {
     "name": "stdout",
     "output_type": "stream",
     "text": [
      "STATE: 124\n",
      "Feature state :[0. 0. 1. 0. 0. 1. 0. 0. 0. 1. 1. 0.]\n",
      "Action: straight\n",
      "Dist proba: None\n",
      "Reward: -10\n"
     ]
    },
    {
     "data": {
      "image/png": "[encoded data removed]",
      "text/plain": [
       "<Figure size 432x288 with 1 Axes>"
      ]
     },
     "metadata": {
      "needs_background": "light"
     },
     "output_type": "display_data"
    },
    {
     "name": "stdout",
     "output_type": "stream",
     "text": [
      "STATE: 125\n",
      "Feature state :[0. 0. 1. 0. 0. 1. 0. 0. 0. 1. 1. 0.]\n",
      "Action: straight\n",
      "Dist proba: None\n",
      "Reward: -10\n"
     ]
    },
    {
     "data": {
      "image/png": "[encoded data removed]",
      "text/plain": [
       "<Figure size 432x288 with 1 Axes>"
      ]
     },
     "metadata": {
      "needs_background": "light"
     },
     "output_type": "display_data"
    },
    {
     "name": "stdout",
     "output_type": "stream",
     "text": [
      "STATE: 126\n",
      "Feature state :[0. 0. 1. 0. 0. 0. 0. 0. 0. 1. 1. 0.]\n",
      "Action: straight\n",
      "Dist proba: None\n",
      "Reward: -10\n"
     ]
    },
    {
     "data": {
      "image/png": "[encoded data removed]",
      "text/plain": [
       "<Figure size 432x288 with 1 Axes>"
      ]
     },
     "metadata": {
      "needs_background": "light"
     },
     "output_type": "display_data"
    },
    {
     "name": "stdout",
     "output_type": "stream",
     "text": [
      "STATE: 127\n",
      "Feature state :[0. 0. 1. 0. 0. 0. 0. 0. 0. 1. 1. 0.]\n",
      "Action: straight\n",
      "Dist proba: None\n",
      "Reward: -10\n"
     ]
    },
    {
     "data": {
      "image/png": "[encoded data removed]",
      "text/plain": [
       "<Figure size 432x288 with 1 Axes>"
      ]
     },
     "metadata": {
      "needs_background": "light"
     },
     "output_type": "display_data"
    },
    {
     "name": "stdout",
     "output_type": "stream",
     "text": [
      "STATE: 128\n",
      "Feature state :[0. 0. 1. 0. 0. 0. 0. 0. 0. 1. 1. 0.]\n",
      "Action: straight\n",
      "Dist proba: None\n",
      "Reward: -10\n"
     ]
    },
    {
     "data": {
      "image/png": "[encoded data removed]",
      "text/plain": [
       "<Figure size 432x288 with 1 Axes>"
      ]
     },
     "metadata": {
      "needs_background": "light"
     },
     "output_type": "display_data"
    },
    {
     "name": "stdout",
     "output_type": "stream",
     "text": [
      "STATE: 129\n",
      "Feature state :[0. 0. 1. 0. 0. 0. 1. 0. 0. 1. 0. 0.]\n",
      "Action: right\n",
      "Dist proba: None\n",
      "Reward: -10\n"
     ]
    },
    {
     "data": {
      "image/png": "[encoded data removed]",
      "text/plain": [
       "<Figure size 432x288 with 1 Axes>"
      ]
     },
     "metadata": {
      "needs_background": "light"
     },
     "output_type": "display_data"
    },
    {
     "name": "stdout",
     "output_type": "stream",
     "text": [
      "STATE: 130\n",
      "Feature state :[0. 1. 0. 0. 0. 0. 1. 0. 0. 1. 0. 0.]\n",
      "Action: straight\n",
      "Dist proba: None\n",
      "Reward: 100\n"
     ]
    },
    {
     "data": {
      "image/png": "[encoded data removed]",
      "text/plain": [
       "<Figure size 432x288 with 1 Axes>"
      ]
     },
     "metadata": {
      "needs_background": "light"
     },
     "output_type": "display_data"
    },
    {
     "name": "stdout",
     "output_type": "stream",
     "text": [
      "STATE: 131\n",
      "Feature state :[0. 1. 0. 0. 0. 1. 1. 0. 0. 0. 0. 1.]\n",
      "Action: right\n",
      "Dist proba: None\n",
      "Reward: -10\n"
     ]
    },
    {
     "data": {
      "image/png": "[encoded data removed]",
      "text/plain": [
       "<Figure size 432x288 with 1 Axes>"
      ]
     },
     "metadata": {
      "needs_background": "light"
     },
     "output_type": "display_data"
    },
    {
     "name": "stdout",
     "output_type": "stream",
     "text": [
      "STATE: 132\n",
      "Feature state :[1. 0. 0. 0. 0. 1. 0. 0. 0. 0. 1. 1.]\n",
      "Action: right\n",
      "Dist proba: None\n",
      "Reward: -10\n"
     ]
    },
    {
     "data": {
      "image/png": "[encoded data removed]",
      "text/plain": [
       "<Figure size 432x288 with 1 Axes>"
      ]
     },
     "metadata": {
      "needs_background": "light"
     },
     "output_type": "display_data"
    },
    {
     "name": "stdout",
     "output_type": "stream",
     "text": [
      "STATE: 133\n",
      "Feature state :[0. 0. 0. 1. 0. 0. 1. 1. 0. 0. 1. 1.]\n",
      "Action: left\n",
      "Dist proba: None\n",
      "Reward: -10\n"
     ]
    },
    {
     "data": {
      "image/png": "[encoded data removed]",
      "text/plain": [
       "<Figure size 432x288 with 1 Axes>"
      ]
     },
     "metadata": {
      "needs_background": "light"
     },
     "output_type": "display_data"
    },
    {
     "name": "stdout",
     "output_type": "stream",
     "text": [
      "STATE: 134\n",
      "Feature state :[1. 0. 0. 0. 0. 0. 0. 1. 0. 0. 1. 1.]\n",
      "Action: left\n",
      "Dist proba: None\n",
      "Reward: -10\n"
     ]
    },
    {
     "data": {
      "image/png": "[encoded data removed]",
      "text/plain": [
       "<Figure size 432x288 with 1 Axes>"
      ]
     },
     "metadata": {
      "needs_background": "light"
     },
     "output_type": "display_data"
    },
    {
     "name": "stdout",
     "output_type": "stream",
     "text": [
      "STATE: 135\n",
      "Feature state :[0. 1. 0. 0. 0. 1. 1. 0. 0. 0. 1. 1.]\n",
      "Action: right\n",
      "Dist proba: None\n",
      "Reward: -10\n"
     ]
    },
    {
     "data": {
      "image/png": "[encoded data removed]",
      "text/plain": [
       "<Figure size 432x288 with 1 Axes>"
      ]
     },
     "metadata": {
      "needs_background": "light"
     },
     "output_type": "display_data"
    },
    {
     "name": "stdout",
     "output_type": "stream",
     "text": [
      "STATE: 136\n",
      "Feature state :[1. 0. 0. 0. 1. 1. 0. 0. 0. 0. 1. 1.]\n",
      "Action: right\n",
      "Dist proba: None\n",
      "Reward: -10\n"
     ]
    },
    {
     "data": {
      "image/png": "[encoded data removed]",
      "text/plain": [
       "<Figure size 432x288 with 1 Axes>"
      ]
     },
     "metadata": {
      "needs_background": "light"
     },
     "output_type": "display_data"
    },
    {
     "name": "stdout",
     "output_type": "stream",
     "text": [
      "STATE: 137\n",
      "Feature state :[0. 0. 0. 1. 1. 0. 1. 1. 0. 0. 1. 1.]\n",
      "Action: right\n",
      "Dist proba: None\n",
      "Reward: -500\n"
     ]
    },
    {
     "data": {
      "image/png": "[encoded data removed]",
      "text/plain": [
       "<Figure size 432x288 with 1 Axes>"
      ]
     },
     "metadata": {
      "needs_background": "light"
     },
     "output_type": "display_data"
    },
    {
     "name": "stdout",
     "output_type": "stream",
     "text": [
      "DEAD at state t=138 with score=330 with length Snake=22\n"
     ]
    },
    {
     "data": {
      "text/plain": [
       "(330, 22, 138, array([0.62318841, 0.17391304, 0.20289855]))"
      ]
     },
     "execution_count": 20,
     "metadata": {},
     "output_type": "execute_result"
    }
   ],
   "source": [
    "# run a game of snake with your agent\n",
    "agent.run(debug=True, pretty_display=True)"
   ]
  },
  {
   "cell_type": "code",
   "execution_count": 21,
   "metadata": {},
   "outputs": [
    {
     "name": "stderr",
     "output_type": "stream",
     "text": [
      "100%|██████████| 5/5 [00:00<00:00,  6.76it/s]\n"
     ]
    }
   ],
   "source": [
    "# train your agent - you can repeat this action as you wish. Learning is cumulative here.\n",
    "agent.train(epochs=5, batch_size=1, n_learning_iter=50, n_learning_iter_dying=10)"
   ]
  },
  {
   "cell_type": "code",
   "execution_count": null,
   "metadata": {},
   "outputs": [],
   "source": [
    "# run a game of snake AFTER training and choose only legitimate action (inference true)\n",
    "agent.run(debug=True, pretty_display=True, inference=True, video=False)"
   ]
  },
  {
   "cell_type": "code",
   "execution_count": null,
   "metadata": {},
   "outputs": [],
   "source": [
    "# do not hesitate to modify these parameters to adjust the learning as it goes\n",
    "#agent.policy.explor_proba = 0.01\n",
    "#agent.policy.lr = 1e-5"
   ]
  },
  {
   "cell_type": "code",
   "execution_count": null,
   "metadata": {},
   "outputs": [],
   "source": [
    "# save the Q-Table (brain) of the Snake Agent\n",
    "#date = datetime.now().strftime(\"%m-%d-%Y\")\n",
    "#with open(f'../models/{LEARNING_STYLE}/qtable-dying-{date}.npy', 'wb') as f:\n",
    "#    np.save(f, np.array(agent.policy.qtable))"
   ]
  },
  {
   "cell_type": "code",
   "execution_count": 15,
   "metadata": {},
   "outputs": [],
   "source": [
    "# load your table and place it in your agent\n",
    "#loaded_qtable = pd.DataFrame(np.load(f\"../models/{LEARNING_STYLE}/qtable-dying.npy\"))\n",
    "#agent.policy.qtable = loaded_qtable"
   ]
  }
 ],
 "metadata": {
  "kernelspec": {
   "display_name": "Python 3",
   "language": "python",
   "name": "python3"
  },
  "language_info": {
   "codemirror_mode": {
    "name": "ipython",
    "version": 3
   },
   "file_extension": ".py",
   "mimetype": "text/x-python",
   "name": "python",
   "nbconvert_exporter": "python",
   "pygments_lexer": "ipython3",
   "version": "3.8.2"
  }
 },
 "nbformat": 4,
 "nbformat_minor": 4
}
