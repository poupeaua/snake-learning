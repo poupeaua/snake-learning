{
 "cells": [
  {
   "cell_type": "code",
   "execution_count": 119,
   "metadata": {},
   "outputs": [],
   "source": [
    "# This Python 3 environment comes with many helpful analytics libraries installed\n",
    "# It is defined by the kaggle/python docker image: https://github.com/kaggle/docker-python\n",
    "# For example, here's several helpful packages to load in \n",
    "\n",
    "import os\n",
    "import sys\n",
    "import cv2\n",
    "import IPython\n",
    "from PIL import Image\n",
    "from datetime import datetime\n",
    "import multiprocessing\n",
    "import matplotlib.pyplot as plt\n",
    "from tqdm import tqdm\n",
    "import numpy as np # linear algebra\n",
    "from scipy.spatial import distance_matrix\n",
    "import pandas as pd # data processing, CSV file I/O (e.g. pd.read_csv)\n",
    "import tensorflow as tf\n",
    "import tensorboard\n",
    "import tensorflow.keras.backend as K\n",
    "from tensorflow.keras.models import Sequential, load_model, Model\n",
    "from tensorflow.keras.constraints import max_norm\n",
    "from tensorflow.keras.layers import Conv2D, MaxPooling2D, Flatten, Dense, SpatialDropout2D, \\\n",
    "                                    ZeroPadding2D, GaussianNoise, Softmax, \\\n",
    "                                    Input, Dropout, BatchNormalization, GlobalAveragePooling2D\n",
    "from tensorflow.keras.applications.mobilenet import preprocess_input\n",
    "tf.keras.backend.set_floatx('float64')"
   ]
  },
  {
   "cell_type": "code",
   "execution_count": 120,
   "metadata": {},
   "outputs": [
    {
     "name": "stdout",
     "output_type": "stream",
     "text": [
      "cpu count : 8\n",
      "epsilon : 1e-07\n",
      "Tensorflow version: 2.2.0\n"
     ]
    }
   ],
   "source": [
    "print(\"cpu count :\", multiprocessing.cpu_count())\n",
    "print(\"epsilon :\", tf.keras.backend.epsilon())\n",
    "print(\"Tensorflow version:\", tf.__version__)"
   ]
  },
  {
   "cell_type": "code",
   "execution_count": 121,
   "metadata": {},
   "outputs": [],
   "source": [
    "COLOR = {\"red\": [234, 15, 25],\n",
    "         \"black\": [8, 30, 7],\n",
    "         \"white\": [224, 250, 248],\n",
    "         \"yellow\": [237, 229, 36],\n",
    "         \"orange\": [245, 204, 0],\n",
    "         \"grey\": [129, 121, 137],\n",
    "         \"purple\": [153, 0, 204],\n",
    "         \"green\": [51, 214, 51],\n",
    "         \"pink\": [266, 142, 204],\n",
    "         \"brown\": [153, 102, 0], \n",
    "         \"blue\": [102, 102, 255],\n",
    "         \"marine\": [8, 158, 170]}"
   ]
  },
  {
   "cell_type": "code",
   "execution_count": null,
   "metadata": {},
   "outputs": [],
   "source": [
    "LEARNING_STYLE = \"policy_learning\""
   ]
  },
  {
   "cell_type": "markdown",
   "metadata": {},
   "source": [
    "## Policy"
   ]
  },
  {
   "cell_type": "code",
   "execution_count": 122,
   "metadata": {},
   "outputs": [],
   "source": [
    "class PolicyNN:\n",
    "    \"\"\" Policy Neural Network object\n",
    "    \"\"\"\n",
    "    \n",
    "    def __init__(self, env, name):\n",
    "        self.model_config = {\"dropout\": 0.2,\n",
    "                             \"kernel_init\": 'he_normal',\n",
    "                             \"kernel_regul\": tf.keras.regularizers.l2(0.001),\n",
    "                             \"kernel_constraint\": max_norm(4.0)}\n",
    "        self.regul_config = {\"rc_importance\": 3,\n",
    "                             \"wr_importance\": 1}\n",
    "        self.lr_config = {\"initial_lr\": 1e-3,\n",
    "                          \"n_learning_step_before_reduce\": 60000,\n",
    "                          \"final_lr\": 1e-7,\n",
    "                          \"prod_decay_lr\": 0.999,\n",
    "                          \"momentum\": 0.9}\n",
    "        self.exploration_config = {\"n_learning_step_before_reduce\": 50000,\n",
    "                                   \"initial_value\": 1.0,\n",
    "                                   \"final_value\": 0.1,\n",
    "                                   \"cst_decay\": 0.0005}\n",
    "        self.explor_proba = self.exploration_config[\"initial_value\"]\n",
    "        self.name = str(name)\n",
    "        self.model_h5_path = f'../models/{LEARNING_STYLE}/{self.name}.h5'\n",
    "        self.tf_writer = tf.summary.create_file_writer(f\"../tf-logs/{LEARNING_STYLE}/{self.name}\")\n",
    "        self.output_size = 3\n",
    "        self.nn_input_shape = env.nn_input_config[env.nn_input_mode][\"shape\"]\n",
    "        if not os.path.exists(f'../models/{LEARNING_STYLE}/'):\n",
    "            os.makedirs(f'../models/{LEARNING_STYLE}/')\n",
    "        if os.path.exists(self.model_h5_path):\n",
    "            print(\"LOAD a pre-trained model...\")\n",
    "            self.model = load_model(self.model_h5_path)\n",
    "        else:\n",
    "            print(\"INITIALIZE a new model...\")\n",
    "            self.model = self.init_model()\n",
    "        self.optimizer = tf.keras.optimizers.Adam(learning_rate=self.lr_config[\"initial_lr\"])\n",
    "        self.loss = tf.keras.losses.SparseCategoricalCrossentropy(from_logits=False)\n",
    "        \n",
    "        self.grad_buffer = self.model.trainable_variables\n",
    "        self._reset_grad_buffer()\n",
    "        \n",
    "    def _reset_grad_buffer(self):\n",
    "        for ix, grad in enumerate(self.grad_buffer):\n",
    "            self.grad_buffer[ix] = grad * 0\n",
    "        \n",
    "\n",
    "    def init_model(self):\n",
    "        nn_input = Input(shape=self.nn_input_shape)\n",
    "        x = Dense(32, activation='relu', kernel_initializer=self.model_config[\"kernel_init\"], \n",
    "                      kernel_regularizer=self.model_config[\"kernel_regul\"],\n",
    "                      bias_regularizer=self.model_config[\"kernel_regul\"], name='dense3')(nn_input)\n",
    "        x = Dense(16, activation='relu', kernel_initializer=self.model_config[\"kernel_init\"], \n",
    "                      kernel_regularizer=self.model_config[\"kernel_regul\"],\n",
    "                      bias_regularizer=self.model_config[\"kernel_regul\"], name='dense3')(x)\n",
    "        x = Dense(8, activation='relu', kernel_initializer=self.model_config[\"kernel_init\"], \n",
    "                      kernel_regularizer=self.model_config[\"kernel_regul\"],\n",
    "                      bias_regularizer=self.model_config[\"kernel_regul\"], name='dense4')(x)\n",
    "        x = Dense(self.output_size, activation='relu', \\\n",
    "                      kernel_initializer=self.model_config[\"kernel_init\"], \n",
    "                      kernel_regularizer=self.model_config[\"kernel_regul\"],\n",
    "                      bias_regularizer=self.model_config[\"kernel_regul\"], name='dense5')(x)\n",
    "        output = Softmax()(x)\n",
    "        return Model(name=\"PolicyNN\", inputs=nn_input, outputs=output)\n",
    "    \n",
    "    def _update_explor_proba(self, learning_step):\n",
    "        if learning_step > self.exploration_config[\"n_learning_step_before_reduce\"] and \\\n",
    "                self.explor_proba > self.exploration_config[\"final_value\"]:\n",
    "            self.explor_proba -= self.exploration_config[\"cst_decay\"]\n",
    "    \n",
    "    def _update_lr(self, learning_step):\n",
    "        if learning_step > self.lr_config[\"n_learning_step_before_reduce\"] and \\\n",
    "                self.optimizer.lr.read_value().numpy() > self.lr_config[\"final_lr\"]:\n",
    "            self.optimizer.lr.assign(self.optimizer.lr.read_value().numpy()*self.lr_config[\"prod_decay_lr\"])\n",
    "    \n",
    "#     @tf.function\n",
    "    def __call__(self, nn_input, inference=False):\n",
    "        with tf.GradientTape(persistent=True) as tape:\n",
    "            # forward pass\n",
    "            logits = self.model(nn_input)\n",
    "            if tf.random.uniform([]) < self.explor_proba and not inference: # randomization of action\n",
    "                a = tf.random.uniform([], minval=0, maxval=self.output_size, dtype=tf.dtypes.int64)\n",
    "            else: # choose a legitimate action\n",
    "                a = tf.random.categorical(tf.math.log(logits), 1)[0, 0]\n",
    "#                 a = tf.argmax(logits[0]) # test\n",
    "            try: # compute the loss value\n",
    "                loss_policy = self.loss([a], logits)\n",
    "                loss_wr = tf.math.reduce_mean(self.regul_config['wr_importance']*self.model.losses)\n",
    "                # soft rc regularizer\n",
    "                loss_rc = self.regul_config['rc_importance']*tf.math.reduce_mean((logits - 1/self.output_size)**2) \n",
    "                # hard rc regularizer\n",
    "                loss_rc += self.regul_config['rc_importance']*tf.math.reduce_mean(1/(logits*(1-logits)+tf.keras.backend.epsilon()))\n",
    "            except:\n",
    "                raise RuntimeError(\"Error caught on loss computation :\", logits, a, loss)\n",
    "                \n",
    "        # concatenate all losses\n",
    "        losses = np.asarray([loss_policy.numpy(), loss_wr.numpy(), loss_rc.numpy()])\n",
    "                \n",
    "        # gradients to update the policy according to the rewards\n",
    "        grad_policy = tape.gradient(loss_policy, self.model.trainable_variables)\n",
    "        \n",
    "        # immediately add the regulation gradients\n",
    "        grad_rc = tape.gradient(loss_rc, self.model.trainable_variables)\n",
    "        grad_wr = tape.gradient(loss_wr, self.model.trainable_variables)\n",
    "        for ix, (g_rc, g_wr) in enumerate(zip(grad_rc, grad_wr)):\n",
    "            self.grad_buffer[ix] += (g_rc + g_wr)\n",
    "            \n",
    "        del tape\n",
    "                \n",
    "        return a, logits, grad_policy, losses\n",
    "    \n",
    "    def summary(self, score, length, confidence, state, choices, losses, step):\n",
    "        with self.tf_writer.as_default():\n",
    "            tf.summary.scalar(\"metric/score\", score, step=step)\n",
    "            tf.summary.scalar(\"metric/length\", length, step=step)\n",
    "            tf.summary.scalar(\"metric/state\", state, step=step)\n",
    "            tf.summary.scalar(\"loss/weight_regul\", losses[1], step=step)\n",
    "            tf.summary.scalar(\"loss/confidence_regul\", losses[2], step=step)\n",
    "            tf.summary.scalar(\"behaviour/confidence\", confidence, step=step)\n",
    "            tf.summary.scalar(\"behaviour/straight\", choices[0], step=step)\n",
    "            tf.summary.scalar(\"behaviour/left\", choices[1], step=step)\n",
    "            tf.summary.scalar(\"behaviour/right\", choices[2], step=step)\n",
    "            tf.summary.scalar(\"config/exploration\", self.explor_proba, step=step)\n",
    "            tf.summary.scalar(\"config/lr\", self.optimizer.lr.read_value(), step=step)\n",
    "        self._update_explor_proba(learning_step=step)\n",
    "        self._update_lr(learning_step=step)\n",
    "            \n",
    "    \n",
    "#     @tf.function\n",
    "    def backpropagate(self):\n",
    "        self.optimizer.apply_gradients(zip(self.grad_buffer, self.model.trainable_variables))\n",
    "        self._reset_grad_buffer()\n",
    "        \n",
    "    def save(self):\n",
    "        self.model.save(self.model_h5_path)"
   ]
  },
  {
   "cell_type": "markdown",
   "metadata": {},
   "source": [
    "## Environment"
   ]
  },
  {
   "cell_type": "code",
   "execution_count": 123,
   "metadata": {},
   "outputs": [],
   "source": [
    "class Environment:\n",
    "    # we consider grid values standardized in [0, 1]\n",
    "    # we consider grid colors in RGB in lists such as [0, 128, 255]\n",
    "    \n",
    "    def __init__(self,\n",
    "                 n_row=9, \n",
    "                 n_col=9,\n",
    "                 agent_value = 0.66,\n",
    "                 agent_head_value = 1,\n",
    "                 food_value=0.33,\n",
    "                 background_value=0,\n",
    "                 agent_color = \"yellow\",\n",
    "                 agent_head_color = \"marine\",\n",
    "                 food_color = \"red\",\n",
    "                 background_color = \"black\",\n",
    "                 image_shape = (64, 64, 3),\n",
    "                 reward_hit_wall=-100,\n",
    "                 reward_eat_yourself=-100,\n",
    "                 reward_move=-10,\n",
    "                 reward_eat_food=500,\n",
    "                 nn_input_mode=\"feature\"):\n",
    "        self.img_shape = image_shape\n",
    "        self.feature_size = 12\n",
    "        self.nn_input_mode = nn_input_mode\n",
    "        self.nn_input_config = {\"image\": {\"shape\": self.img_shape, \"pfunc\": self.get_image_grid},\n",
    "                             \"feature\": {\"shape\": self.feature_size, \"pfunc\": self.get_feature_state}}\n",
    "        self.n_row = n_row\n",
    "        self.n_col = n_col\n",
    "        self.grid_shape = (n_row, n_col)\n",
    "        self.agent_color = COLOR[agent_color] \n",
    "        self.agent_head_color = COLOR[agent_head_color] \n",
    "        self.food_color = COLOR[food_color]\n",
    "        self.background_color = COLOR[background_color]\n",
    "        self.agent_value = agent_value\n",
    "        self.agent_head_value = agent_head_value\n",
    "        self.food_value = food_value\n",
    "        self.background_value = background_value\n",
    "        self.grid = np.empty(shape=self.grid_shape)\n",
    "        self.food_pos = np.empty(shape=2)\n",
    "        self.reward = {'hit_wall': reward_hit_wall,\n",
    "                       'eat_yourself': reward_eat_yourself,\n",
    "                       'move': reward_move,\n",
    "                       'eat_food': reward_eat_food}\n",
    "        self.dict_val_to_color = {self.background_value: self.background_color,\n",
    "                             self.food_value: self.food_color,\n",
    "                             self.agent_value: self.agent_color,\n",
    "                             self.agent_head_value: self.agent_head_color}\n",
    "        self.start()\n",
    "        \n",
    "    def start(self):\n",
    "        \"\"\" Clean the grid entirely including the food\"\"\"\n",
    "        self.grid = np.zeros(shape=self.grid_shape) + self.background_value\n",
    "        \n",
    "    def update(self, agent):\n",
    "        # clean the agent from the grid\n",
    "        self.grid[np.where(self.grid == self.agent_value)] = self.background_value\n",
    "        \n",
    "        # re-position the agent on the grid\n",
    "        for pos in agent.position[:-1]:\n",
    "            self.grid[pos[0], pos[1]] = self.agent_value\n",
    "        self.grid[agent.head[0], agent.head[1]] = self.agent_head_value\n",
    "            \n",
    "        # re-position the food if eaten\n",
    "        if self.food_value not in self.grid:\n",
    "            food_pos = np.array([np.random.randint(0, self.n_row-1), np.random.randint(0, self.n_col-1)])\n",
    "            while np.array([np.array_equal(body_pos, food_pos) for body_pos in agent.position]).any():\n",
    "                food_pos = np.array([np.random.randint(0, self.n_row-1), np.random.randint(0, self.n_col-1)])\n",
    "            self.food_pos = food_pos\n",
    "            self.grid[food_pos[0], food_pos[1]] = self.food_value\n",
    "        \n",
    "    def _is_wall(self, pos):\n",
    "        return pos[0] >= np.max(self.n_row) or pos[1] >= np.max(self.n_col) or np.min(pos) <= -1\n",
    "    \n",
    "    def _is_tail(self, pos, agent):\n",
    "        return np.array([np.array_equal(body_pos, pos) for body_pos in agent.position[:-1]]).any()\n",
    "            \n",
    "    def get_feature_state(self, agent):\n",
    "        \"\"\" Return a feature vector of SIZE 12 representing the current state\"\"\"\n",
    "        # snake direction\n",
    "        direction = agent.head - agent.position[-2]\n",
    "        feature_dir = agent.action_to_feature[str(direction)]\n",
    "\n",
    "        # immediate danger\n",
    "        feature_dangers = np.zeros(shape=4)\n",
    "        for i, action in enumerate(list(agent.action_dict.keys())):\n",
    "            cur_pos = agent.head+agent.action_dict[action]\n",
    "            feature_dangers[i] = 1 * (self._is_wall(pos=cur_pos) or \\\n",
    "                                      (self._is_tail(pos=cur_pos, agent=agent) and \\\n",
    "                                       not np.array_equal(cur_pos, agent.position[-2])))\n",
    "        \n",
    "        # food position relative to the head\n",
    "        rel_pos = self.food_pos-agent.head\n",
    "        up_down_dir = np.array([int(rel_pos[0]/np.abs(rel_pos[0])) if rel_pos[0] != 0 else 0, 0])\n",
    "        left_right_dir = np.array([0, int(rel_pos[1]/np.abs(rel_pos[1])) if rel_pos[1] != 0 else 0])\n",
    "        feature_rel_food_head = agent.action_to_feature[str(up_down_dir)] + agent.action_to_feature[str(left_right_dir)]\n",
    "        \n",
    "        # concatenate all the features\n",
    "        nn_input = tf.concat([feature_dir, feature_dangers, feature_rel_food_head], axis=0)\n",
    "        nn_input = tf.expand_dims(nn_input, axis=0) # extend batch\n",
    "        nn_input = tf.cast(nn_input, dtype=tf.dtypes.float64)\n",
    "        return nn_input\n",
    "        \n",
    "            \n",
    "    def get_image_grid(self, agent):\n",
    "        \"\"\" Return the image of the grid in standardized format values in [0, 1]\"\"\"\n",
    "        nn_input = np.zeros(shape=(self.n_row, self.n_col, 3))\n",
    "        for i in range(self.n_row):\n",
    "            for j in range(self.n_col):\n",
    "                nn_input[i, j, :] = self.dict_val_to_color[self.grid[i, j]]\n",
    "        nn_input = tf.expand_dims(nn_input, axis=0)/255 # extend batch\n",
    "        nn_input = tf.image.resize(nn_input, size=self.img_shape[:-1], method=tf.image.ResizeMethod.NEAREST_NEIGHBOR)\n",
    "        return nn_input\n",
    "    \n",
    "    def pretty_display(self):\n",
    "        arr = (self.get_image_grid(agent=None)[0]*255).numpy().astype('uint8')\n",
    "        plt.imshow(arr)\n",
    "        plt.show()\n",
    "        return arr\n",
    "        \n",
    "    def __str__(self):\n",
    "        str_grid = \"\"\n",
    "        for row in range(self.n_row):\n",
    "            str_grid += \"|\"\n",
    "            for col in range(self.n_col):\n",
    "                val = self.grid[row, col]\n",
    "                if val == self.background_value: str_grid += \"-|\"\n",
    "                elif val == self.agent_value: str_grid += \"x|\"\n",
    "                elif val == self.agent_head_value: str_grid += \"$|\"\n",
    "                else: str_grid += \"o|\"\n",
    "            str_grid += \"\\n\"\n",
    "        return str_grid[:-1]"
   ]
  },
  {
   "cell_type": "markdown",
   "metadata": {},
   "source": [
    "## Agent"
   ]
  },
  {
   "cell_type": "code",
   "execution_count": 124,
   "metadata": {},
   "outputs": [],
   "source": [
    "class Agent:\n",
    "    \n",
    "    def __init__(self, name, env=Environment()):\n",
    "        self.game_moves = [\"straight\", \"left\", \"right\"]\n",
    "        self.action_dict = {\"up\": np.array([-1,0]),\n",
    "                            \"left\": np.array([0,-1]),\n",
    "                            \"down\": np.array([1,0]),\n",
    "                            \"right\": np.array([0,1])}\n",
    "        self.action_to_feature = {str(np.array([-1, 0])): np.array([1, 0, 0, 0]),\n",
    "                                  str(np.array([0, -1])): np.array([0, 1, 0, 0]),\n",
    "                                  str(np.array([1, 0])): np.array([0, 0, 1, 0]),\n",
    "                                  str(np.array([0, 1])): np.array([0, 0, 0, 1]),\n",
    "                                  str(np.array([0, 0])): np.array([0, 0, 0, 0])}\n",
    "        self.env = env\n",
    "        self.size = 2\n",
    "        self.max_state = 250\n",
    "        self.discount_factor = 0.8\n",
    "        self.position = []\n",
    "        self.tail = np.empty(shape=2)\n",
    "        self.head = np.empty(shape=2)\n",
    "        self.start()\n",
    "        self.policy = PolicyNN(name=name, env=self.env)\n",
    "        self.moves = list(self.action_dict.keys())\n",
    "        self.alive = True\n",
    "    \n",
    "    def __len__(self):\n",
    "        return len(self.position)\n",
    "        \n",
    "    def start(self):\n",
    "        self.env.start() # restore the env\n",
    "        \n",
    "        # generate its position on the grid\n",
    "        head = np.array([np.random.randint(1, self.env.n_row-1), np.random.randint(1, self.env.n_col-1)])\n",
    "        randomize_tail = list(self.action_dict.values())\n",
    "        tail = head + randomize_tail[np.random.choice([x for x in range(len(randomize_tail))])]\n",
    "        self.position = [tail, head]\n",
    "        self.tail = tail\n",
    "        self.head = head\n",
    "        self.alive = True # make the agent alive again\n",
    "    \n",
    "    def run(self, debug=False, pretty_display=False, inference=False, video=False):\n",
    "        if inference:\n",
    "            K.set_learning_phase(0)\n",
    "        self.start()\n",
    "        grad_stock, reward_stock, action_stock, img_stock, losses_stock = [], [], [], [], np.zeros(shape=3)\n",
    "        t = 0\n",
    "        while self.alive and t < self.max_state: # run simulation trajectory\n",
    "            self.env.update(agent=self)\n",
    "            a_t, dist_proba, g_t, losses = self.next_action(inference=inference)\n",
    "            losses_stock += losses\n",
    "            if debug:\n",
    "                print(\"STATE: \"+str(t)+\"\\nFeature state :\"+str(self.env.nn_input_config[\"feature\"][\"pfunc\"](self)))\n",
    "            r_t = self.update(game_action=self.game_moves[a_t])\n",
    "            grad_stock.append(g_t) # stock gradients & reward at time t\n",
    "            reward_stock.append(r_t)\n",
    "            action_stock.append(a_t)\n",
    "            # display on console\n",
    "            if debug:\n",
    "                print(\"Action: \"+self.game_moves[a_t]+\"\\nDist proba: \"+str(dist_proba)+\"\\nReward: \"+str(r_t))\n",
    "            if pretty_display:\n",
    "                img_stock.append(self.env.pretty_display())\n",
    "            elif debug:\n",
    "                print(str(self.env))\n",
    "            t += 1\n",
    "            \n",
    "        # metrics \n",
    "        score = sum(reward_stock) # sum all rewards\n",
    "        length = len(self)\n",
    "        confidence = np.max(dist_proba)\n",
    "        choices = np.asarray([len(np.where(np.array(action_stock) == i)[0]) for i in range(len(self.game_moves))])\n",
    "        norm_choices = choices/t\n",
    "        \n",
    "        # gradients calculation for trajectory\n",
    "        cum_rewards_disc = self._rewards_discount(reward_stock)\n",
    "        for grads, r in zip(grad_stock, cum_rewards_disc):\n",
    "            for ix, grad in enumerate(grads):\n",
    "                self.policy.grad_buffer[ix] += grad * r\n",
    "        \n",
    "        if debug:\n",
    "            print(\"DEAD at state t=\"+str(t)+\" with score=\"+str(score)+ \" with length Snake=\"+str(length))\n",
    "            \n",
    "        if video:\n",
    "            video_dir = f'../videos/{LEARNING_STYLE}/{self.policy.name}/'\n",
    "            os.makedirs(video_dir, exist_ok=True)\n",
    "            video_dir += str(datetime.now().strftime(\"%m-%d-%Y\")) +  \"-score=\" + str(score) + \"-length=\" + str(length) + \".avi\"\n",
    "            out = cv2.VideoWriter(video_dir, cv2.VideoWriter_fourcc(*'DIVX'), 8, self.env.img_shape[:-1])\n",
    "            for i in range(len(img_stock)):\n",
    "                out.write(img_stock[i])\n",
    "            out.release()\n",
    "        return score, length, confidence, t, norm_choices, losses_stock\n",
    "                \n",
    "    def _rewards_discount(self, rewards):\n",
    "        reversed_rewards = rewards[::-1]\n",
    "        discounted_rewards = [0]\n",
    "        for i, r in enumerate(reversed_rewards):\n",
    "            discounted_rewards.append(r + self.discount_factor*discounted_rewards[i])\n",
    "        del discounted_rewards[0]\n",
    "        discounted_rewards.reverse()\n",
    "        return discounted_rewards\n",
    "            \n",
    "    def update(self, game_action):\n",
    "        previous_dist_from_food = distance_matrix([self.head], [self.env.food_pos])[0, 0]\n",
    "        \n",
    "        # VERSION straight, left, right choices\n",
    "        direction = self.head - self.position[-2]\n",
    "        if game_action == \"straight\":\n",
    "            if np.array_equal(direction, self.action_dict[\"up\"]): action = \"up\"\n",
    "            elif np.array_equal(direction, self.action_dict[\"left\"]): action = \"left\"\n",
    "            elif np.array_equal(direction, self.action_dict[\"down\"]): action = \"down\"\n",
    "            elif np.array_equal(direction, self.action_dict[\"right\"]): action = \"right\"\n",
    "        elif game_action == \"left\":\n",
    "            if np.array_equal(direction, self.action_dict[\"up\"]): action = \"left\"\n",
    "            elif np.array_equal(direction, self.action_dict[\"left\"]): action = \"down\"\n",
    "            elif np.array_equal(direction, self.action_dict[\"down\"]): action = \"right\"\n",
    "            elif np.array_equal(direction, self.action_dict[\"right\"]): action = \"up\"\n",
    "        elif game_action == \"right\":\n",
    "            if np.array_equal(direction, self.action_dict[\"up\"]): action = \"right\"\n",
    "            elif np.array_equal(direction, self.action_dict[\"left\"]): action = \"up\"\n",
    "            elif np.array_equal(direction, self.action_dict[\"down\"]): action = \"left\"\n",
    "            elif np.array_equal(direction, self.action_dict[\"right\"]): action = \"down\"\n",
    "        \n",
    "        new_tmp_head = self.head+self.action_dict[action]\n",
    "        self.position.append(new_tmp_head)\n",
    "        self.head = self.position[-1]\n",
    "\n",
    "        if self.env._is_wall(pos=self.head):\n",
    "            self.position = self.position[1:] # change the position of the tail \n",
    "            self.alive = False # dead you HIT A WALL\n",
    "            reward_t = self.env.reward['hit_wall']\n",
    "\n",
    "        elif self.env._is_tail(pos=self.head, agent=self):\n",
    "            self.position = self.position[1:]\n",
    "            self.alive = False # dead HIT YOURSELF\n",
    "            reward_t = self.env.reward['eat_yourself']\n",
    "\n",
    "        elif self.env.grid[self.head[0], self.head[1]] != self.env.food_value: # no food was eaten\n",
    "            self.position = self.position[1:] \n",
    "            self.tail = self.position[0]\n",
    "            current_dist_from_food = distance_matrix([self.head], [self.env.food_pos])[0, 0]\n",
    "            # reward for a simple MOVE => if dist from food < than before then positive reward\n",
    "            #reward_t = (current_dist_from_food-previous_dist_from_food)*self.env.reward['move']\n",
    "            reward_t = self.env.reward['move']\n",
    "            \n",
    "        else: # move and food eaten\n",
    "            reward_t = self.env.reward['eat_food'] # EAT FOOD\n",
    "            \n",
    "        return reward_t\n",
    "                \n",
    "        \n",
    "    def train(self, epochs, batch_size=2, debug=False, summary_step=20, save_step=1000):\n",
    "        K.set_learning_phase(1)\n",
    "        \n",
    "        for i in tqdm(range(epochs), position=0, leave=True):\n",
    "            for b in range(batch_size):\n",
    "                score, length, confidence, t, c, losses = self.run(debug=debug)\n",
    "            if i % summary_step == 0: self.policy.summary(score, length, confidence, t, c, losses, step=i)\n",
    "            self.policy.backpropagate()\n",
    "            if i % save_step == 0: self.policy.save()\n",
    "\n",
    "    def next_action(self, inference):\n",
    "        nn_input = self.env.nn_input_config[self.env.nn_input_mode][\"pfunc\"](self)\n",
    "        idx_action, dist_proba, gradients, losses = self.policy(nn_input=nn_input, inference=inference)\n",
    "        return idx_action, dist_proba, gradients, losses\n",
    "        \n",
    "    def __call__(self):\n",
    "        print(\"TODO\")\n",
    "        \n",
    "    def __str__(self):\n",
    "        return self.size"
   ]
  },
  {
   "cell_type": "code",
   "execution_count": 125,
   "metadata": {},
   "outputs": [
    {
     "data": {
      "text/plain": [
       "'model-debug2-08-29-2020-wr-rc'"
      ]
     },
     "execution_count": 125,
     "metadata": {},
     "output_type": "execute_result"
    }
   ],
   "source": [
    "# select a unique name for your model\n",
    "agent_id = \"model-debug2-\" + datetime.now().strftime(\"%m-%d-%Y\") + f\"-wr-rc\"\n",
    "agent_id"
   ]
  },
  {
   "cell_type": "code",
   "execution_count": 126,
   "metadata": {},
   "outputs": [
    {
     "name": "stdout",
     "output_type": "stream",
     "text": [
      "LOAD a pre-trained model...\n",
      "WARNING:tensorflow:No training configuration found in the save file, so the model was *not* compiled. Compile it manually.\n",
      "\n"
     ]
    }
   ],
   "source": [
    "# if the agent name already exists for a pre-trained model it automatically loads it\n",
    "agent = Agent(name=agent_id, env=Environment(n_col=9, n_row=9))\n",
    "agent.run(debug=False, inference=True)\n",
    "print()"
   ]
  },
  {
   "cell_type": "code",
   "execution_count": 112,
   "metadata": {},
   "outputs": [
    {
     "name": "stderr",
     "output_type": "stream",
     "text": [
      "100%|██████████| 100000/100000 [1:56:28<00:00, 14.31it/s] \n"
     ]
    }
   ],
   "source": [
    "#%%prun -s cumulative -l ipython\n",
    "agent.train(epochs=100000, batch_size=1, debug=False)"
   ]
  },
  {
   "cell_type": "code",
   "execution_count": 128,
   "metadata": {},
   "outputs": [
    {
     "name": "stdout",
     "output_type": "stream",
     "text": [
      "STATE: 0\n",
      "Feature state :tf.Tensor([[1. 0. 0. 0. 0. 0. 0. 0. 1. 0. 0. 0.]], shape=(1, 12), dtype=float64)\n",
      "Action: straight\n",
      "Dist proba: tf.Tensor([[0.3154974  0.3154974  0.36900521]], shape=(1, 3), dtype=float64)\n",
      "Reward: 500\n"
     ]
    },
    {
     "data": {
      "image/png": "[encoded data removed]",
      "text/plain": [
       "<Figure size 432x288 with 1 Axes>"
      ]
     },
     "metadata": {
      "needs_background": "light"
     },
     "output_type": "display_data"
    },
    {
     "name": "stdout",
     "output_type": "stream",
     "text": [
      "STATE: 1\n",
      "Feature state :tf.Tensor([[1. 0. 0. 0. 0. 0. 0. 0. 1. 1. 0. 0.]], shape=(1, 12), dtype=float64)\n",
      "Action: right\n",
      "Dist proba: tf.Tensor([[0.33333333 0.33333333 0.33333333]], shape=(1, 3), dtype=float64)\n",
      "Reward: -5.278640450004204\n"
     ]
    },
    {
     "data": {
      "image/png": "[encoded data removed]",
      "text/plain": [
       "<Figure size 432x288 with 1 Axes>"
      ]
     },
     "metadata": {
      "needs_background": "light"
     },
     "output_type": "display_data"
    },
    {
     "name": "stdout",
     "output_type": "stream",
     "text": [
      "STATE: 2\n",
      "Feature state :tf.Tensor([[0. 0. 0. 1. 0. 0. 0. 0. 1. 1. 0. 0.]], shape=(1, 12), dtype=float64)\n",
      "Action: right\n",
      "Dist proba: tf.Tensor([[0.0967311  0.0967311  0.80653781]], shape=(1, 3), dtype=float64)\n",
      "Reward: -8.309518948453007\n"
     ]
    },
    {
     "data": {
      "image/png": "[encoded data removed]",
      "text/plain": [
       "<Figure size 432x288 with 1 Axes>"
      ]
     },
     "metadata": {
      "needs_background": "light"
     },
     "output_type": "display_data"
    },
    {
     "name": "stdout",
     "output_type": "stream",
     "text": [
      "STATE: 3\n",
      "Feature state :tf.Tensor([[0. 0. 1. 0. 0. 0. 0. 0. 1. 1. 0. 0.]], shape=(1, 12), dtype=float64)\n",
      "Action: right\n",
      "Dist proba: tf.Tensor([[1.22980268e-04 1.12478927e-04 9.99764541e-01]], shape=(1, 3), dtype=float64)\n",
      "Reward: 4.45787087710797\n"
     ]
    },
    {
     "data": {
      "image/png": "[encoded data removed]",
      "text/plain": [
       "<Figure size 432x288 with 1 Axes>"
      ]
     },
     "metadata": {
      "needs_background": "light"
     },
     "output_type": "display_data"
    },
    {
     "name": "stdout",
     "output_type": "stream",
     "text": [
      "STATE: 4\n",
      "Feature state :tf.Tensor([[0. 1. 0. 0. 0. 0. 0. 0. 1. 1. 0. 0.]], shape=(1, 12), dtype=float64)\n",
      "Action: right\n",
      "Dist proba: tf.Tensor([[9.72165552e-03 4.82883989e-04 9.89795460e-01]], shape=(1, 3), dtype=float64)\n",
      "Reward: 9.130288521349241\n"
     ]
    },
    {
     "data": {
      "image/png": "[encoded data removed]",
      "text/plain": [
       "<Figure size 432x288 with 1 Axes>"
      ]
     },
     "metadata": {
      "needs_background": "light"
     },
     "output_type": "display_data"
    },
    {
     "name": "stdout",
     "output_type": "stream",
     "text": [
      "STATE: 5\n",
      "Feature state :tf.Tensor([[1. 0. 0. 0. 0. 0. 0. 0. 1. 1. 0. 0.]], shape=(1, 12), dtype=float64)\n",
      "Action: straight\n",
      "Dist proba: tf.Tensor([[0.33333333 0.33333333 0.33333333]], shape=(1, 3), dtype=float64)\n",
      "Reward: 8.665846795355904\n"
     ]
    },
    {
     "data": {
      "image/png": "[encoded data removed]",
      "text/plain": [
       "<Figure size 432x288 with 1 Axes>"
      ]
     },
     "metadata": {
      "needs_background": "light"
     },
     "output_type": "display_data"
    },
    {
     "name": "stdout",
     "output_type": "stream",
     "text": [
      "STATE: 6\n",
      "Feature state :tf.Tensor([[1. 0. 0. 0. 0. 0. 0. 0. 1. 1. 0. 0.]], shape=(1, 12), dtype=float64)\n",
      "Action: left\n",
      "Dist proba: tf.Tensor([[0.33333333 0.33333333 0.33333333]], shape=(1, 3), dtype=float64)\n",
      "Reward: 4.432736152956096\n"
     ]
    },
    {
     "data": {
      "image/png": "[encoded data removed]",
      "text/plain": [
       "<Figure size 432x288 with 1 Axes>"
      ]
     },
     "metadata": {
      "needs_background": "light"
     },
     "output_type": "display_data"
    },
    {
     "name": "stdout",
     "output_type": "stream",
     "text": [
      "STATE: 7\n",
      "Feature state :tf.Tensor([[0. 1. 0. 0. 0. 0. 0. 0. 1. 1. 0. 0.]], shape=(1, 12), dtype=float64)\n",
      "Action: right\n",
      "Dist proba: tf.Tensor([[9.72165552e-03 4.82883989e-04 9.89795460e-01]], shape=(1, 3), dtype=float64)\n",
      "Reward: 9.262096826685898\n"
     ]
    },
    {
     "data": {
      "image/png": "[encoded data removed]",
      "text/plain": [
       "<Figure size 432x288 with 1 Axes>"
      ]
     },
     "metadata": {
      "needs_background": "light"
     },
     "output_type": "display_data"
    },
    {
     "name": "stdout",
     "output_type": "stream",
     "text": [
      "STATE: 8\n",
      "Feature state :tf.Tensor([[1. 0. 0. 0. 0. 0. 0. 0. 1. 1. 0. 0.]], shape=(1, 12), dtype=float64)\n",
      "Action: right\n",
      "Dist proba: tf.Tensor([[0.33333333 0.33333333 0.33333333]], shape=(1, 3), dtype=float64)\n",
      "Reward: -5.923591472464005\n"
     ]
    },
    {
     "data": {
      "image/png": "[encoded data removed]",
      "text/plain": [
       "<Figure size 432x288 with 1 Axes>"
      ]
     },
     "metadata": {
      "needs_background": "light"
     },
     "output_type": "display_data"
    },
    {
     "name": "stdout",
     "output_type": "stream",
     "text": [
      "STATE: 9\n",
      "Feature state :tf.Tensor([[0. 0. 0. 1. 0. 0. 0. 0. 1. 1. 0. 0.]], shape=(1, 12), dtype=float64)\n",
      "Action: right\n",
      "Dist proba: tf.Tensor([[0.0967311  0.0967311  0.80653781]], shape=(1, 3), dtype=float64)\n",
      "Reward: -7.771241507177988\n"
     ]
    },
    {
     "data": {
      "image/png": "[encoded data removed]",
      "text/plain": [
       "<Figure size 432x288 with 1 Axes>"
      ]
     },
     "metadata": {
      "needs_background": "light"
     },
     "output_type": "display_data"
    },
    {
     "name": "stdout",
     "output_type": "stream",
     "text": [
      "STATE: 10\n",
      "Feature state :tf.Tensor([[0. 0. 1. 0. 0. 0. 0. 0. 1. 1. 0. 0.]], shape=(1, 12), dtype=float64)\n",
      "Action: right\n",
      "Dist proba: tf.Tensor([[1.22980268e-04 1.12478927e-04 9.99764541e-01]], shape=(1, 3), dtype=float64)\n",
      "Reward: 4.432736152956096\n"
     ]
    },
    {
     "data": {
      "image/png": "[encoded data removed]",
      "text/plain": [
       "<Figure size 432x288 with 1 Axes>"
      ]
     },
     "metadata": {
      "needs_background": "light"
     },
     "output_type": "display_data"
    },
    {
     "name": "stdout",
     "output_type": "stream",
     "text": [
      "STATE: 11\n",
      "Feature state :tf.Tensor([[0. 1. 0. 0. 0. 0. 0. 0. 1. 1. 0. 0.]], shape=(1, 12), dtype=float64)\n",
      "Action: right\n",
      "Dist proba: tf.Tensor([[9.72165552e-03 4.82883989e-04 9.89795460e-01]], shape=(1, 3), dtype=float64)\n",
      "Reward: 9.262096826685898\n"
     ]
    },
    {
     "data": {
      "image/png": "[encoded data removed]",
      "text/plain": [
       "<Figure size 432x288 with 1 Axes>"
      ]
     },
     "metadata": {
      "needs_background": "light"
     },
     "output_type": "display_data"
    },
    {
     "name": "stdout",
     "output_type": "stream",
     "text": [
      "STATE: 12\n",
      "Feature state :tf.Tensor([[1. 0. 0. 0. 0. 0. 0. 0. 1. 1. 0. 0.]], shape=(1, 12), dtype=float64)\n",
      "Action: right\n",
      "Dist proba: tf.Tensor([[0.33333333 0.33333333 0.33333333]], shape=(1, 3), dtype=float64)\n",
      "Reward: -5.923591472464005\n"
     ]
    },
    {
     "data": {
      "image/png": "[encoded data removed]",
      "text/plain": [
       "<Figure size 432x288 with 1 Axes>"
      ]
     },
     "metadata": {
      "needs_background": "light"
     },
     "output_type": "display_data"
    },
    {
     "name": "stdout",
     "output_type": "stream",
     "text": [
      "STATE: 13\n",
      "Feature state :tf.Tensor([[0. 0. 0. 1. 0. 0. 0. 0. 1. 1. 0. 0.]], shape=(1, 12), dtype=float64)\n",
      "Action: right\n",
      "Dist proba: tf.Tensor([[0.0967311  0.0967311  0.80653781]], shape=(1, 3), dtype=float64)\n",
      "Reward: -7.771241507177988\n"
     ]
    },
    {
     "data": {
      "image/png": "[encoded data removed]",
      "text/plain": [
       "<Figure size 432x288 with 1 Axes>"
      ]
     },
     "metadata": {
      "needs_background": "light"
     },
     "output_type": "display_data"
    },
    {
     "name": "stdout",
     "output_type": "stream",
     "text": [
      "STATE: 14\n",
      "Feature state :tf.Tensor([[0. 0. 1. 0. 0. 0. 0. 0. 1. 1. 0. 0.]], shape=(1, 12), dtype=float64)\n",
      "Action: right\n",
      "Dist proba: tf.Tensor([[1.22980268e-04 1.12478927e-04 9.99764541e-01]], shape=(1, 3), dtype=float64)\n",
      "Reward: 4.432736152956096\n"
     ]
    },
    {
     "data": {
      "image/png": "[encoded data removed]",
      "text/plain": [
       "<Figure size 432x288 with 1 Axes>"
      ]
     },
     "metadata": {
      "needs_background": "light"
     },
     "output_type": "display_data"
    },
    {
     "name": "stdout",
     "output_type": "stream",
     "text": [
      "STATE: 15\n",
      "Feature state :tf.Tensor([[0. 1. 0. 0. 0. 0. 0. 0. 1. 1. 0. 0.]], shape=(1, 12), dtype=float64)\n",
      "Action: right\n",
      "Dist proba: tf.Tensor([[9.72165552e-03 4.82883989e-04 9.89795460e-01]], shape=(1, 3), dtype=float64)\n",
      "Reward: 9.262096826685898\n"
     ]
    },
    {
     "data": {
      "image/png": "[encoded data removed]",
      "text/plain": [
       "<Figure size 432x288 with 1 Axes>"
      ]
     },
     "metadata": {
      "needs_background": "light"
     },
     "output_type": "display_data"
    },
    {
     "name": "stdout",
     "output_type": "stream",
     "text": [
      "STATE: 16\n",
      "Feature state :tf.Tensor([[1. 0. 0. 0. 0. 0. 0. 0. 1. 1. 0. 0.]], shape=(1, 12), dtype=float64)\n",
      "Action: right\n",
      "Dist proba: tf.Tensor([[0.33333333 0.33333333 0.33333333]], shape=(1, 3), dtype=float64)\n",
      "Reward: -5.923591472464005\n"
     ]
    },
    {
     "data": {
      "image/png": "[encoded data removed]",
      "text/plain": [
       "<Figure size 432x288 with 1 Axes>"
      ]
     },
     "metadata": {
      "needs_background": "light"
     },
     "output_type": "display_data"
    },
    {
     "name": "stdout",
     "output_type": "stream",
     "text": [
      "STATE: 17\n",
      "Feature state :tf.Tensor([[0. 0. 0. 1. 0. 0. 0. 0. 1. 1. 0. 0.]], shape=(1, 12), dtype=float64)\n",
      "Action: straight\n",
      "Dist proba: tf.Tensor([[0.0967311  0.0967311  0.80653781]], shape=(1, 3), dtype=float64)\n",
      "Reward: -7.771241507177988\n"
     ]
    },
    {
     "data": {
      "image/png": "[encoded data removed]",
      "text/plain": [
       "<Figure size 432x288 with 1 Axes>"
      ]
     },
     "metadata": {
      "needs_background": "light"
     },
     "output_type": "display_data"
    },
    {
     "name": "stdout",
     "output_type": "stream",
     "text": [
      "STATE: 18\n",
      "Feature state :tf.Tensor([[0. 0. 0. 1. 0. 0. 0. 0. 1. 1. 0. 0.]], shape=(1, 12), dtype=float64)\n",
      "Action: right\n",
      "Dist proba: tf.Tensor([[0.0967311  0.0967311  0.80653781]], shape=(1, 3), dtype=float64)\n",
      "Reward: -6.3708941165529565\n"
     ]
    },
    {
     "data": {
      "image/png": "[encoded data removed]",
      "text/plain": [
       "<Figure size 432x288 with 1 Axes>"
      ]
     },
     "metadata": {
      "needs_background": "light"
     },
     "output_type": "display_data"
    },
    {
     "name": "stdout",
     "output_type": "stream",
     "text": [
      "STATE: 19\n",
      "Feature state :tf.Tensor([[0. 0. 1. 0. 0. 0. 0. 0. 1. 1. 0. 0.]], shape=(1, 12), dtype=float64)\n",
      "Action: right\n",
      "Dist proba: tf.Tensor([[1.22980268e-04 1.12478927e-04 9.99764541e-01]], shape=(1, 3), dtype=float64)\n",
      "Reward: 6.3708941165529565\n"
     ]
    },
    {
     "data": {
      "image/png": "[encoded data removed]",
      "text/plain": [
       "<Figure size 432x288 with 1 Axes>"
      ]
     },
     "metadata": {
      "needs_background": "light"
     },
     "output_type": "display_data"
    },
    {
     "name": "stdout",
     "output_type": "stream",
     "text": [
      "STATE: 20\n",
      "Feature state :tf.Tensor([[0. 1. 0. 0. 0. 0. 0. 0. 1. 1. 0. 0.]], shape=(1, 12), dtype=float64)\n",
      "Action: right\n",
      "Dist proba: tf.Tensor([[9.72165552e-03 4.82883989e-04 9.89795460e-01]], shape=(1, 3), dtype=float64)\n",
      "Reward: 7.771241507177988\n"
     ]
    },
    {
     "data": {
      "image/png": "[encoded data removed]",
      "text/plain": [
       "<Figure size 432x288 with 1 Axes>"
      ]
     },
     "metadata": {
      "needs_background": "light"
     },
     "output_type": "display_data"
    },
    {
     "name": "stdout",
     "output_type": "stream",
     "text": [
      "STATE: 21\n",
      "Feature state :tf.Tensor([[1. 0. 0. 0. 0. 0. 0. 0. 1. 1. 0. 0.]], shape=(1, 12), dtype=float64)\n",
      "Action: left\n",
      "Dist proba: tf.Tensor([[0.33333333 0.33333333 0.33333333]], shape=(1, 3), dtype=float64)\n",
      "Reward: 5.923591472464005\n"
     ]
    },
    {
     "data": {
      "image/png": "[encoded data removed]",
      "text/plain": [
       "<Figure size 432x288 with 1 Axes>"
      ]
     },
     "metadata": {
      "needs_background": "light"
     },
     "output_type": "display_data"
    },
    {
     "name": "stdout",
     "output_type": "stream",
     "text": [
      "STATE: 22\n",
      "Feature state :tf.Tensor([[0. 1. 0. 0. 0. 0. 0. 0. 1. 1. 0. 0.]], shape=(1, 12), dtype=float64)\n",
      "Action: right\n",
      "Dist proba: tf.Tensor([[9.72165552e-03 4.82883989e-04 9.89795460e-01]], shape=(1, 3), dtype=float64)\n",
      "Reward: 8.218544151266947\n"
     ]
    },
    {
     "data": {
      "image/png": "[encoded data removed]",
      "text/plain": [
       "<Figure size 432x288 with 1 Axes>"
      ]
     },
     "metadata": {
      "needs_background": "light"
     },
     "output_type": "display_data"
    },
    {
     "name": "stdout",
     "output_type": "stream",
     "text": [
      "STATE: 23\n",
      "Feature state :tf.Tensor([[1. 0. 0. 0. 0. 0. 0. 0. 1. 1. 0. 0.]], shape=(1, 12), dtype=float64)\n",
      "Action: left\n",
      "Dist proba: tf.Tensor([[0.33333333 0.33333333 0.33333333]], shape=(1, 3), dtype=float64)\n",
      "Reward: 4.142135623730951\n"
     ]
    },
    {
     "data": {
      "image/png": "[encoded data removed]",
      "text/plain": [
       "<Figure size 432x288 with 1 Axes>"
      ]
     },
     "metadata": {
      "needs_background": "light"
     },
     "output_type": "display_data"
    },
    {
     "name": "stdout",
     "output_type": "stream",
     "text": [
      "STATE: 24\n",
      "Feature state :tf.Tensor([[0. 1. 0. 0. 0. 1. 0. 0. 1. 0. 0. 0.]], shape=(1, 12), dtype=float64)\n",
      "Action: right\n",
      "Dist proba: tf.Tensor([[5.54224037e-04 5.54224037e-04 9.98891552e-01]], shape=(1, 3), dtype=float64)\n",
      "Reward: 500\n"
     ]
    },
    {
     "data": {
      "image/png": "[encoded data removed]",
      "text/plain": [
       "<Figure size 432x288 with 1 Axes>"
      ]
     },
     "metadata": {
      "needs_background": "light"
     },
     "output_type": "display_data"
    },
    {
     "name": "stdout",
     "output_type": "stream",
     "text": [
      "STATE: 25\n",
      "Feature state :tf.Tensor([[1. 0. 0. 0. 1. 1. 0. 0. 0. 0. 1. 1.]], shape=(1, 12), dtype=float64)\n",
      "Action: right\n",
      "Dist proba: tf.Tensor([[0.00157005 0.0171301  0.98129985]], shape=(1, 3), dtype=float64)\n",
      "Reward: 8.079783134951297\n"
     ]
    },
    {
     "data": {
      "image/png": "[encoded data removed]",
      "text/plain": [
       "<Figure size 432x288 with 1 Axes>"
      ]
     },
     "metadata": {
      "needs_background": "light"
     },
     "output_type": "display_data"
    },
    {
     "name": "stdout",
     "output_type": "stream",
     "text": [
      "STATE: 26\n",
      "Feature state :tf.Tensor([[0. 0. 0. 1. 1. 0. 1. 0. 0. 0. 1. 1.]], shape=(1, 12), dtype=float64)\n",
      "Action: left\n",
      "Dist proba: tf.Tensor([[0.05408099 0.30758283 0.63833618]], shape=(1, 3), dtype=float64)\n",
      "Reward: -100\n"
     ]
    },
    {
     "data": {
      "image/png": "[encoded data removed]",
      "text/plain": [
       "<Figure size 432x288 with 1 Axes>"
      ]
     },
     "metadata": {
      "needs_background": "light"
     },
     "output_type": "display_data"
    },
    {
     "name": "stdout",
     "output_type": "stream",
     "text": [
      "DEAD at state t=27 with score=942.8011426849473 with length Snake=4\n",
      "tested\n"
     ]
    }
   ],
   "source": [
    "agent.run(pretty_display=True, debug=True, inference=True, video=False)\n",
    "print(\"tested\")"
   ]
  }
 ],
 "metadata": {
  "kernelspec": {
   "display_name": "Python 3",
   "language": "python",
   "name": "python3"
  },
  "language_info": {
   "codemirror_mode": {
    "name": "ipython",
    "version": 3
   },
   "file_extension": ".py",
   "mimetype": "text/x-python",
   "name": "python",
   "nbconvert_exporter": "python",
   "pygments_lexer": "ipython3",
   "version": "3.8.2"
  }
 },
 "nbformat": 4,
 "nbformat_minor": 4
}
