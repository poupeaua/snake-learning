{
 "cells": [
  {
   "cell_type": "code",
   "execution_count": 349,
   "metadata": {},
   "outputs": [],
   "source": [
    "# This Python 3 environment comes with many helpful analytics libraries installed\n",
    "# It is defined by the kaggle/python docker image: https://github.com/kaggle/docker-python\n",
    "# For example, here's several helpful packages to load in \n",
    "\n",
    "import os\n",
    "import sys\n",
    "import IPython\n",
    "from PIL import Image\n",
    "import multiprocessing\n",
    "import matplotlib.pyplot as plt\n",
    "from tqdm import tqdm\n",
    "import numpy as np # linear algebra\n",
    "from scipy.spatial import distance_matrix\n",
    "import pandas as pd # data processing, CSV file I/O (e.g. pd.read_csv)\n",
    "import tensorflow as tf\n",
    "import tensorboard\n",
    "import tensorflow.keras.backend as K\n",
    "from tensorflow.keras.models import Sequential, load_model, Model\n",
    "from tensorflow.keras.constraints import max_norm\n",
    "from tensorflow.keras.layers import Conv2D, MaxPooling2D, Flatten, Dense, SpatialDropout2D, \\\n",
    "                                    ZeroPadding2D, GaussianNoise, Softmax, \\\n",
    "                                    Input, Dropout, BatchNormalization, GlobalAveragePooling2D\n",
    "from tensorflow.keras.applications.mobilenet import preprocess_input\n",
    "tf.keras.backend.set_floatx('float64')"
   ]
  },
  {
   "cell_type": "code",
   "execution_count": 350,
   "metadata": {},
   "outputs": [],
   "source": [
    "# backbone_model = tf.keras.applications.MobileNetV2(input_shape=self.input_shape, \\\n",
    "#                                                    alpha=1.0, include_top=False, weights='imagenet', pooling='avg')\n",
    "# middle_model  = Model(name=\"middle_model\", \n",
    "#                       inputs=backbone_model.input, \n",
    "#                       outputs=backbone_model.get_layer(\"block_3_depthwise_relu\").output)\n",
    "# middle_model.trainable = False\n",
    "# x = GlobalAveragePooling2D()(x)"
   ]
  },
  {
   "cell_type": "code",
   "execution_count": 351,
   "metadata": {},
   "outputs": [],
   "source": [
    "COLOR = {\"red\": [234, 15, 25],\n",
    "         \"black\": [8, 30, 7],\n",
    "         \"white\": [224, 250, 248],\n",
    "         \"yellow\": [237, 229, 36],\n",
    "         \"orange\": [245, 204, 0],\n",
    "         \"grey\": [129, 121, 137],\n",
    "         \"purple\": [153, 0, 204],\n",
    "         \"green\": [51, 214, 51],\n",
    "         \"pink\": [266, 142, 204],\n",
    "         \"brown\": [153, 102, 0], \n",
    "         \"blue\": [102, 102, 255],\n",
    "         \"marine\": [8, 158, 170]}"
   ]
  },
  {
   "cell_type": "markdown",
   "metadata": {},
   "source": [
    "## Policy"
   ]
  },
  {
   "cell_type": "code",
   "execution_count": 352,
   "metadata": {},
   "outputs": [],
   "source": [
    "#             #forward pass\n",
    "#             a_dist = logits.numpy()\n",
    "#             # Choose random action with p = action dist\n",
    "#             if np.random.uniform() < self.explor_proba:\n",
    "#                 # randomization of action\n",
    "#                 a = np.random.choice([0, 1, 2])\n",
    "#             else: # choose a legitimate action\n",
    "#                 a = np.random.choice(a_dist[0], p=a_dist[0])\n",
    "#                 a = np.argmax(a_dist == a)"
   ]
  },
  {
   "cell_type": "code",
   "execution_count": 354,
   "metadata": {},
   "outputs": [],
   "source": [
    "class PolicyNN:\n",
    "    \"\"\" Policy Neural Network object\n",
    "    \"\"\"\n",
    "    \n",
    "    def __init__(self, env, name):\n",
    "        self.model_config = {\"dropout\": 0.2,\n",
    "                             \"kernel_init\": 'he_normal',\n",
    "                             \"kernel_constraint\": max_norm(4.0)}\n",
    "        self.regul_config = {\"rc_importance\": 1,\n",
    "                             \"rc_d\": 2}\n",
    "        self.lr_config = {\"initial_lr\": 1e-4,\n",
    "                          \"n_learning_step_before_reduce\": 250,\n",
    "                          \"final_lr\": 1e-7,\n",
    "                          \"prod_decay_lr\": 0.999,\n",
    "                          \"momentum\": 0.9}\n",
    "        self.exploration_config = {\"n_learning_step_before_reduce\": 1500,\n",
    "                                   \"initial_value\": 0.5,\n",
    "                                   \"final_value\": 0.1,\n",
    "                                   \"cst_decay\": 0.0025}\n",
    "        self.explor_proba = self.exploration_config[\"initial_value\"]\n",
    "        self.name = name\n",
    "        self.model_h5_path = 'models/policy-model-'+env.nn_input_mode+\"-\"+str(self.name)+'.h5'\n",
    "        self.tf_writer = tf.summary.create_file_writer(\"tf-logs/\"+env.nn_input_mode+\"-\"+str(self.name))\n",
    "        self.output_size = 3\n",
    "        self.nn_input_shape = env.nn_input_config[env.nn_input_mode][\"shape\"]\n",
    "        if os.path.exists(self.model_h5_path):\n",
    "            print(\"LOAD a pre-trained model...\")\n",
    "            self.model = load_model(self.model_h5_path)\n",
    "        else:\n",
    "            print(\"INITIALIZE a new model...\")\n",
    "            self.model = self.init_model()\n",
    "        self.optimizer = tf.keras.optimizers.Adam(learning_rate=self.lr_config[\"initial_lr\"])\n",
    "        self.loss = tf.keras.losses.SparseCategoricalCrossentropy(from_logits=True)\n",
    "        \n",
    "        self.grad_buffer = self.model.trainable_variables\n",
    "        self._reset_grad_buffer()\n",
    "        \n",
    "    def _reset_grad_buffer(self):\n",
    "        for ix, grad in enumerate(self.grad_buffer):\n",
    "            self.grad_buffer[ix] = grad * 0\n",
    "        \n",
    "\n",
    "    def init_model(self):\n",
    "        nn_input = Input(shape=self.nn_input_shape)\n",
    "        x = Dropout(rate=self.model_config[\"dropout\"])(nn_input)\n",
    "        x = Dense(128, activation='relu', kernel_initializer=self.model_config[\"kernel_init\"], \n",
    "                      kernel_constraint=self.model_config[\"kernel_constraint\"], name='dense1')(x)\n",
    "        x = Dropout(rate=self.model_config[\"dropout\"])(x)\n",
    "        x = Dense(128, activation='relu', kernel_initializer=self.model_config[\"kernel_init\"], \n",
    "                      kernel_constraint=self.model_config[\"kernel_constraint\"], name='dense2')(x)\n",
    "        x = Dropout(rate=self.model_config[\"dropout\"])(x)\n",
    "        x = Dense(self.output_size, activation='relu', \\\n",
    "                    kernel_initializer=self.model_config[\"kernel_init\"], \n",
    "                  kernel_constraint=self.model_config[\"kernel_constraint\"], name='dense4_softmax')(x)\n",
    "        output = Softmax()(x)\n",
    "        return Model(name=\"PolicyNN\", inputs=nn_input, outputs=output)\n",
    "    \n",
    "    def _update_explor_proba(self, learning_step):\n",
    "        if learning_step > self.exploration_config[\"n_learning_step_before_reduce\"] and \\\n",
    "                self.explor_proba > self.exploration_config[\"final_value\"]:\n",
    "            self.explor_proba -= self.exploration_config[\"cst_decay\"]\n",
    "    \n",
    "    def _update_lr(self, learning_step):\n",
    "        if learning_step > self.lr_config[\"n_learning_step_before_reduce\"] and \\\n",
    "                self.optimizer.lr.read_value().numpy() > self.lr_config[\"final_lr\"]:\n",
    "            self.optimizer.lr.assign(self.optimizer.lr.read_value().numpy()*self.lr_config[\"prod_decay_lr\"])\n",
    "    \n",
    "#     @tf.function\n",
    "    def __call__(self, nn_input):\n",
    "        with tf.GradientTape() as tape:\n",
    "            # forward pass\n",
    "            logits = self.model(nn_input)\n",
    "            if tf.random.uniform([]) < self.explor_proba: # randomization of action\n",
    "                a = tf.random.uniform([], minval=0, maxval=3, dtype=tf.dtypes.int32)\n",
    "            else: # choose a legitimate action\n",
    "                a = tf.random.categorical(tf.math.log(logits), 1)[0, 0]\n",
    "            try: # compute the loss value\n",
    "                loss = self.loss([a], logits)\n",
    "                loss_wr = self.model.losses\n",
    "                loss_rc =  self.regul_config['rc_importance']*tf.math.abs(logits-1/len(logits))**self.regul_config['rc_d']\n",
    "            except:\n",
    "                raise RuntimeError(\"Error caught on loss computation :\", logits, a, loss)\n",
    "        gradients = tape.gradient(loss, self.model.trainable_variables)\n",
    "        return a, logits, gradients\n",
    "    \n",
    "    def summary(self, score, length, confidence, state, choices, step):\n",
    "        with self.tf_writer.as_default():\n",
    "            tf.summary.scalar(\"metric/score\", score, step=step)\n",
    "            tf.summary.scalar(\"metric/length\", length, step=step)\n",
    "            tf.summary.scalar(\"metric/state\", state, step=step)\n",
    "            tf.summary.scalar(\"behaviour/confidence\", confidence, step=step)\n",
    "            tf.summary.scalar(\"behaviour/straight\", choices[0], step=step)\n",
    "            tf.summary.scalar(\"behaviour/left\", choices[1], step=step)\n",
    "            tf.summary.scalar(\"behaviour/right\", choices[2], step=step)\n",
    "            tf.summary.scalar(\"config/exploration\", self.explor_proba, step=step)\n",
    "            tf.summary.scalar(\"config/lr\", self.optimizer.lr.read_value(), step=step)\n",
    "        self._update_explor_proba(learning_step=step)\n",
    "        self._update_lr(learning_step=step)\n",
    "            \n",
    "    \n",
    "#     @tf.function\n",
    "    def backpropagate(self):\n",
    "        self.optimizer.apply_gradients(zip(self.grad_buffer, self.model.trainable_variables))\n",
    "        self._reset_grad_buffer()\n",
    "        \n",
    "    def save(self):\n",
    "        self.model.save(self.model_h5_path)"
   ]
  },
  {
   "cell_type": "markdown",
   "metadata": {},
   "source": [
    "## Environment"
   ]
  },
  {
   "cell_type": "code",
   "execution_count": 355,
   "metadata": {},
   "outputs": [],
   "source": [
    "class Environment:\n",
    "    # we consider grid values standardized in [0, 1]\n",
    "    # we consider grid colors in RGB in lists such as [0, 128, 255]\n",
    "    \n",
    "    def __init__(self,\n",
    "                 n_row=9, \n",
    "                 n_col=9,\n",
    "                 agent_value = 0.66,\n",
    "                 agent_head_value = 1,\n",
    "                 food_value=0.33,\n",
    "                 background_value=0,\n",
    "                 agent_color = \"yellow\",\n",
    "                 agent_head_color = \"marine\",\n",
    "                 food_color = \"red\",\n",
    "                 background_color = \"black\",\n",
    "                 image_shape = (64, 64, 3),\n",
    "                 reward_hit_wall=-100,\n",
    "                 reward_eat_yourself=-100,\n",
    "                 reward_move=-10,\n",
    "                 reward_eat_food=500,\n",
    "                 nn_input_mode=\"feature\"):\n",
    "        self.img_shape = image_shape\n",
    "        self.feature_size = 12\n",
    "        self.nn_input_mode = nn_input_mode\n",
    "        self.nn_input_config = {\"image\": {\"shape\": self.img_shape, \"pfunc\": self.get_image_grid},\n",
    "                             \"feature\": {\"shape\": self.feature_size, \"pfunc\": self.get_feature_state}}\n",
    "        self.n_row = n_row\n",
    "        self.n_col = n_col\n",
    "        self.grid_shape = (n_row, n_col)\n",
    "        self.agent_color = COLOR[agent_color] \n",
    "        self.agent_head_color = COLOR[agent_head_color] \n",
    "        self.food_color = COLOR[food_color]\n",
    "        self.background_color = COLOR[background_color]\n",
    "        self.agent_value = agent_value\n",
    "        self.agent_head_value = agent_head_value\n",
    "        self.food_value = food_value\n",
    "        self.background_value = background_value\n",
    "        self.grid = np.empty(shape=self.grid_shape)\n",
    "        self.food_pos = np.empty(shape=2)\n",
    "        self.reward = {'hit_wall': reward_hit_wall,\n",
    "                       'eat_yourself': reward_eat_yourself,\n",
    "                       'move': reward_move,\n",
    "                       'eat_food': reward_eat_food}\n",
    "        self.dict_val_to_color = {self.background_value: self.background_color,\n",
    "                             self.food_value: self.food_color,\n",
    "                             self.agent_value: self.agent_color,\n",
    "                             self.agent_head_value: self.agent_head_color}\n",
    "        self.start()\n",
    "        \n",
    "    def start(self):\n",
    "        \"\"\" Clean the grid entirely including the food\"\"\"\n",
    "        self.grid = np.zeros(shape=self.grid_shape) + self.background_value\n",
    "        \n",
    "    def update(self, agent):\n",
    "        # clean the agent from the grid\n",
    "        self.grid[np.where(self.grid == self.agent_value)] = self.background_value\n",
    "        \n",
    "        # re-position the agent on the grid\n",
    "        for pos in agent.position[:-1]:\n",
    "            self.grid[pos[0], pos[1]] = self.agent_value\n",
    "        self.grid[agent.head[0], agent.head[1]] = self.agent_head_value\n",
    "            \n",
    "        # re-position the food if eaten\n",
    "        if self.food_value not in self.grid:\n",
    "            food_pos = np.array([np.random.randint(0, self.n_row-1), np.random.randint(0, self.n_col-1)])\n",
    "            while np.array([np.array_equal(body_pos, food_pos) for body_pos in agent.position]).any():\n",
    "                food_pos = np.array([np.random.randint(0, self.n_row-1), np.random.randint(0, self.n_col-1)])\n",
    "            self.food_pos = food_pos\n",
    "            self.grid[food_pos[0], food_pos[1]] = self.food_value\n",
    "        \n",
    "    def _is_wall(self, pos):\n",
    "        return pos[0] >= np.max(self.n_row) or pos[1] >= np.max(self.n_col) or np.min(pos) <= -1\n",
    "    \n",
    "    def _is_tail(self, pos, agent):\n",
    "        return np.array([np.array_equal(body_pos, pos) for body_pos in agent.position[:-1]]).any()\n",
    "            \n",
    "    def get_feature_state(self, agent):\n",
    "        \"\"\" Return a feature vector of SIZE 12 representing the current state\"\"\"\n",
    "        # snake direction\n",
    "        direction = agent.head - agent.position[-2]\n",
    "        feature_dir = agent.action_to_feature[str(direction)]\n",
    "\n",
    "        # immediate danger\n",
    "        feature_dangers = np.zeros(shape=4)\n",
    "        for i, action in enumerate(list(agent.action_dict.keys())):\n",
    "            cur_pos = agent.head+agent.action_dict[action]\n",
    "            feature_dangers[i] = 1 * (self._is_wall(pos=cur_pos) or \\\n",
    "                                      (self._is_tail(pos=cur_pos, agent=agent) and \\\n",
    "                                       not np.array_equal(cur_pos, agent.position[-2])))\n",
    "        \n",
    "        # food position relative to the head\n",
    "        rel_pos = self.food_pos-agent.head\n",
    "        up_down_dir = np.array([int(rel_pos[0]/np.abs(rel_pos[0])) if rel_pos[0] != 0 else 0, 0])\n",
    "        left_right_dir = np.array([0, int(rel_pos[1]/np.abs(rel_pos[1])) if rel_pos[1] != 0 else 0])\n",
    "        feature_rel_food_head = agent.action_to_feature[str(up_down_dir)] + agent.action_to_feature[str(left_right_dir)]\n",
    "        \n",
    "        # concatenate all the features\n",
    "        nn_input = tf.concat([feature_dir, feature_dangers, feature_rel_food_head], axis=0)\n",
    "        nn_input = tf.expand_dims(nn_input, axis=0) # extend batch\n",
    "        nn_input = tf.cast(nn_input, dtype=tf.dtypes.float64)\n",
    "        return nn_input\n",
    "        \n",
    "            \n",
    "    def get_image_grid(self, agent):\n",
    "        \"\"\" Return the image of the grid in standardized format values in [0, 1]\"\"\"\n",
    "        nn_input = np.zeros(shape=(self.n_row, self.n_col, 3))\n",
    "        for i in range(self.n_row):\n",
    "            for j in range(self.n_col):\n",
    "                nn_input[i, j, :] = self.dict_val_to_color[self.grid[i, j]]\n",
    "        nn_input = tf.expand_dims(nn_input, axis=0)/255 # extend batch\n",
    "        nn_input = tf.image.resize(nn_input, size=self.img_shape[:-1], method=tf.image.ResizeMethod.NEAREST_NEIGHBOR)\n",
    "        return nn_input\n",
    "    \n",
    "    def pretty_display(self):\n",
    "        arr = (self.get_image_grid(agent=None)[0]*255).numpy().astype('uint8')\n",
    "        plt.imshow(arr)\n",
    "        plt.show()\n",
    "        \n",
    "    def __str__(self):\n",
    "        str_grid = \"\"\n",
    "        for row in range(self.n_row):\n",
    "            str_grid += \"|\"\n",
    "            for col in range(self.n_col):\n",
    "                val = self.grid[row, col]\n",
    "                if val == self.background_value: str_grid += \"-|\"\n",
    "                elif val == self.agent_value: str_grid += \"x|\"\n",
    "                elif val == self.agent_head_value: str_grid += \"$|\"\n",
    "                else: str_grid += \"o|\"\n",
    "            str_grid += \"\\n\"\n",
    "        return str_grid[:-1]"
   ]
  },
  {
   "cell_type": "markdown",
   "metadata": {},
   "source": [
    "## Agent"
   ]
  },
  {
   "cell_type": "code",
   "execution_count": 356,
   "metadata": {},
   "outputs": [
    {
     "data": {
      "text/plain": [
       "3"
      ]
     },
     "execution_count": 356,
     "metadata": {},
     "output_type": "execute_result"
    }
   ],
   "source": [
    "len(np.where(np.array([0, 0, 1, 0, 1]) == 0)[0])"
   ]
  },
  {
   "cell_type": "code",
   "execution_count": 357,
   "metadata": {},
   "outputs": [],
   "source": [
    "class Agent:\n",
    "    \n",
    "    def __init__(self, name, env=Environment()):\n",
    "        self.game_moves = [\"straight\", \"left\", \"right\"]\n",
    "        self.action_dict = {\"up\": np.array([-1,0]),\n",
    "                            \"left\": np.array([0,-1]),\n",
    "                            \"down\": np.array([1,0]),\n",
    "                            \"right\": np.array([0,1])}\n",
    "        self.action_to_feature = {str(np.array([-1, 0])): np.array([1, 0, 0, 0]),\n",
    "                                  str(np.array([0, -1])): np.array([0, 1, 0, 0]),\n",
    "                                  str(np.array([1, 0])): np.array([0, 0, 1, 0]),\n",
    "                                  str(np.array([0, 1])): np.array([0, 0, 0, 1]),\n",
    "                                  str(np.array([0, 0])): np.array([0, 0, 0, 0])}\n",
    "        self.env = env\n",
    "        self.size = 2\n",
    "        self.reward_factor = 0.95\n",
    "        self.position = []\n",
    "        self.tail = np.empty(shape=2)\n",
    "        self.head = np.empty(shape=2)\n",
    "        self.start()\n",
    "        self.policy = PolicyNN(name=name, env=self.env)\n",
    "        self.moves = list(self.action_dict.keys())\n",
    "        self.alive = True\n",
    "    \n",
    "    def __len__(self):\n",
    "        return len(self.position)\n",
    "        \n",
    "    def start(self):\n",
    "        self.env.start() # restore the env\n",
    "        \n",
    "        # generate its position on the grid\n",
    "        head = np.array([np.random.randint(1, self.env.n_row-1), np.random.randint(1, self.env.n_col-1)])\n",
    "        randomize_tail = list(self.action_dict.values())\n",
    "        tail = head + randomize_tail[np.random.choice([x for x in range(len(randomize_tail))])]\n",
    "        self.position = [tail, head]\n",
    "        self.tail = tail\n",
    "        self.head = head\n",
    "        self.alive = True # make the agent alive again\n",
    "    \n",
    "    def run(self, debug=False, pretty_display=False, inference=False, max_state=1000):\n",
    "        self.start()\n",
    "        grad_stock, reward_stock, action_stock = [], [], []\n",
    "        t = 0\n",
    "        while self.alive and t < max_state: # run simulation trajectory\n",
    "            self.env.update(agent=self)\n",
    "            a_t, dist_proba, g_t = self.next_action()\n",
    "            if debug:\n",
    "                print(\"STATE: \"+str(t)+\"\\nFeature state :\"+str(self.env.nn_input_config[\"feature\"][\"pfunc\"](self)))\n",
    "            r_t = self.update(game_action=self.game_moves[a_t])\n",
    "            grad_stock.append(g_t) # stock gradients & reward at time t\n",
    "            reward_stock.append(r_t)\n",
    "            action_stock.append(a_t)\n",
    "            # display on console\n",
    "            if debug:\n",
    "                print(\"Action: \"+self.game_moves[a_t]+\"\\nDist proba: \"+str(dist_proba)+\"\\nReward: \"+str(r_t))\n",
    "            if pretty_display:\n",
    "                self.env.pretty_display()\n",
    "            elif debug:\n",
    "                print(str(self.env))\n",
    "            t += 1\n",
    "            \n",
    "        # metrics \n",
    "        score = sum(reward_stock) # sum all rewards\n",
    "        length = len(self)\n",
    "        confidence = np.max(dist_proba)\n",
    "        choices = np.asarray([len(np.where(np.array(action_stock) == i)[0]) for i in range(len(self.game_moves))])\n",
    "        norm_choices = choices/t\n",
    "        \n",
    "        # gradients calculation for trajectory\n",
    "        cum_rewards_disc = self._rewards_discount(reward_stock)\n",
    "        for grads, r in zip(grad_stock, cum_rewards_disc):\n",
    "            for ix, grad in enumerate(grads):\n",
    "                self.policy.grad_buffer[ix] += grad * r\n",
    "        \n",
    "        if debug:\n",
    "            print(\"DEAD at state t=\"+str(t)+\" with score=\"+str(score)+ \" with length Snake=\"+str(length))\n",
    "        return score, length, confidence, t, norm_choices\n",
    "                \n",
    "    def _rewards_discount(self, rewards):\n",
    "        discounted_rewards = []\n",
    "        for t in range(len(rewards)):\n",
    "            Gt = 0\n",
    "            for pw, r in enumerate(rewards[t:]):\n",
    "                Gt += (self.reward_factor**pw)*r\n",
    "            discounted_rewards.append(Gt)\n",
    "        return discounted_rewards\n",
    "            \n",
    "    def update(self, game_action):\n",
    "        previous_dist_from_food = distance_matrix([self.head], [self.env.food_pos])[0, 0]\n",
    "        \n",
    "        # VERSION straight, left, right choices\n",
    "        direction = self.head - self.position[-2]\n",
    "        if game_action == \"straight\":\n",
    "            if np.array_equal(direction, self.action_dict[\"up\"]): action = \"up\"\n",
    "            elif np.array_equal(direction, self.action_dict[\"left\"]): action = \"left\"\n",
    "            elif np.array_equal(direction, self.action_dict[\"down\"]): action = \"down\"\n",
    "            elif np.array_equal(direction, self.action_dict[\"right\"]): action = \"right\"\n",
    "        elif game_action == \"left\":\n",
    "            if np.array_equal(direction, self.action_dict[\"up\"]): action = \"left\"\n",
    "            elif np.array_equal(direction, self.action_dict[\"left\"]): action = \"down\"\n",
    "            elif np.array_equal(direction, self.action_dict[\"down\"]): action = \"right\"\n",
    "            elif np.array_equal(direction, self.action_dict[\"right\"]): action = \"up\"\n",
    "        elif game_action == \"right\":\n",
    "            if np.array_equal(direction, self.action_dict[\"up\"]): action = \"right\"\n",
    "            elif np.array_equal(direction, self.action_dict[\"left\"]): action = \"up\"\n",
    "            elif np.array_equal(direction, self.action_dict[\"down\"]): action = \"left\"\n",
    "            elif np.array_equal(direction, self.action_dict[\"right\"]): action = \"down\"\n",
    "        \n",
    "        new_tmp_head = self.head+self.action_dict[action]\n",
    "        self.position.append(new_tmp_head)\n",
    "        self.head = self.position[-1]\n",
    "\n",
    "        if self.env._is_wall(pos=self.head):\n",
    "            self.position = self.position[1:] # change the position of the tail \n",
    "            self.alive = False # dead you HIT A WALL\n",
    "            reward_t = self.env.reward['hit_wall']\n",
    "\n",
    "        elif self.env._is_tail(pos=self.head, agent=self):\n",
    "            self.position = self.position[1:]\n",
    "            self.alive = False # dead HIT YOURSELF\n",
    "            reward_t = self.env.reward['eat_yourself']\n",
    "\n",
    "        elif self.env.grid[self.head[0], self.head[1]] != self.env.food_value: # no food was eaten\n",
    "            self.position = self.position[1:] \n",
    "            self.tail = self.position[0]\n",
    "            current_dist_from_food = distance_matrix([self.head], [self.env.food_pos])[0, 0]\n",
    "            # reward for a simple MOVE => if dist from food < than before then positive reward\n",
    "            reward_t = (current_dist_from_food-previous_dist_from_food)*self.env.reward['move']\n",
    "#             reward_t = self.env.reward['move']\n",
    "            \n",
    "        else: # move and food eaten\n",
    "            reward_t = self.env.reward['eat_food'] # EAT FOOD\n",
    "            \n",
    "        return reward_t\n",
    "                \n",
    "        \n",
    "    def train(self, epochs, batch_size=2, debug=False, summary_step=20, save_step=250):\n",
    "        K.set_learning_phase(1)\n",
    "        \n",
    "        for i in tqdm(range(epochs), position=0, leave=True):\n",
    "            for b in range(batch_size):\n",
    "                score, length, confidence, t, c = self.run(debug=debug)\n",
    "            if i % summary_step == 0: self.policy.summary(score, length, confidence, t, c, step=i)\n",
    "            self.policy.backpropagate()\n",
    "            if i % save_step == 0: self.policy.save()\n",
    "\n",
    "    def next_action(self):\n",
    "        nn_input = self.env.nn_input_config[self.env.nn_input_mode][\"pfunc\"](self)\n",
    "        idx_action, dist_proba, gradients = self.policy(nn_input=nn_input)\n",
    "        return idx_action, dist_proba, gradients\n",
    "        \n",
    "    def __call__(self):\n",
    "        print(\"TODO\")\n",
    "        \n",
    "    def __str__(self):\n",
    "        return self.size"
   ]
  },
  {
   "cell_type": "code",
   "execution_count": 358,
   "metadata": {},
   "outputs": [
    {
     "name": "stdout",
     "output_type": "stream",
     "text": [
      "INITIALIZE a new model...\n",
      "\n"
     ]
    }
   ],
   "source": [
    "agent = Agent(name=\"debug11-9x9\")\n",
    "agent.run(debug=False, inference=True)\n",
    "print()"
   ]
  },
  {
   "cell_type": "code",
   "execution_count": 361,
   "metadata": {},
   "outputs": [
    {
     "name": "stderr",
     "output_type": "stream",
     "text": [
      "100%|████████████████████████████████████████████████████████████████████████████| 10000/10000 [33:07<00:00,  5.03it/s]\n"
     ]
    }
   ],
   "source": [
    "# %%prun -s cumulative -l ipython\n",
    "agent.train(epochs=10000, batch_size=1, debug=False)"
   ]
  },
  {
   "cell_type": "code",
   "execution_count": 363,
   "metadata": {},
   "outputs": [
    {
     "name": "stdout",
     "output_type": "stream",
     "text": [
      "STATE: 0\n",
      "Feature state :tf.Tensor([[0. 1. 0. 0. 0. 0. 0. 0. 1. 0. 0. 1.]], shape=(1, 12), dtype=float64)\n",
      "Action: right\n",
      "Dist proba: tf.Tensor([[2.01463422e-07 2.01463422e-07 9.99999597e-01]], shape=(1, 3), dtype=float64)\n",
      "Reward: 9.55554568943759\n"
     ]
    },
    {
     "data": {
      "image/png": "[encoded data removed]",
      "text/plain": [
       "<Figure size 432x288 with 1 Axes>"
      ]
     },
     "metadata": {
      "needs_background": "light"
     },
     "output_type": "display_data"
    },
    {
     "name": "stdout",
     "output_type": "stream",
     "text": [
      "STATE: 1\n",
      "Feature state :tf.Tensor([[1. 0. 0. 0. 0. 0. 0. 0. 1. 0. 0. 1.]], shape=(1, 12), dtype=float64)\n",
      "Action: straight\n",
      "Dist proba: tf.Tensor([[9.99720175e-01 2.31525155e-05 2.56672596e-04]], shape=(1, 3), dtype=float64)\n",
      "Reward: 9.393905132022553\n"
     ]
    },
    {
     "data": {
      "image/png": "[encoded data removed]",
      "text/plain": [
       "<Figure size 432x288 with 1 Axes>"
      ]
     },
     "metadata": {
      "needs_background": "light"
     },
     "output_type": "display_data"
    },
    {
     "name": "stdout",
     "output_type": "stream",
     "text": [
      "STATE: 2\n",
      "Feature state :tf.Tensor([[1. 0. 0. 0. 0. 0. 0. 0. 1. 0. 0. 1.]], shape=(1, 12), dtype=float64)\n",
      "Action: right\n",
      "Dist proba: tf.Tensor([[3.27570563e-04 3.27570563e-04 9.99344859e-01]], shape=(1, 3), dtype=float64)\n",
      "Reward: 2.8614529354171925\n"
     ]
    },
    {
     "data": {
      "image/png": "[encoded data removed]",
      "text/plain": [
       "<Figure size 432x288 with 1 Axes>"
      ]
     },
     "metadata": {
      "needs_background": "light"
     },
     "output_type": "display_data"
    },
    {
     "name": "stdout",
     "output_type": "stream",
     "text": [
      "STATE: 3\n",
      "Feature state :tf.Tensor([[0. 0. 0. 1. 0. 0. 0. 0. 1. 0. 0. 1.]], shape=(1, 12), dtype=float64)\n",
      "Action: straight\n",
      "Dist proba: tf.Tensor([[0.9391988  0.03837238 0.02242882]], shape=(1, 3), dtype=float64)\n",
      "Reward: 0.9901951359278449\n"
     ]
    },
    {
     "data": {
      "image/png": "[encoded data removed]",
      "text/plain": [
       "<Figure size 432x288 with 1 Axes>"
      ]
     },
     "metadata": {
      "needs_background": "light"
     },
     "output_type": "display_data"
    },
    {
     "name": "stdout",
     "output_type": "stream",
     "text": [
      "STATE: 4\n",
      "Feature state :tf.Tensor([[0. 0. 0. 1. 0. 0. 0. 0. 1. 0. 0. 0.]], shape=(1, 12), dtype=float64)\n",
      "Action: left\n",
      "Dist proba: tf.Tensor([[1.01114379e-04 9.99868474e-01 3.04118836e-05]], shape=(1, 3), dtype=float64)\n",
      "Reward: 10.0\n"
     ]
    },
    {
     "data": {
      "image/png": "[encoded data removed]",
      "text/plain": [
       "<Figure size 432x288 with 1 Axes>"
      ]
     },
     "metadata": {
      "needs_background": "light"
     },
     "output_type": "display_data"
    },
    {
     "name": "stdout",
     "output_type": "stream",
     "text": [
      "STATE: 5\n",
      "Feature state :tf.Tensor([[1. 0. 0. 0. 0. 0. 0. 0. 1. 0. 0. 0.]], shape=(1, 12), dtype=float64)\n",
      "Action: right\n",
      "Dist proba: tf.Tensor([[0.20613465 0.34570605 0.44815931]], shape=(1, 3), dtype=float64)\n",
      "Reward: -1.2310562561766059\n"
     ]
    },
    {
     "data": {
      "image/png": "[encoded data removed]",
      "text/plain": [
       "<Figure size 432x288 with 1 Axes>"
      ]
     },
     "metadata": {
      "needs_background": "light"
     },
     "output_type": "display_data"
    },
    {
     "name": "stdout",
     "output_type": "stream",
     "text": [
      "STATE: 6\n",
      "Feature state :tf.Tensor([[0. 0. 0. 1. 0. 0. 0. 0. 1. 1. 0. 0.]], shape=(1, 12), dtype=float64)\n",
      "Action: left\n",
      "Dist proba: tf.Tensor([[1.87898433e-06 9.99996242e-01 1.87898433e-06]], shape=(1, 3), dtype=float64)\n",
      "Reward: 9.608279654492812\n"
     ]
    },
    {
     "data": {
      "image/png": "[encoded data removed]",
      "text/plain": [
       "<Figure size 432x288 with 1 Axes>"
      ]
     },
     "metadata": {
      "needs_background": "light"
     },
     "output_type": "display_data"
    },
    {
     "name": "stdout",
     "output_type": "stream",
     "text": [
      "STATE: 7\n",
      "Feature state :tf.Tensor([[1. 0. 0. 0. 0. 0. 0. 0. 1. 1. 0. 0.]], shape=(1, 12), dtype=float64)\n",
      "Action: straight\n",
      "Dist proba: tf.Tensor([[9.99833022e-01 9.66379394e-05 7.03403613e-05]], shape=(1, 3), dtype=float64)\n",
      "Reward: 9.262096826685898\n"
     ]
    },
    {
     "data": {
      "image/png": "[encoded data removed]",
      "text/plain": [
       "<Figure size 432x288 with 1 Axes>"
      ]
     },
     "metadata": {
      "needs_background": "light"
     },
     "output_type": "display_data"
    },
    {
     "name": "stdout",
     "output_type": "stream",
     "text": [
      "STATE: 8\n",
      "Feature state :tf.Tensor([[1. 0. 0. 0. 0. 0. 0. 0. 1. 1. 0. 0.]], shape=(1, 12), dtype=float64)\n",
      "Action: left\n",
      "Dist proba: tf.Tensor([[3.97871940e-06 9.99977516e-01 1.85049623e-05]], shape=(1, 3), dtype=float64)\n",
      "Reward: 2.360679774997898\n"
     ]
    },
    {
     "data": {
      "image/png": "[encoded data removed]",
      "text/plain": [
       "<Figure size 432x288 with 1 Axes>"
      ]
     },
     "metadata": {
      "needs_background": "light"
     },
     "output_type": "display_data"
    },
    {
     "name": "stdout",
     "output_type": "stream",
     "text": [
      "STATE: 9\n",
      "Feature state :tf.Tensor([[0. 1. 0. 0. 0. 0. 0. 0. 1. 0. 0. 0.]], shape=(1, 12), dtype=float64)\n",
      "Action: right\n",
      "Dist proba: tf.Tensor([[3.05909376e-04 3.05909376e-04 9.99388181e-01]], shape=(1, 3), dtype=float64)\n",
      "Reward: 10.0\n"
     ]
    },
    {
     "data": {
      "image/png": "[encoded data removed]",
      "text/plain": [
       "<Figure size 432x288 with 1 Axes>"
      ]
     },
     "metadata": {
      "needs_background": "light"
     },
     "output_type": "display_data"
    },
    {
     "name": "stdout",
     "output_type": "stream",
     "text": [
      "STATE: 10\n",
      "Feature state :tf.Tensor([[1. 0. 0. 0. 0. 0. 0. 0. 1. 0. 0. 0.]], shape=(1, 12), dtype=float64)\n",
      "Action: right\n",
      "Dist proba: tf.Tensor([[9.99908132e-01 7.02226771e-05 2.16452458e-05]], shape=(1, 3), dtype=float64)\n",
      "Reward: -4.142135623730951\n"
     ]
    },
    {
     "data": {
      "image/png": "[encoded data removed]",
      "text/plain": [
       "<Figure size 432x288 with 1 Axes>"
      ]
     },
     "metadata": {
      "needs_background": "light"
     },
     "output_type": "display_data"
    },
    {
     "name": "stdout",
     "output_type": "stream",
     "text": [
      "STATE: 11\n",
      "Feature state :tf.Tensor([[0. 0. 0. 1. 0. 0. 0. 0. 1. 1. 0. 0.]], shape=(1, 12), dtype=float64)\n",
      "Action: left\n",
      "Dist proba: tf.Tensor([[7.31639263e-06 9.99602914e-01 3.89769772e-04]], shape=(1, 3), dtype=float64)\n",
      "Reward: 4.142135623730951\n"
     ]
    },
    {
     "data": {
      "image/png": "[encoded data removed]",
      "text/plain": [
       "<Figure size 432x288 with 1 Axes>"
      ]
     },
     "metadata": {
      "needs_background": "light"
     },
     "output_type": "display_data"
    },
    {
     "name": "stdout",
     "output_type": "stream",
     "text": [
      "STATE: 12\n",
      "Feature state :tf.Tensor([[1. 0. 0. 0. 1. 0. 0. 0. 0. 1. 0. 0.]], shape=(1, 12), dtype=float64)\n",
      "Action: left\n",
      "Dist proba: tf.Tensor([[1.99996873e-05 9.99930569e-01 4.94308989e-05]], shape=(1, 3), dtype=float64)\n",
      "Reward: 500\n"
     ]
    },
    {
     "data": {
      "image/png": "[encoded data removed]",
      "text/plain": [
       "<Figure size 432x288 with 1 Axes>"
      ]
     },
     "metadata": {
      "needs_background": "light"
     },
     "output_type": "display_data"
    },
    {
     "name": "stdout",
     "output_type": "stream",
     "text": [
      "STATE: 13\n",
      "Feature state :tf.Tensor([[0. 1. 0. 0. 1. 0. 0. 0. 0. 0. 0. 1.]], shape=(1, 12), dtype=float64)\n",
      "Action: left\n",
      "Dist proba: tf.Tensor([[0.00371174 0.91108465 0.08520362]], shape=(1, 3), dtype=float64)\n",
      "Reward: -2.360679774997898\n"
     ]
    },
    {
     "data": {
      "image/png": "[encoded data removed]",
      "text/plain": [
       "<Figure size 432x288 with 1 Axes>"
      ]
     },
     "metadata": {
      "needs_background": "light"
     },
     "output_type": "display_data"
    },
    {
     "name": "stdout",
     "output_type": "stream",
     "text": [
      "STATE: 14\n",
      "Feature state :tf.Tensor([[0. 0. 1. 0. 0. 0. 0. 0. 1. 0. 0. 1.]], shape=(1, 12), dtype=float64)\n",
      "Action: right\n",
      "Dist proba: tf.Tensor([[4.79547096e-05 5.56041436e-06 9.99946485e-01]], shape=(1, 3), dtype=float64)\n",
      "Reward: -9.262096826685898\n"
     ]
    },
    {
     "data": {
      "image/png": "[encoded data removed]",
      "text/plain": [
       "<Figure size 432x288 with 1 Axes>"
      ]
     },
     "metadata": {
      "needs_background": "light"
     },
     "output_type": "display_data"
    },
    {
     "name": "stdout",
     "output_type": "stream",
     "text": [
      "STATE: 15\n",
      "Feature state :tf.Tensor([[0. 1. 0. 0. 0. 0. 0. 0. 1. 0. 0. 1.]], shape=(1, 12), dtype=float64)\n",
      "Action: right\n",
      "Dist proba: tf.Tensor([[2.49698087e-09 2.49698087e-09 9.99999995e-01]], shape=(1, 3), dtype=float64)\n",
      "Reward: 1.6227766016837952\n"
     ]
    },
    {
     "data": {
      "image/png": "[encoded data removed]",
      "text/plain": [
       "<Figure size 432x288 with 1 Axes>"
      ]
     },
     "metadata": {
      "needs_background": "light"
     },
     "output_type": "display_data"
    },
    {
     "name": "stdout",
     "output_type": "stream",
     "text": [
      "STATE: 16\n",
      "Feature state :tf.Tensor([[1. 0. 0. 0. 1. 0. 0. 0. 0. 0. 0. 1.]], shape=(1, 12), dtype=float64)\n",
      "Action: right\n",
      "Dist proba: tf.Tensor([[2.69214777e-05 2.69214777e-05 9.99946157e-01]], shape=(1, 3), dtype=float64)\n",
      "Reward: 10.0\n"
     ]
    },
    {
     "data": {
      "image/png": "[encoded data removed]",
      "text/plain": [
       "<Figure size 432x288 with 1 Axes>"
      ]
     },
     "metadata": {
      "needs_background": "light"
     },
     "output_type": "display_data"
    },
    {
     "name": "stdout",
     "output_type": "stream",
     "text": [
      "STATE: 17\n",
      "Feature state :tf.Tensor([[0. 0. 0. 1. 1. 0. 0. 0. 0. 0. 0. 1.]], shape=(1, 12), dtype=float64)\n",
      "Action: straight\n",
      "Dist proba: tf.Tensor([[0.32633151 0.64489859 0.02876989]], shape=(1, 3), dtype=float64)\n",
      "Reward: 10.0\n"
     ]
    },
    {
     "data": {
      "image/png": "[encoded data removed]",
      "text/plain": [
       "<Figure size 432x288 with 1 Axes>"
      ]
     },
     "metadata": {
      "needs_background": "light"
     },
     "output_type": "display_data"
    },
    {
     "name": "stdout",
     "output_type": "stream",
     "text": [
      "STATE: 18\n",
      "Feature state :tf.Tensor([[0. 0. 0. 1. 1. 0. 0. 0. 0. 0. 0. 1.]], shape=(1, 12), dtype=float64)\n",
      "Action: straight\n",
      "Dist proba: tf.Tensor([[9.90540740e-01 6.01928318e-05 9.39906731e-03]], shape=(1, 3), dtype=float64)\n",
      "Reward: 500\n"
     ]
    },
    {
     "data": {
      "image/png": "[encoded data removed]",
      "text/plain": [
       "<Figure size 432x288 with 1 Axes>"
      ]
     },
     "metadata": {
      "needs_background": "light"
     },
     "output_type": "display_data"
    },
    {
     "name": "stdout",
     "output_type": "stream",
     "text": [
      "STATE: 19\n",
      "Feature state :tf.Tensor([[0. 0. 0. 1. 1. 0. 0. 0. 0. 1. 1. 0.]], shape=(1, 12), dtype=float64)\n",
      "Action: right\n",
      "Dist proba: tf.Tensor([[5.45381047e-03 4.98469023e-04 9.94047721e-01]], shape=(1, 3), dtype=float64)\n",
      "Reward: 5.028986184286088\n"
     ]
    },
    {
     "data": {
      "image/png": "[encoded data removed]",
      "text/plain": [
       "<Figure size 432x288 with 1 Axes>"
      ]
     },
     "metadata": {
      "needs_background": "light"
     },
     "output_type": "display_data"
    },
    {
     "name": "stdout",
     "output_type": "stream",
     "text": [
      "STATE: 20\n",
      "Feature state :tf.Tensor([[0. 0. 1. 0. 0. 0. 0. 0. 0. 1. 1. 0.]], shape=(1, 12), dtype=float64)\n",
      "Action: right\n",
      "Dist proba: tf.Tensor([[4.67487493e-04 6.36149364e-05 9.99468898e-01]], shape=(1, 3), dtype=float64)\n",
      "Reward: 8.772520376540687\n"
     ]
    },
    {
     "data": {
      "image/png": "[encoded data removed]",
      "text/plain": [
       "<Figure size 432x288 with 1 Axes>"
      ]
     },
     "metadata": {
      "needs_background": "light"
     },
     "output_type": "display_data"
    },
    {
     "name": "stdout",
     "output_type": "stream",
     "text": [
      "STATE: 21\n",
      "Feature state :tf.Tensor([[0. 1. 0. 0. 1. 0. 0. 0. 0. 1. 1. 0.]], shape=(1, 12), dtype=float64)\n",
      "Action: left\n",
      "Dist proba: tf.Tensor([[3.96700142e-06 9.99992066e-01 3.96700142e-06]], shape=(1, 3), dtype=float64)\n",
      "Reward: 4.45787087710797\n"
     ]
    },
    {
     "data": {
      "image/png": "[encoded data removed]",
      "text/plain": [
       "<Figure size 432x288 with 1 Axes>"
      ]
     },
     "metadata": {
      "needs_background": "light"
     },
     "output_type": "display_data"
    },
    {
     "name": "stdout",
     "output_type": "stream",
     "text": [
      "STATE: 22\n",
      "Feature state :tf.Tensor([[0. 0. 1. 0. 0. 0. 0. 0. 0. 1. 1. 0.]], shape=(1, 12), dtype=float64)\n",
      "Action: right\n",
      "Dist proba: tf.Tensor([[0.00131326 0.03458016 0.96410658]], shape=(1, 3), dtype=float64)\n",
      "Reward: 9.130288521349241\n"
     ]
    },
    {
     "data": {
      "image/png": "[encoded data removed]",
      "text/plain": [
       "<Figure size 432x288 with 1 Axes>"
      ]
     },
     "metadata": {
      "needs_background": "light"
     },
     "output_type": "display_data"
    },
    {
     "name": "stdout",
     "output_type": "stream",
     "text": [
      "STATE: 23\n",
      "Feature state :tf.Tensor([[0. 1. 0. 0. 0. 0. 0. 0. 0. 1. 1. 0.]], shape=(1, 12), dtype=float64)\n",
      "Action: left\n",
      "Dist proba: tf.Tensor([[2.32324996e-07 9.99993713e-01 6.05457077e-06]], shape=(1, 3), dtype=float64)\n",
      "Reward: 3.4903032938191902\n"
     ]
    },
    {
     "data": {
      "image/png": "[encoded data removed]",
      "text/plain": [
       "<Figure size 432x288 with 1 Axes>"
      ]
     },
     "metadata": {
      "needs_background": "light"
     },
     "output_type": "display_data"
    },
    {
     "name": "stdout",
     "output_type": "stream",
     "text": [
      "STATE: 24\n",
      "Feature state :tf.Tensor([[0. 0. 1. 0. 0. 0. 0. 0. 0. 1. 1. 0.]], shape=(1, 12), dtype=float64)\n",
      "Action: right\n",
      "Dist proba: tf.Tensor([[4.95357946e-07 1.55100930e-06 9.99997954e-01]], shape=(1, 3), dtype=float64)\n",
      "Reward: 9.608279654492812\n"
     ]
    },
    {
     "data": {
      "image/png": "[encoded data removed]",
      "text/plain": [
       "<Figure size 432x288 with 1 Axes>"
      ]
     },
     "metadata": {
      "needs_background": "light"
     },
     "output_type": "display_data"
    },
    {
     "name": "stdout",
     "output_type": "stream",
     "text": [
      "STATE: 25\n",
      "Feature state :tf.Tensor([[0. 1. 0. 0. 0. 0. 0. 0. 0. 1. 1. 0.]], shape=(1, 12), dtype=float64)\n",
      "Action: left\n",
      "Dist proba: tf.Tensor([[1.88114480e-04 7.77869534e-01 2.21942352e-01]], shape=(1, 3), dtype=float64)\n",
      "Reward: 1.6227766016837952\n"
     ]
    },
    {
     "data": {
      "image/png": "[encoded data removed]",
      "text/plain": [
       "<Figure size 432x288 with 1 Axes>"
      ]
     },
     "metadata": {
      "needs_background": "light"
     },
     "output_type": "display_data"
    },
    {
     "name": "stdout",
     "output_type": "stream",
     "text": [
      "STATE: 26\n",
      "Feature state :tf.Tensor([[0. 0. 1. 0. 0. 0. 0. 0. 0. 1. 0. 0.]], shape=(1, 12), dtype=float64)\n",
      "Action: left\n",
      "Dist proba: tf.Tensor([[2.35698928e-05 9.99618210e-01 3.58220003e-04]], shape=(1, 3), dtype=float64)\n",
      "Reward: -10.0\n"
     ]
    },
    {
     "data": {
      "image/png": "[encoded data removed]",
      "text/plain": [
       "<Figure size 432x288 with 1 Axes>"
      ]
     },
     "metadata": {
      "needs_background": "light"
     },
     "output_type": "display_data"
    },
    {
     "name": "stdout",
     "output_type": "stream",
     "text": [
      "STATE: 27\n",
      "Feature state :tf.Tensor([[0. 0. 0. 1. 1. 0. 0. 0. 0. 1. 0. 0.]], shape=(1, 12), dtype=float64)\n",
      "Action: left\n",
      "Dist proba: tf.Tensor([[1.79389052e-04 9.93988583e-01 5.83202831e-03]], shape=(1, 3), dtype=float64)\n",
      "Reward: -100\n"
     ]
    },
    {
     "data": {
      "image/png": "[encoded data removed]",
      "text/plain": [
       "<Figure size 432x288 with 1 Axes>"
      ]
     },
     "metadata": {
      "needs_background": "light"
     },
     "output_type": "display_data"
    },
    {
     "name": "stdout",
     "output_type": "stream",
     "text": [
      "DEAD at state t=28 with score=1004.912124402085 with length Snake=4\n",
      "tested\n"
     ]
    }
   ],
   "source": [
    "agent.run(pretty_display=True, debug=True, inference=True)\n",
    "print(\"tested\")"
   ]
  }
 ],
 "metadata": {
  "kernelspec": {
   "display_name": "Python 3",
   "language": "python",
   "name": "python3"
  },
  "language_info": {
   "codemirror_mode": {
    "name": "ipython",
    "version": 3
   },
   "file_extension": ".py",
   "mimetype": "text/x-python",
   "name": "python",
   "nbconvert_exporter": "python",
   "pygments_lexer": "ipython3",
   "version": "3.6.6"
  }
 },
 "nbformat": 4,
 "nbformat_minor": 4
}
